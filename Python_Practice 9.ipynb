{
 "cells": [
  {
   "cell_type": "markdown",
   "id": "e8d106e0",
   "metadata": {},
   "source": [
    "# 1. To what does a relative path refer?\n"
   ]
  },
  {
   "cell_type": "markdown",
   "id": "f0fbb2b5",
   "metadata": {},
   "source": [
    "A relative path in python determines at which location current or opend file is located."
   ]
  },
  {
   "cell_type": "markdown",
   "id": "8fd91fd4",
   "metadata": {},
   "source": [
    "# 2. What does an absolute path start with your operating system?\n"
   ]
  },
  {
   "cell_type": "markdown",
   "id": "96a137a0",
   "metadata": {},
   "source": [
    "An absolute path is the full patho or location of a file or directory. It starts with '/' symbol."
   ]
  },
  {
   "cell_type": "markdown",
   "id": "1b782cb5",
   "metadata": {},
   "source": [
    "# 3. What do the functions os.getcwd() and os.chdir() do?\n"
   ]
  },
  {
   "cell_type": "code",
   "execution_count": 1,
   "id": "58b6f700",
   "metadata": {},
   "outputs": [],
   "source": [
    "import os"
   ]
  },
  {
   "cell_type": "code",
   "execution_count": 4,
   "id": "dd8deba9",
   "metadata": {},
   "outputs": [
    {
     "data": {
      "text/plain": [
       "'C:\\\\Users\\\\Sourabh'"
      ]
     },
     "execution_count": 4,
     "metadata": {},
     "output_type": "execute_result"
    }
   ],
   "source": [
    "os.getcwd() #it shows my current working direcctory."
   ]
  },
  {
   "cell_type": "code",
   "execution_count": 5,
   "id": "6b49c16d",
   "metadata": {},
   "outputs": [],
   "source": [
    "os.chdir('C:\\\\Users\\\\Sourabh\\\\Downloads') #it changes the directory"
   ]
  },
  {
   "cell_type": "code",
   "execution_count": 6,
   "id": "7e19c63e",
   "metadata": {},
   "outputs": [
    {
     "data": {
      "text/plain": [
       "'C:\\\\Users\\\\Sourabh\\\\Downloads'"
      ]
     },
     "execution_count": 6,
     "metadata": {},
     "output_type": "execute_result"
    }
   ],
   "source": [
    "os.getcwd()"
   ]
  },
  {
   "cell_type": "markdown",
   "id": "f0015f87",
   "metadata": {},
   "source": [
    "# 4. What are the . and .. folders?"
   ]
  },
  {
   "cell_type": "markdown",
   "id": "33a149de",
   "metadata": {},
   "source": [
    "Single '.' is used for current diirectory and double '..' is used for parent directory."
   ]
  },
  {
   "cell_type": "markdown",
   "id": "2af5c1af",
   "metadata": {},
   "source": [
    "# 5. In C:\\bacon\\eggs\\spam.txt, which part is the dir name, and which part is the base name?"
   ]
  },
  {
   "cell_type": "markdown",
   "id": "e24de954",
   "metadata": {},
   "source": [
    "A directory name is which determines the file location and name; which is \"C:\\bacon\\eggs\\\" and base name is the name of file or folder; which is \"spam.txt\".."
   ]
  },
  {
   "cell_type": "markdown",
   "id": "98052de8",
   "metadata": {},
   "source": [
    "# 6. What are the three “mode” arguments that can be passed to the open() function?\n",
    "\n"
   ]
  },
  {
   "cell_type": "markdown",
   "id": "7d782108",
   "metadata": {},
   "source": [
    "The 3 mode are:\n",
    "1. 'r':- In read mode any file can be opened and can be read.\n",
    "2. 'w':- In write mode any file can be opened and can be write.\n",
    "3. 'r+':-  In readlines mode any file can be opened, read, write, can track where the lines are beginng. We can also set and seek our cursor in the file. "
   ]
  },
  {
   "cell_type": "markdown",
   "id": "b26de518",
   "metadata": {},
   "source": [
    "# 7. What happens if an existing file is opened in write mode?\n"
   ]
  },
  {
   "cell_type": "markdown",
   "id": "ab26f7f0",
   "metadata": {},
   "source": [
    "This will allow to write something and update the file."
   ]
  },
  {
   "cell_type": "code",
   "execution_count": 13,
   "id": "e52f317c",
   "metadata": {},
   "outputs": [
    {
     "data": {
      "text/plain": [
       "28"
      ]
     },
     "execution_count": 13,
     "metadata": {},
     "output_type": "execute_result"
    }
   ],
   "source": [
    "f=open('test.txt','w')\n",
    "f.write(\"This is opened in write mode\")\n"
   ]
  },
  {
   "cell_type": "markdown",
   "id": "27187777",
   "metadata": {},
   "source": [
    "# 8. How do you tell the difference between read() and readlines()?\n"
   ]
  },
  {
   "cell_type": "markdown",
   "id": "df39188f",
   "metadata": {},
   "source": [
    "read() will read the entire file and prints the first character whereas the readlines reads single line at a time and prints the line."
   ]
  },
  {
   "cell_type": "code",
   "execution_count": 15,
   "id": "69cf5ea3",
   "metadata": {},
   "outputs": [],
   "source": [
    "f= open('test.txt')"
   ]
  },
  {
   "cell_type": "code",
   "execution_count": 16,
   "id": "99f73a79",
   "metadata": {},
   "outputs": [
    {
     "data": {
      "text/plain": [
       "'This is opened in write mode'"
      ]
     },
     "execution_count": 16,
     "metadata": {},
     "output_type": "execute_result"
    }
   ],
   "source": [
    "f.read()"
   ]
  },
  {
   "cell_type": "code",
   "execution_count": 17,
   "id": "afe7baaf",
   "metadata": {},
   "outputs": [],
   "source": [
    "f = open('test.txt','r+')"
   ]
  },
  {
   "cell_type": "code",
   "execution_count": 18,
   "id": "04cc264d",
   "metadata": {},
   "outputs": [
    {
     "data": {
      "text/plain": [
       "0"
      ]
     },
     "execution_count": 18,
     "metadata": {},
     "output_type": "execute_result"
    }
   ],
   "source": [
    "f.seek(0)"
   ]
  },
  {
   "cell_type": "code",
   "execution_count": 19,
   "id": "708bb677",
   "metadata": {},
   "outputs": [
    {
     "data": {
      "text/plain": [
       "0"
      ]
     },
     "execution_count": 19,
     "metadata": {},
     "output_type": "execute_result"
    }
   ],
   "source": [
    "f.tell()"
   ]
  },
  {
   "cell_type": "code",
   "execution_count": 20,
   "id": "f1d2464e",
   "metadata": {},
   "outputs": [
    {
     "data": {
      "text/plain": [
       "['This is opened in write mode']"
      ]
     },
     "execution_count": 20,
     "metadata": {},
     "output_type": "execute_result"
    }
   ],
   "source": [
    "f.readlines()"
   ]
  },
  {
   "cell_type": "markdown",
   "id": "490c004d",
   "metadata": {},
   "source": [
    "# 9. What data structure does a shelf value resemble?"
   ]
  },
  {
   "cell_type": "markdown",
   "id": "7afc7699",
   "metadata": {},
   "source": [
    "A shelf value resembles a dictionary value; it has keys and values, along with keys() and values() methods that work similarly to the dictionary methods of the same names."
   ]
  }
 ],
 "metadata": {
  "kernelspec": {
   "display_name": "Python 3 (ipykernel)",
   "language": "python",
   "name": "python3"
  },
  "language_info": {
   "codemirror_mode": {
    "name": "ipython",
    "version": 3
   },
   "file_extension": ".py",
   "mimetype": "text/x-python",
   "name": "python",
   "nbconvert_exporter": "python",
   "pygments_lexer": "ipython3",
   "version": "3.9.12"
  }
 },
 "nbformat": 4,
 "nbformat_minor": 5
}
