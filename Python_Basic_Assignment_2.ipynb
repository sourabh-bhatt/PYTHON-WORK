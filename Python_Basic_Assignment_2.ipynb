{
 "cells": [
  {
   "cell_type": "markdown",
   "id": "8f1d9f59",
   "metadata": {},
   "source": [
    "# Q1: What are the two values of the Boolean data type? How do you write them?"
   ]
  },
  {
   "cell_type": "markdown",
   "id": "780b5a6d",
   "metadata": {},
   "source": [
    "Boolean are in-built datatypes in Python programming. It is used for representing the truth values for any specific condition. It has 2 values 'True' and 'False'\n",
    "We can write them in following ways:"
   ]
  },
  {
   "cell_type": "code",
   "execution_count": 8,
   "id": "4dfcb98f",
   "metadata": {},
   "outputs": [],
   "source": [
    "a = True\n",
    "b = False"
   ]
  },
  {
   "cell_type": "code",
   "execution_count": 9,
   "id": "54c050bf",
   "metadata": {},
   "outputs": [
    {
     "data": {
      "text/plain": [
       "bool"
      ]
     },
     "execution_count": 9,
     "metadata": {},
     "output_type": "execute_result"
    }
   ],
   "source": [
    "type(a)"
   ]
  },
  {
   "cell_type": "code",
   "execution_count": 10,
   "id": "2f3486fb",
   "metadata": {},
   "outputs": [
    {
     "data": {
      "text/plain": [
       "bool"
      ]
     },
     "execution_count": 10,
     "metadata": {},
     "output_type": "execute_result"
    }
   ],
   "source": [
    "type(b)"
   ]
  },
  {
   "cell_type": "markdown",
   "id": "78f9d5c2",
   "metadata": {},
   "source": [
    "# Q2: What are the three different types of Boolean operators?"
   ]
  },
  {
   "cell_type": "markdown",
   "id": "6a163bdf",
   "metadata": {},
   "source": [
    "The three basic Boolean operators are AND, OR and NOT. All these operators are defined for specific use cases. \n",
    "For example, if we want a complete filter of anything we use AND boolean operator only, AND boolean needs all condition true for execution to True otherwise it will five False.. If we want any of one condition should be true then we will use OR boolean operator. When we do not want to specify a particular value to a particular program then we use NOT boolean operator.\n",
    "For example,"
   ]
  },
  {
   "cell_type": "code",
   "execution_count": 11,
   "id": "bd933671",
   "metadata": {},
   "outputs": [],
   "source": [
    "a = 1\n",
    "b = 2\n",
    "c = 3"
   ]
  },
  {
   "cell_type": "code",
   "execution_count": 12,
   "id": "b62629ac",
   "metadata": {},
   "outputs": [
    {
     "data": {
      "text/plain": [
       "True"
      ]
     },
     "execution_count": 12,
     "metadata": {},
     "output_type": "execute_result"
    }
   ],
   "source": [
    "a<b and c>b 3 #It will show True boolean value because both values are true."
   ]
  },
  {
   "cell_type": "code",
   "execution_count": 13,
   "id": "b584fb03",
   "metadata": {},
   "outputs": [
    {
     "data": {
      "text/plain": [
       "True"
      ]
     },
     "execution_count": 13,
     "metadata": {},
     "output_type": "execute_result"
    }
   ],
   "source": [
    "a>b or c>b #It will show True because either one condition is true."
   ]
  },
  {
   "cell_type": "markdown",
   "id": "aa91bf1c",
   "metadata": {},
   "source": [
    "also"
   ]
  },
  {
   "cell_type": "code",
   "execution_count": 14,
   "id": "4d317626",
   "metadata": {},
   "outputs": [
    {
     "data": {
      "text/plain": [
       "False"
      ]
     },
     "execution_count": 14,
     "metadata": {},
     "output_type": "execute_result"
    }
   ],
   "source": [
    "a>b or c<b #It will show False because both conditions are not true."
   ]
  },
  {
   "cell_type": "code",
   "execution_count": 17,
   "id": "73c1a35b",
   "metadata": {},
   "outputs": [
    {
     "data": {
      "text/plain": [
       "True"
      ]
     },
     "execution_count": 17,
     "metadata": {},
     "output_type": "execute_result"
    }
   ],
   "source": [
    "not(a>b) and not(c<b) #It will show True because not operator is applied on both false condition. Hence, it is making them true."
   ]
  },
  {
   "cell_type": "markdown",
   "id": "33802b2d",
   "metadata": {},
   "source": [
    "# Q3: Make a list of each Boolean operator&#39;s truth tables (i.e. every possible combination of Boolean values for the operator and what it evaluate )."
   ]
  },
  {
   "cell_type": "markdown",
   "id": "e8c10b05",
   "metadata": {},
   "source": [
    "AND Boolean Operator Truth-Table\n",
    "\n",
    "0 and 0  =  0  False\n",
    "1 and 0  =  0  False\n",
    "0 and 1  =  0  False\n",
    "1 and 1  =  1  False\n",
    "\n",
    "\n",
    "OR Boolean Operator Truth-Table\n",
    "\n",
    "0 or 0  =  0   False\n",
    "1 or 0  =  1   True\n",
    "0 or 1  =  1   True\n",
    "1 or 1  =  1   True\n",
    "\n",
    "NOT Boolean Operator Truth-Table\n",
    "\n",
    "not(0)  =  1\n",
    "not(1)  =  0\n"
   ]
  },
  {
   "cell_type": "markdown",
   "id": "fdd2bce3",
   "metadata": {},
   "source": [
    "# Q4: What are the values of the following expressions?\n",
    "# (5 &gt; 4) and (3 == 5)\n",
    "# not (5 &gt; 4)\n",
    "# (5 &gt; 4) or (3 == 5)\n",
    "# not ((5 &gt; 4) or (3 == 5))\n",
    "# (True and True) and (True == False)\n",
    "# (not False) or (not True)"
   ]
  },
  {
   "cell_type": "markdown",
   "id": "f51e7491",
   "metadata": {},
   "source": [
    "The values of above expressions are as follows:"
   ]
  },
  {
   "cell_type": "code",
   "execution_count": 18,
   "id": "767fd3ed",
   "metadata": {},
   "outputs": [
    {
     "data": {
      "text/plain": [
       "False"
      ]
     },
     "execution_count": 18,
     "metadata": {},
     "output_type": "execute_result"
    }
   ],
   "source": [
    "(5 > 4) and (3 == 5)"
   ]
  },
  {
   "cell_type": "code",
   "execution_count": 19,
   "id": "068f04b2",
   "metadata": {},
   "outputs": [
    {
     "data": {
      "text/plain": [
       "False"
      ]
     },
     "execution_count": 19,
     "metadata": {},
     "output_type": "execute_result"
    }
   ],
   "source": [
    "not (5 > 4)"
   ]
  },
  {
   "cell_type": "code",
   "execution_count": 20,
   "id": "22e8379d",
   "metadata": {},
   "outputs": [
    {
     "data": {
      "text/plain": [
       "True"
      ]
     },
     "execution_count": 20,
     "metadata": {},
     "output_type": "execute_result"
    }
   ],
   "source": [
    "(5 > 4) or (3 == 5)"
   ]
  },
  {
   "cell_type": "code",
   "execution_count": 21,
   "id": "0005662d",
   "metadata": {},
   "outputs": [
    {
     "data": {
      "text/plain": [
       "False"
      ]
     },
     "execution_count": 21,
     "metadata": {},
     "output_type": "execute_result"
    }
   ],
   "source": [
    "not ((5 > 4) or (3 == 5))"
   ]
  },
  {
   "cell_type": "code",
   "execution_count": 22,
   "id": "5a75a736",
   "metadata": {},
   "outputs": [
    {
     "data": {
      "text/plain": [
       "False"
      ]
     },
     "execution_count": 22,
     "metadata": {},
     "output_type": "execute_result"
    }
   ],
   "source": [
    "(True and True) and (True == False)"
   ]
  },
  {
   "cell_type": "code",
   "execution_count": 23,
   "id": "b3a634b1",
   "metadata": {},
   "outputs": [
    {
     "data": {
      "text/plain": [
       "True"
      ]
     },
     "execution_count": 23,
     "metadata": {},
     "output_type": "execute_result"
    }
   ],
   "source": [
    "(not False) or (not True)"
   ]
  },
  {
   "cell_type": "markdown",
   "id": "88af9071",
   "metadata": {},
   "source": [
    "# Q5: What are the six comparison operators?"
   ]
  },
  {
   "cell_type": "markdown",
   "id": "8e79011a",
   "metadata": {},
   "source": [
    " The six comparison operators are as follows:\n",
    " 1. Less than (<)\n",
    " 2. Less than or equal to (<=)\n",
    " 3. Greater than (>)\n",
    " 4. Greater than or equal to (>=)\n",
    " 5. Equal to (==)\n",
    " 6. Not equal to (!=)."
   ]
  },
  {
   "cell_type": "markdown",
   "id": "564af61c",
   "metadata": {},
   "source": [
    "# Q6: How do you tell the difference between the equal to and assignment operators? Describe a condition and when you would use one."
   ]
  },
  {
   "cell_type": "markdown",
   "id": "7aa5d2a5",
   "metadata": {},
   "source": [
    "The '=' is an assignment operator which is assigning or storing a value into a variable. Whereas '==' is a equal to and \n",
    "operator which is chehcking the equality of both operands. It will return either true or false boolean values. \n",
    "For example,"
   ]
  },
  {
   "cell_type": "code",
   "execution_count": 25,
   "id": "674b59f5",
   "metadata": {},
   "outputs": [
    {
     "name": "stdout",
     "output_type": "stream",
     "text": [
      "1\n"
     ]
    }
   ],
   "source": [
    "a = 1\n",
    "print(a) #It will print what variable a holds in the memory or what value is assigned to the variable a."
   ]
  },
  {
   "cell_type": "code",
   "execution_count": 26,
   "id": "ee8e00c2",
   "metadata": {},
   "outputs": [
    {
     "name": "stdout",
     "output_type": "stream",
     "text": [
      "False\n"
     ]
    }
   ],
   "source": [
    "b == 2\n",
    "c == 3\n",
    "print(b==c)  #It will print either b or c are equal or not."
   ]
  },
  {
   "cell_type": "markdown",
   "id": "1dadd054",
   "metadata": {},
   "source": [
    "# Q7: 7. Identify the three blocks in this code:\n",
    "# spam = 0\n",
    "# if spam == 10:\n",
    "# print(&#39;eggs&#39;)\n",
    "# if spam &gt; 5:\n",
    "# print(&#39;bacon&#39;)\n",
    "# else:\n",
    "# print(&#39;ham&#39;)\n",
    "# print(&#39;spam&#39;)\n",
    "# print(&#39;spam&#39;)"
   ]
  },
  {
   "cell_type": "markdown",
   "id": "4e10b7f7",
   "metadata": {},
   "source": [
    "In the above line of codes the three blocks are inside the if statement print('eggs'), print('bacon'), and print('ham')."
   ]
  },
  {
   "cell_type": "markdown",
   "id": "fa583753",
   "metadata": {},
   "source": [
    "# Q8: Write code that prints Hello if 1 is stored in spam, prints Howdy if 2 is stored in spam, and prints Greetings! if anything else is stored in spam."
   ]
  },
  {
   "cell_type": "code",
   "execution_count": 27,
   "id": "8c1e005c",
   "metadata": {},
   "outputs": [
    {
     "name": "stdout",
     "output_type": "stream",
     "text": [
      "Enter number1\n",
      "Hello\n"
     ]
    }
   ],
   "source": [
    "spam = int(input('Enter number'))\n",
    "if spam == 1:\n",
    "    print('Hello')\n",
    "elif spam == 2:\n",
    "    print('Howdy')\n",
    "else:\n",
    "    print('Greetings')"
   ]
  },
  {
   "cell_type": "code",
   "execution_count": 28,
   "id": "82a09481",
   "metadata": {},
   "outputs": [
    {
     "name": "stdout",
     "output_type": "stream",
     "text": [
      "Enter number2\n",
      "Howdy\n"
     ]
    }
   ],
   "source": [
    "spam = int(input('Enter number'))\n",
    "if spam == 1:\n",
    "    print('Hello')\n",
    "elif spam == 2:\n",
    "    print('Howdy')\n",
    "else:\n",
    "    print('Greetings')"
   ]
  },
  {
   "cell_type": "code",
   "execution_count": 29,
   "id": "2ccda6c8",
   "metadata": {},
   "outputs": [
    {
     "name": "stdout",
     "output_type": "stream",
     "text": [
      "Enter number3\n",
      "Greetings\n"
     ]
    }
   ],
   "source": [
    "spam = int(input('Enter number'))\n",
    "if spam == 1:\n",
    "    print('Hello')\n",
    "elif spam == 2:\n",
    "    print('Howdy')\n",
    "else:\n",
    "    print('Greetings')"
   ]
  },
  {
   "cell_type": "markdown",
   "id": "26e9c617",
   "metadata": {},
   "source": [
    "# Q9: If your programme is stuck in an endless loop, what keys you’ll press?"
   ]
  },
  {
   "cell_type": "markdown",
   "id": "4c6d81a3",
   "metadata": {},
   "source": [
    "Whenever any of our program got stuck in an endleess loop, then we need to stop the kernel by clicking on the pause icon on jupyter notebook."
   ]
  },
  {
   "cell_type": "markdown",
   "id": "f12ab64a",
   "metadata": {},
   "source": [
    "# Q10: How can you tell the difference between break and continue?"
   ]
  },
  {
   "cell_type": "markdown",
   "id": "54e6a119",
   "metadata": {},
   "source": [
    "A break statement, when used inside the loop, will terminate the loop and exit. If used inside nested loops, it will break out from the current loop.\n",
    "A continue statement will stop the current execution when used inside a loop, and the control will go back to the start of the loop.\n",
    "The main difference between break and continue statement is that when break keyword is encountered, it will exit the loop.\n",
    "In case of continue keyword, the current iteration that is running will be stopped, and it will proceed with the next iteration."
   ]
  },
  {
   "cell_type": "markdown",
   "id": "95335405",
   "metadata": {},
   "source": [
    "# Q11: In a for loop, what is the difference between range(10), range(0, 10), and range(0, 10, 1)?"
   ]
  },
  {
   "cell_type": "markdown",
   "id": "961597da",
   "metadata": {},
   "source": [
    "In a for loop range(10) is going to return integer numbers from 0 to 10 excluding 10. In the function range(0,10) the for loop is asked to execute it upto 10 excluding 10 and show all the results. And in range(0,10,1) it asked for take a value upto 10 starting from 0 and return every element after 1 element.\n",
    "For example, "
   ]
  },
  {
   "cell_type": "code",
   "execution_count": 30,
   "id": "b514db2b",
   "metadata": {},
   "outputs": [
    {
     "name": "stdout",
     "output_type": "stream",
     "text": [
      "0\n",
      "1\n",
      "2\n",
      "3\n",
      "4\n",
      "5\n",
      "6\n",
      "7\n",
      "8\n",
      "9\n"
     ]
    }
   ],
   "source": [
    "n = range(10)\n",
    "for i in n:\n",
    "    print(i)"
   ]
  },
  {
   "cell_type": "code",
   "execution_count": 31,
   "id": "7039e006",
   "metadata": {},
   "outputs": [
    {
     "name": "stdout",
     "output_type": "stream",
     "text": [
      "0\n",
      "1\n",
      "2\n",
      "3\n",
      "4\n",
      "5\n",
      "6\n",
      "7\n",
      "8\n",
      "9\n"
     ]
    }
   ],
   "source": [
    "n = range(0,10)\n",
    "for i in n:\n",
    "    print(i)\n"
   ]
  },
  {
   "cell_type": "code",
   "execution_count": 32,
   "id": "bfbb4f34",
   "metadata": {},
   "outputs": [
    {
     "name": "stdout",
     "output_type": "stream",
     "text": [
      "0\n",
      "1\n",
      "2\n",
      "3\n",
      "4\n",
      "5\n",
      "6\n",
      "7\n",
      "8\n",
      "9\n"
     ]
    }
   ],
   "source": [
    "n = range(0,10,1)\n",
    "for i in n:\n",
    "    print(i)"
   ]
  },
  {
   "cell_type": "markdown",
   "id": "2e86d4b5",
   "metadata": {},
   "source": [
    "# Q12: Write a short program that prints the numbers 1 to 10 using a for loop. Then write an equivalent program that prints the numbers 1 to 10 using a while loop."
   ]
  },
  {
   "cell_type": "code",
   "execution_count": 37,
   "id": "ffafbb68",
   "metadata": {},
   "outputs": [
    {
     "name": "stdout",
     "output_type": "stream",
     "text": [
      "1\n",
      "2\n",
      "3\n",
      "4\n",
      "5\n",
      "6\n",
      "7\n",
      "8\n",
      "9\n",
      "10\n"
     ]
    }
   ],
   "source": [
    "n = range(1,11)\n",
    "for i in n:\n",
    "    print(i)"
   ]
  },
  {
   "cell_type": "code",
   "execution_count": 39,
   "id": "a3d1a346",
   "metadata": {},
   "outputs": [
    {
     "name": "stdout",
     "output_type": "stream",
     "text": [
      "1\n",
      "2\n",
      "3\n",
      "4\n",
      "5\n",
      "6\n",
      "7\n",
      "8\n",
      "9\n",
      "10\n"
     ]
    }
   ],
   "source": [
    "#Using While Loop\n",
    "i = 1\n",
    "while(i<=10):\n",
    "    print(i)\n",
    "    i += 1"
   ]
  },
  {
   "cell_type": "markdown",
   "id": "13121750",
   "metadata": {},
   "source": [
    "# Q13: If you had a function named bacon() inside a module named spam, how would you call it after importing spam?"
   ]
  },
  {
   "cell_type": "markdown",
   "id": "7179d3bd",
   "metadata": {},
   "source": [
    "After importing spam we can call it by writing spam. bacon()."
   ]
  }
 ],
 "metadata": {
  "kernelspec": {
   "display_name": "Python 3",
   "language": "python",
   "name": "python3"
  },
  "language_info": {
   "codemirror_mode": {
    "name": "ipython",
    "version": 3
   },
   "file_extension": ".py",
   "mimetype": "text/x-python",
   "name": "python",
   "nbconvert_exporter": "python",
   "pygments_lexer": "ipython3",
   "version": "3.8.8"
  }
 },
 "nbformat": 4,
 "nbformat_minor": 5
}
