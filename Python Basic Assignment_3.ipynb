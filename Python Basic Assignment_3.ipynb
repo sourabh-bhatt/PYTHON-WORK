{
 "cells": [
  {
   "cell_type": "markdown",
   "id": "c88c3a6c",
   "metadata": {},
   "source": [
    "# Q1. Why are functions advantageous to have in your programs?"
   ]
  },
  {
   "cell_type": "markdown",
   "id": "546d2084",
   "metadata": {},
   "source": [
    "Functions are used in program in order to increase the reusability and significance of code. It helps any person to read and execute particular code snippet without any conflict. It increases the uses of codes in multiple way. Defining functions in codes also helps us to understand large codes very easily. For example, in below program we have defined a function calculator, which helps us to execute our program."
   ]
  },
  {
   "cell_type": "code",
   "execution_count": 1,
   "id": "b5bd6cbf",
   "metadata": {},
   "outputs": [],
   "source": [
    "def calculator(a,b,c):\n",
    "    return a+b+c"
   ]
  },
  {
   "cell_type": "markdown",
   "id": "cfaba61e",
   "metadata": {},
   "source": [
    "When we call this function, we are able to get our appropriate output again and again."
   ]
  },
  {
   "cell_type": "code",
   "execution_count": 3,
   "id": "5d7904a9",
   "metadata": {},
   "outputs": [
    {
     "data": {
      "text/plain": [
       "3"
      ]
     },
     "execution_count": 3,
     "metadata": {},
     "output_type": "execute_result"
    }
   ],
   "source": [
    "calculator(1,1,1)"
   ]
  },
  {
   "cell_type": "markdown",
   "id": "3f6646dc",
   "metadata": {},
   "source": [
    "# Q2. When does the code in a function run: when it's specified or when it's called?\n"
   ]
  },
  {
   "cell_type": "markdown",
   "id": "0db38e45",
   "metadata": {},
   "source": [
    "A function will run in a code when it is being called. Because when we write a fucntion in a code we used to specify it. and when we are done with our specified function, to work this task; we call it to complete that task. For example,"
   ]
  },
  {
   "cell_type": "code",
   "execution_count": 16,
   "id": "803c54a1",
   "metadata": {},
   "outputs": [],
   "source": [
    "def specify():\n",
    "    first_name  = str(input('Enter first name '))\n",
    "    last_name = str(input('Enter last name '))\n",
    "    concatenate = first_name + last_name\n",
    "    return concatenate"
   ]
  },
  {
   "cell_type": "code",
   "execution_count": 17,
   "id": "9e741917",
   "metadata": {},
   "outputs": [
    {
     "name": "stdout",
     "output_type": "stream",
     "text": [
      "Enter first name Sourabh\n",
      "Enter last name Bhatt\n"
     ]
    },
    {
     "data": {
      "text/plain": [
       "'SourabhBhatt'"
      ]
     },
     "execution_count": 17,
     "metadata": {},
     "output_type": "execute_result"
    }
   ],
   "source": [
    "specify()"
   ]
  },
  {
   "cell_type": "code",
   "execution_count": 18,
   "id": "9b51443d",
   "metadata": {
    "scrolled": true
   },
   "outputs": [
    {
     "name": "stdout",
     "output_type": "stream",
     "text": [
      "Enter first name Krish\n",
      "Enter last name Naik\n"
     ]
    },
    {
     "data": {
      "text/plain": [
       "'KrishNaik'"
      ]
     },
     "execution_count": 18,
     "metadata": {},
     "output_type": "execute_result"
    }
   ],
   "source": [
    "specify()"
   ]
  },
  {
   "cell_type": "markdown",
   "id": "a89e840e",
   "metadata": {},
   "source": [
    "In the above example, I have spcified a function which asks for first name and last name. And when I call it by typing the names it will show the task completed. So, we can only run our code when we call a specified function."
   ]
  },
  {
   "cell_type": "markdown",
   "id": "9a721b93",
   "metadata": {},
   "source": [
    "# Q3. What statement creates a function?\n"
   ]
  },
  {
   "cell_type": "markdown",
   "id": "19428209",
   "metadata": {},
   "source": [
    "'def' is a reserved keyword to crete functions in python. It is a define or definition statement, which is used to specify or to create a function. For example,"
   ]
  },
  {
   "cell_type": "code",
   "execution_count": null,
   "id": "707af77a",
   "metadata": {},
   "outputs": [],
   "source": [
    "def create_a_function(specifying_the_name):\n",
    "    <here we can write our task to execute>\n",
    "    "
   ]
  },
  {
   "cell_type": "markdown",
   "id": "212737ca",
   "metadata": {},
   "source": [
    "By using above example of a function, we can say that for defining a function, we need to write a name of that function or we can also specify a particular name of call to that function."
   ]
  },
  {
   "cell_type": "markdown",
   "id": "ad27f44c",
   "metadata": {},
   "source": [
    "# Q4. What is the difference between a function and a function call?\n"
   ]
  },
  {
   "cell_type": "markdown",
   "id": "98ae7792",
   "metadata": {},
   "source": [
    "The major difference between a function and a function call is that we use function to write a reuable code. And then we call that defined function in order to complete that task. If we do not call that function, then there is no use of that function. So, it becomes important to call the defined function."
   ]
  },
  {
   "cell_type": "markdown",
   "id": "33baa509",
   "metadata": {},
   "source": [
    "# Q5.  How many global scopes are there in a Python program? How many local scopes?\n"
   ]
  },
  {
   "cell_type": "markdown",
   "id": "91a84acf",
   "metadata": {},
   "source": [
    "In every python program we can only use a single global scope. Basically global scopes are the one in which we define a certain name to our variables; on the top of all other scopes. And whenever we define a new function in python, we can define our required number of local scopes."
   ]
  },
  {
   "cell_type": "markdown",
   "id": "bdba142e",
   "metadata": {},
   "source": [
    "# Q6. What happens to variables in a local scope when the function call returns?\n"
   ]
  },
  {
   "cell_type": "markdown",
   "id": "5ab928ef",
   "metadata": {},
   "source": [
    "Whenever we call a specified function, all the defined local scopes will be terminated and which means the task is completed. But when the declared local scopes are not executed on a function call it will prompt an error."
   ]
  },
  {
   "cell_type": "markdown",
   "id": "2bc1e3ee",
   "metadata": {},
   "source": [
    "# Q7. What is the concept of a return value? Is it possible to have a return value in an expression?"
   ]
  },
  {
   "cell_type": "markdown",
   "id": "7f494fba",
   "metadata": {},
   "source": [
    "Return statement is generally used to call the particular function. We use return statement in between the program to return the result of that particular function back to its caller. We can use return statement in an expression. For example,"
   ]
  },
  {
   "cell_type": "code",
   "execution_count": 1,
   "id": "dfd39497",
   "metadata": {},
   "outputs": [],
   "source": [
    "def return_2():\n",
    "    return 2"
   ]
  },
  {
   "cell_type": "code",
   "execution_count": 2,
   "id": "cb27bfe2",
   "metadata": {},
   "outputs": [
    {
     "data": {
      "text/plain": [
       "2"
      ]
     },
     "execution_count": 2,
     "metadata": {},
     "output_type": "execute_result"
    }
   ],
   "source": [
    "return_2()"
   ]
  },
  {
   "cell_type": "markdown",
   "id": "8ad3fc31",
   "metadata": {},
   "source": [
    "In this example, we are defining a function return_2 which is specifically an explicit value for return, i.e 2. Once, we call the return_2 function, it will return the explicit value 2. Hence, it will return the function value."
   ]
  },
  {
   "cell_type": "markdown",
   "id": "abdc1582",
   "metadata": {},
   "source": [
    "# Q8. If a function does not have a return statement, what is the return value of a call to that function?\n"
   ]
  },
  {
   "cell_type": "markdown",
   "id": "f4b0497a",
   "metadata": {},
   "source": [
    "Basically every python code have pre-defined return value. But in case, if a function do not have a return statement then its return value is undefined and it will return a special NONE value. For example,"
   ]
  },
  {
   "cell_type": "code",
   "execution_count": 4,
   "id": "9af3b00d",
   "metadata": {},
   "outputs": [],
   "source": [
    "def example_for_return_statement(x):\n",
    "    a = x + 1"
   ]
  },
  {
   "cell_type": "code",
   "execution_count": 6,
   "id": "20a14d64",
   "metadata": {},
   "outputs": [
    {
     "name": "stdout",
     "output_type": "stream",
     "text": [
      "None\n"
     ]
    }
   ],
   "source": [
    "add = example_for_return_statement(2)\n",
    "add\n",
    "print(add)"
   ]
  },
  {
   "cell_type": "markdown",
   "id": "0a505d57",
   "metadata": {},
   "source": [
    "As we can see in the above example, we haven't specified a return value to the function, hence python will explicitly compute and return a None as a return value. Because in the example_for_return_statement, adds 1 to x and stores the value in variable a but it doesn’t return the value of a. That's why we are getting return value as None."
   ]
  },
  {
   "cell_type": "markdown",
   "id": "efeeef6f",
   "metadata": {},
   "source": [
    "# Q9. How do you make a function variable refer to the global variable?\n"
   ]
  },
  {
   "cell_type": "markdown",
   "id": "a58eea08",
   "metadata": {},
   "source": [
    "We can refer a function variable to a global variable by declaring a global keyword by using 'gloabal'. For example,"
   ]
  },
  {
   "cell_type": "code",
   "execution_count": null,
   "id": "4da3626d",
   "metadata": {},
   "outputs": [],
   "source": [
    "global global_keyword"
   ]
  },
  {
   "cell_type": "code",
   "execution_count": 10,
   "id": "d744d9d8",
   "metadata": {},
   "outputs": [
    {
     "name": "stdout",
     "output_type": "stream",
     "text": [
      "Total =  5\n"
     ]
    }
   ],
   "source": [
    "global_keyword = 5\n",
    "def function():\n",
    "    \n",
    "    global global_keyword\n",
    "    if global_keyword > 1:\n",
    "        global_keyword = 10\n",
    "print('Total = ', global_keyword)\n"
   ]
  },
  {
   "cell_type": "code",
   "execution_count": 11,
   "id": "af338390",
   "metadata": {
    "scrolled": true
   },
   "outputs": [
    {
     "name": "stdout",
     "output_type": "stream",
     "text": [
      "Total =  10\n"
     ]
    }
   ],
   "source": [
    "function()\n",
    "print('Total = ', global_keyword)"
   ]
  },
  {
   "cell_type": "markdown",
   "id": "2c9466ba",
   "metadata": {},
   "source": [
    "In the above example, we have modified the local variable by declaring a global variable."
   ]
  },
  {
   "cell_type": "markdown",
   "id": "55fd92fb",
   "metadata": {},
   "source": [
    "# Q10. What is the data type of None?\n"
   ]
  },
  {
   "cell_type": "markdown",
   "id": "bc3afeb6",
   "metadata": {},
   "source": [
    "None is a reserved keyword which is used to define a null value, or no value after execution of program. Basically, None is not the same as 0, or void or False, or an empty string. None is a data type of its own (NoneType) and only None can be None."
   ]
  },
  {
   "cell_type": "markdown",
   "id": "f6947fb6",
   "metadata": {},
   "source": [
    "# Q11. What does the sentence import areallyourpetsnamederic do?\n"
   ]
  },
  {
   "cell_type": "markdown",
   "id": "672849c4",
   "metadata": {},
   "source": [
    "The sentence areallyourpetsnamederic is not a proper module. Therefore it can't be imported. Hence it will cause an error."
   ]
  },
  {
   "cell_type": "code",
   "execution_count": 14,
   "id": "e069ace8",
   "metadata": {},
   "outputs": [
    {
     "ename": "ModuleNotFoundError",
     "evalue": "No module named 'areallyourpetsnamederic'",
     "output_type": "error",
     "traceback": [
      "\u001b[1;31m---------------------------------------------------------------------------\u001b[0m",
      "\u001b[1;31mModuleNotFoundError\u001b[0m                       Traceback (most recent call last)",
      "\u001b[1;32m<ipython-input-14-b1ea9cb2228f>\u001b[0m in \u001b[0;36m<module>\u001b[1;34m\u001b[0m\n\u001b[1;32m----> 1\u001b[1;33m \u001b[1;32mimport\u001b[0m \u001b[0mareallyourpetsnamederic\u001b[0m\u001b[1;33m\u001b[0m\u001b[1;33m\u001b[0m\u001b[0m\n\u001b[0m",
      "\u001b[1;31mModuleNotFoundError\u001b[0m: No module named 'areallyourpetsnamederic'"
     ]
    }
   ],
   "source": [
    "import areallyourpetsnamederic"
   ]
  },
  {
   "cell_type": "markdown",
   "id": "d86af6c2",
   "metadata": {},
   "source": [
    "# Q12. If you had a bacon() feature in a spam module, what would you call it after importing spam?"
   ]
  },
  {
   "cell_type": "markdown",
   "id": "35543065",
   "metadata": {},
   "source": [
    "After importing spam we will call it as spam.bacon()"
   ]
  },
  {
   "cell_type": "markdown",
   "id": "a109a804",
   "metadata": {},
   "source": [
    "# Q13. What can you do to save a programme from crashing if it encounters an error?"
   ]
  },
  {
   "cell_type": "markdown",
   "id": "2a14ec33",
   "metadata": {},
   "source": [
    "If in case our program is crashed or interupting errors again and again then we should do the following things:\n",
    "1. We should check its syntax first.\n",
    "2. we should check the system and memory requirements.\n",
    "3. if in case our syntax and system are fine then we should use exception handling. It helps us to identify the root cause of errors and also it helps us to identify which program is interrupting erros. "
   ]
  },
  {
   "cell_type": "markdown",
   "id": "270a200c",
   "metadata": {},
   "source": [
    "# Q14. What is the purpose of the try clause? What is the purpose of the except clause?\n"
   ]
  },
  {
   "cell_type": "markdown",
   "id": "5c75d298",
   "metadata": {},
   "source": [
    "Both try and except clause are used in python to handle the errors in the execution of programs. try block checks whether this particular program is causing any error or not. And except clause is used to handle the errors caused. For example,"
   ]
  },
  {
   "cell_type": "code",
   "execution_count": 18,
   "id": "d657b089",
   "metadata": {},
   "outputs": [],
   "source": [
    "def error_checking():\n",
    "    try:\n",
    "        a = int(input('enter a number: '))\n",
    "        return a/0\n",
    "    except ZeroDivisionError:\n",
    "        print('It is causing some error')\n",
    "        \n",
    "            "
   ]
  },
  {
   "cell_type": "code",
   "execution_count": 19,
   "id": "993ffbb9",
   "metadata": {},
   "outputs": [
    {
     "name": "stdout",
     "output_type": "stream",
     "text": [
      "enter a number: 1\n",
      "It is causing some error\n"
     ]
    }
   ],
   "source": [
    "error_checking()"
   ]
  },
  {
   "cell_type": "markdown",
   "id": "005d2722",
   "metadata": {},
   "source": [
    "As we can clearly see in the example, we are facing ZeroDivisionError as we are trying to divide value by 0, which is incorrect."
   ]
  }
 ],
 "metadata": {
  "kernelspec": {
   "display_name": "Python 3",
   "language": "python",
   "name": "python3"
  },
  "language_info": {
   "codemirror_mode": {
    "name": "ipython",
    "version": 3
   },
   "file_extension": ".py",
   "mimetype": "text/x-python",
   "name": "python",
   "nbconvert_exporter": "python",
   "pygments_lexer": "ipython3",
   "version": "3.8.8"
  }
 },
 "nbformat": 4,
 "nbformat_minor": 5
}
