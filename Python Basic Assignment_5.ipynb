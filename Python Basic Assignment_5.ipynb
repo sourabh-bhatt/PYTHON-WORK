{
 "cells": [
  {
   "cell_type": "markdown",
   "id": "94c1930d",
   "metadata": {},
   "source": [
    "# 1. What does an empty dictionary&#39;s code look like?"
   ]
  },
  {
   "cell_type": "markdown",
   "id": "778f45f2",
   "metadata": {},
   "source": [
    "An emoty dictionary is a void dicctionary which do not have any value."
   ]
  },
  {
   "cell_type": "code",
   "execution_count": 1,
   "id": "aa671ef3",
   "metadata": {},
   "outputs": [],
   "source": [
    "d = {}"
   ]
  },
  {
   "cell_type": "code",
   "execution_count": 2,
   "id": "d43ce8f5",
   "metadata": {},
   "outputs": [
    {
     "data": {
      "text/plain": [
       "dict"
      ]
     },
     "execution_count": 2,
     "metadata": {},
     "output_type": "execute_result"
    }
   ],
   "source": [
    "type(d)"
   ]
  },
  {
   "cell_type": "markdown",
   "id": "685d3422",
   "metadata": {},
   "source": [
    "# 2. What is the value of a dictionary value with the key &#39;foo&#39; and the value 42?"
   ]
  },
  {
   "cell_type": "code",
   "execution_count": 30,
   "id": "c601ac90",
   "metadata": {},
   "outputs": [],
   "source": [
    "d = {'foo':42}"
   ]
  },
  {
   "cell_type": "code",
   "execution_count": 31,
   "id": "3d607d8f",
   "metadata": {},
   "outputs": [
    {
     "data": {
      "text/plain": [
       "{'foo': 42}"
      ]
     },
     "execution_count": 31,
     "metadata": {},
     "output_type": "execute_result"
    }
   ],
   "source": [
    "d"
   ]
  },
  {
   "cell_type": "code",
   "execution_count": 32,
   "id": "3890f3b9",
   "metadata": {},
   "outputs": [
    {
     "data": {
      "text/plain": [
       "dict_values([42])"
      ]
     },
     "execution_count": 32,
     "metadata": {},
     "output_type": "execute_result"
    }
   ],
   "source": [
    "d.values()"
   ]
  },
  {
   "cell_type": "markdown",
   "id": "19e81536",
   "metadata": {},
   "source": [
    "# 3. What is the most significant distinction between a dictionary and a list?"
   ]
  },
  {
   "cell_type": "markdown",
   "id": "f25c46ef",
   "metadata": {},
   "source": [
    "In lists the data collection we get is always in the form of collection. Which is ordered. And hene it can be accessed via various slicing operations. But dictionaries are unordered collection of data. It can only be accessed through key and value pairs."
   ]
  },
  {
   "cell_type": "markdown",
   "id": "199a2b08",
   "metadata": {},
   "source": [
    "# 4. What happens if you try to access spam[&#39;foo&#39;] if spam is {&#39;bar&#39;: 100}?"
   ]
  },
  {
   "cell_type": "markdown",
   "id": "aa1a7d4d",
   "metadata": {},
   "source": [
    "It will through a key error as it dosent hold any foo key in the spam memory."
   ]
  },
  {
   "cell_type": "code",
   "execution_count": 35,
   "id": "72875f9b",
   "metadata": {},
   "outputs": [],
   "source": [
    "spam = {'bar':100}"
   ]
  },
  {
   "cell_type": "code",
   "execution_count": 36,
   "id": "54182c64",
   "metadata": {},
   "outputs": [
    {
     "ename": "KeyError",
     "evalue": "'foo'",
     "output_type": "error",
     "traceback": [
      "\u001b[1;31m---------------------------------------------------------------------------\u001b[0m",
      "\u001b[1;31mKeyError\u001b[0m                                  Traceback (most recent call last)",
      "Input \u001b[1;32mIn [36]\u001b[0m, in \u001b[0;36m<cell line: 1>\u001b[1;34m()\u001b[0m\n\u001b[1;32m----> 1\u001b[0m \u001b[43mspam\u001b[49m\u001b[43m[\u001b[49m\u001b[38;5;124;43m'\u001b[39;49m\u001b[38;5;124;43mfoo\u001b[39;49m\u001b[38;5;124;43m'\u001b[39;49m\u001b[43m]\u001b[49m\n",
      "\u001b[1;31mKeyError\u001b[0m: 'foo'"
     ]
    }
   ],
   "source": [
    "spam['foo']"
   ]
  },
  {
   "cell_type": "markdown",
   "id": "135ab0c3",
   "metadata": {},
   "source": [
    "# 5. If a dictionary is stored in spam, what is the difference between the expressions &#39;cat&#39; in spam and\n",
    "# &#39;cat&#39; in spam.keys()?"
   ]
  },
  {
   "cell_type": "markdown",
   "id": "3bcbcb41",
   "metadata": {},
   "source": [
    "Cat in spam check whether cat is in the spam or not and cat in spam.keys() wll check whether there is a key cat present in the variable spam or not."
   ]
  },
  {
   "cell_type": "code",
   "execution_count": 46,
   "id": "b5800836",
   "metadata": {},
   "outputs": [],
   "source": [
    "spam = {'cat':1}"
   ]
  },
  {
   "cell_type": "code",
   "execution_count": 47,
   "id": "e15ed7e8",
   "metadata": {},
   "outputs": [
    {
     "data": {
      "text/plain": [
       "{'cat': 1}"
      ]
     },
     "execution_count": 47,
     "metadata": {},
     "output_type": "execute_result"
    }
   ],
   "source": [
    "spam"
   ]
  },
  {
   "cell_type": "code",
   "execution_count": 48,
   "id": "82f376e7",
   "metadata": {},
   "outputs": [
    {
     "data": {
      "text/plain": [
       "True"
      ]
     },
     "execution_count": 48,
     "metadata": {},
     "output_type": "execute_result"
    }
   ],
   "source": [
    "'cat' in spam"
   ]
  },
  {
   "cell_type": "code",
   "execution_count": 49,
   "id": "4e7af990",
   "metadata": {},
   "outputs": [
    {
     "data": {
      "text/plain": [
       "True"
      ]
     },
     "execution_count": 49,
     "metadata": {},
     "output_type": "execute_result"
    }
   ],
   "source": [
    "'cat' in spam.keys()"
   ]
  },
  {
   "cell_type": "code",
   "execution_count": 50,
   "id": "21f0eb80",
   "metadata": {},
   "outputs": [
    {
     "data": {
      "text/plain": [
       "dict"
      ]
     },
     "execution_count": 50,
     "metadata": {},
     "output_type": "execute_result"
    }
   ],
   "source": [
    "type(spam)"
   ]
  },
  {
   "cell_type": "code",
   "execution_count": 51,
   "id": "95a59caa",
   "metadata": {},
   "outputs": [
    {
     "data": {
      "text/plain": [
       "dict_keys(['cat'])"
      ]
     },
     "execution_count": 51,
     "metadata": {},
     "output_type": "execute_result"
    }
   ],
   "source": [
    "spam.keys()"
   ]
  },
  {
   "cell_type": "code",
   "execution_count": 52,
   "id": "a6476031",
   "metadata": {},
   "outputs": [
    {
     "data": {
      "text/plain": [
       "dict_keys"
      ]
     },
     "execution_count": 52,
     "metadata": {},
     "output_type": "execute_result"
    }
   ],
   "source": [
    "type(spam.keys())"
   ]
  },
  {
   "cell_type": "markdown",
   "id": "aea0381c",
   "metadata": {},
   "source": [
    "# 6. If a dictionary is stored in spam, what is the difference between the expressions &#39;cat&#39; in spam and\n",
    "# &#39;cat&#39; in spam.values()?"
   ]
  },
  {
   "cell_type": "markdown",
   "id": "4ada3ff9",
   "metadata": {},
   "source": [
    "Cat in spam check whether cat is in the spam or not and cat in spam.values() wll check whether there is a value cat present in the variable spam or not."
   ]
  },
  {
   "cell_type": "code",
   "execution_count": 53,
   "id": "f0338e91",
   "metadata": {},
   "outputs": [],
   "source": [
    "spam = {'cat':1}"
   ]
  },
  {
   "cell_type": "code",
   "execution_count": 54,
   "id": "e4c646cf",
   "metadata": {},
   "outputs": [
    {
     "data": {
      "text/plain": [
       "{'cat': 1}"
      ]
     },
     "execution_count": 54,
     "metadata": {},
     "output_type": "execute_result"
    }
   ],
   "source": [
    "spam"
   ]
  },
  {
   "cell_type": "code",
   "execution_count": 55,
   "id": "ef9ec8e7",
   "metadata": {},
   "outputs": [
    {
     "data": {
      "text/plain": [
       "True"
      ]
     },
     "execution_count": 55,
     "metadata": {},
     "output_type": "execute_result"
    }
   ],
   "source": [
    "'cat' in spam"
   ]
  },
  {
   "cell_type": "code",
   "execution_count": 57,
   "id": "97bd92b1",
   "metadata": {},
   "outputs": [
    {
     "data": {
      "text/plain": [
       "False"
      ]
     },
     "execution_count": 57,
     "metadata": {},
     "output_type": "execute_result"
    }
   ],
   "source": [
    "'cat' in spam.values()"
   ]
  },
  {
   "cell_type": "code",
   "execution_count": 14,
   "id": "025042a3",
   "metadata": {},
   "outputs": [
    {
     "data": {
      "text/plain": [
       "dict"
      ]
     },
     "execution_count": 14,
     "metadata": {},
     "output_type": "execute_result"
    }
   ],
   "source": [
    "type(spam)"
   ]
  },
  {
   "cell_type": "code",
   "execution_count": 16,
   "id": "1129546c",
   "metadata": {},
   "outputs": [
    {
     "data": {
      "text/plain": [
       "dict_values([1])"
      ]
     },
     "execution_count": 16,
     "metadata": {},
     "output_type": "execute_result"
    }
   ],
   "source": [
    "spam.values()"
   ]
  },
  {
   "cell_type": "code",
   "execution_count": 17,
   "id": "92e3eefc",
   "metadata": {},
   "outputs": [
    {
     "data": {
      "text/plain": [
       "dict_values"
      ]
     },
     "execution_count": 17,
     "metadata": {},
     "output_type": "execute_result"
    }
   ],
   "source": [
    "type(spam.values())"
   ]
  },
  {
   "cell_type": "markdown",
   "id": "bd8d2313",
   "metadata": {},
   "source": [
    "# 7. What is a shortcut for the following code?\n",
    "# if &#39;color&#39; not in spam:\n",
    "# spam[&#39;color&#39;] = &#39;black;"
   ]
  },
  {
   "cell_type": "code",
   "execution_count": 58,
   "id": "42c2a65a",
   "metadata": {},
   "outputs": [],
   "source": [
    "spam['color'] = 'black'"
   ]
  },
  {
   "cell_type": "code",
   "execution_count": 59,
   "id": "1975a06d",
   "metadata": {},
   "outputs": [
    {
     "data": {
      "text/plain": [
       "{'cat': 1, 'color': 'black'}"
      ]
     },
     "execution_count": 59,
     "metadata": {},
     "output_type": "execute_result"
    }
   ],
   "source": [
    "spam"
   ]
  },
  {
   "cell_type": "markdown",
   "id": "986425bd",
   "metadata": {},
   "source": [
    "# 8. How do you &quot;pretty print&quot; dictionary values using which module and function?"
   ]
  },
  {
   "cell_type": "markdown",
   "id": "2d815c0f",
   "metadata": {},
   "source": [
    "We will use 'pprint' module to pretty print the dictionary."
   ]
  },
  {
   "cell_type": "code",
   "execution_count": 24,
   "id": "c789835b",
   "metadata": {},
   "outputs": [],
   "source": [
    "d = {'name':'Sourabh',\n",
    "    'mo_no':23423557,\n",
    "    'mail_id':'sourabhbhatt@gmail.com',\n",
    "    'tuple':(1,2,3,4,5,66,'fdsgsdf','2424254'),\n",
    "    'list':[1,2,3,1+2j,'sdffg',1.3343325],\n",
    "    'set':{1,2,3,33,3,3,3,34,5,'ssfd','ssfd','spjfoigsd'},\n",
    "    'dict':{'key1':'value1','key2':'vlue2',1:2,324:324543},\n",
    "    'dict2':{1:5,4:6}}"
   ]
  },
  {
   "cell_type": "code",
   "execution_count": 25,
   "id": "e6b7878f",
   "metadata": {},
   "outputs": [],
   "source": [
    "import pprint"
   ]
  },
  {
   "cell_type": "code",
   "execution_count": 26,
   "id": "bf75a95f",
   "metadata": {},
   "outputs": [
    {
     "name": "stdout",
     "output_type": "stream",
     "text": [
      "{'dict': {1: 2, 324: 324543, 'key1': 'value1', 'key2': 'vlue2'},\n",
      " 'dict2': {1: 5, 4: 6},\n",
      " 'list': [1, 2, 3, (1+2j), 'sdffg', 1.3343325],\n",
      " 'mail_id': 'sourabhbhatt@gmail.com',\n",
      " 'mo_no': 23423557,\n",
      " 'name': 'Sourabh',\n",
      " 'set': {1, 2, 3, 34, 33, 5, 'spjfoigsd', 'ssfd'},\n",
      " 'tuple': (1, 2, 3, 4, 5, 66, 'fdsgsdf', '2424254')}\n"
     ]
    }
   ],
   "source": [
    "pprint.pprint(d)"
   ]
  }
 ],
 "metadata": {
  "kernelspec": {
   "display_name": "Python 3 (ipykernel)",
   "language": "python",
   "name": "python3"
  },
  "language_info": {
   "codemirror_mode": {
    "name": "ipython",
    "version": 3
   },
   "file_extension": ".py",
   "mimetype": "text/x-python",
   "name": "python",
   "nbconvert_exporter": "python",
   "pygments_lexer": "ipython3",
   "version": "3.9.12"
  }
 },
 "nbformat": 4,
 "nbformat_minor": 5
}
