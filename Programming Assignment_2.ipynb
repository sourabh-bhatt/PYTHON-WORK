{
 "cells": [
  {
   "cell_type": "markdown",
   "id": "16be93d9",
   "metadata": {},
   "source": [
    "# Python Programming Basic Assignment\n",
    "### Programming Assignment_2"
   ]
  },
  {
   "cell_type": "markdown",
   "id": "9f432ba6",
   "metadata": {},
   "source": [
    "# 1. Write a Python program to convert kilometers to miles?\n"
   ]
  },
  {
   "cell_type": "markdown",
   "id": "9118b070",
   "metadata": {},
   "source": [
    "In order to convert kilometers to miles we have to first understand that\n",
    "1 km = 1 kilometer equals 0.62137 miles.\n",
    "So, to convert km into miles we have to perform 'Miles = kilometer * 0.62137' operation.\n",
    "And for miles into kilometers we have to perform 'Kilometer = Miles / 0.62137' operation."
   ]
  },
  {
   "cell_type": "code",
   "execution_count": 10,
   "id": "3648d840",
   "metadata": {},
   "outputs": [
    {
     "name": "stdout",
     "output_type": "stream",
     "text": [
      "Enter the number of km for convertion into miles: 1\n",
      "1.000000 kilometers is equal to 0.621370 miles\n"
     ]
    }
   ],
   "source": [
    "def km_to_miles():\n",
    "    \"\"\"This program will convert km to miles\"\"\"\n",
    "    kilometer = float(input('Enter the number of km for convertion into miles: '))\n",
    "    miles = kilometer*0.62137\n",
    "    print('%2f kilometers is equal to %2f miles' %(kilometer,miles))\n",
    "km_to_miles()"
   ]
  },
  {
   "cell_type": "markdown",
   "id": "da287130",
   "metadata": {},
   "source": [
    "# 2. Write a Python program to convert Celsius to Fahrenheit?\n"
   ]
  },
  {
   "cell_type": "markdown",
   "id": "60649e98",
   "metadata": {},
   "source": [
    "In order to perform the conversion of celsius to fahrenheit we have to perform this formula:- fahrenheit = (celsius * 1.8) + 32"
   ]
  },
  {
   "cell_type": "code",
   "execution_count": 13,
   "id": "601d6bd9",
   "metadata": {},
   "outputs": [
    {
     "name": "stdout",
     "output_type": "stream",
     "text": [
      "Enter the celsius number for converstion: 37.0\n",
      "37.000000 celsius is equal to 98.600000 fahrenheit\n"
     ]
    }
   ],
   "source": [
    "def C_2_F_Convertor():\n",
    "    \"\"\"This program will convert celsius to fahrenheit\"\"\"\n",
    "    celsius = float(input('Enter the celsius number for converstion: '))\n",
    "    fahrenheit = (celsius * 1.8) + 32\n",
    "    print('%2f celsius is equal to %2f fahrenheit' %(celsius, fahrenheit))\n",
    "C_2_F_Convertor()"
   ]
  },
  {
   "cell_type": "markdown",
   "id": "329cbe66",
   "metadata": {},
   "source": [
    "# 3. Write a Python program to display calendar?\n"
   ]
  },
  {
   "cell_type": "code",
   "execution_count": 14,
   "id": "8cfdc43b",
   "metadata": {},
   "outputs": [
    {
     "name": "stdout",
     "output_type": "stream",
     "text": [
      "Which year calender you want to see? 2022\n",
      "Which month in that year you want to see? 3\n",
      "     March 2022\n",
      "Mo Tu We Th Fr Sa Su\n",
      "    1  2  3  4  5  6\n",
      " 7  8  9 10 11 12 13\n",
      "14 15 16 17 18 19 20\n",
      "21 22 23 24 25 26 27\n",
      "28 29 30 31\n",
      "\n"
     ]
    }
   ],
   "source": [
    "def display_calendar():\n",
    "    \"\"\"This program will display particular month in a calendar\"\"\"\n",
    "    import calendar\n",
    "    year = int(input(\"Which year calender you want to see? \"))\n",
    "    month = int(input(\"Which month in that year you want to see? \"))\n",
    "    print(calendar.month(year, month))\n",
    "display_calendar()"
   ]
  },
  {
   "cell_type": "code",
   "execution_count": 23,
   "id": "8d99d9e7",
   "metadata": {},
   "outputs": [
    {
     "name": "stdout",
     "output_type": "stream",
     "text": [
      "Which year calender you want to see? 2022\n",
      "                                  2022\n",
      "\n",
      "      January                   February                   March\n",
      "Mo Tu We Th Fr Sa Su      Mo Tu We Th Fr Sa Su      Mo Tu We Th Fr Sa Su\n",
      "                1  2          1  2  3  4  5  6          1  2  3  4  5  6\n",
      " 3  4  5  6  7  8  9       7  8  9 10 11 12 13       7  8  9 10 11 12 13\n",
      "10 11 12 13 14 15 16      14 15 16 17 18 19 20      14 15 16 17 18 19 20\n",
      "17 18 19 20 21 22 23      21 22 23 24 25 26 27      21 22 23 24 25 26 27\n",
      "24 25 26 27 28 29 30      28                        28 29 30 31\n",
      "31\n",
      "\n",
      "       April                      May                       June\n",
      "Mo Tu We Th Fr Sa Su      Mo Tu We Th Fr Sa Su      Mo Tu We Th Fr Sa Su\n",
      "             1  2  3                         1             1  2  3  4  5\n",
      " 4  5  6  7  8  9 10       2  3  4  5  6  7  8       6  7  8  9 10 11 12\n",
      "11 12 13 14 15 16 17       9 10 11 12 13 14 15      13 14 15 16 17 18 19\n",
      "18 19 20 21 22 23 24      16 17 18 19 20 21 22      20 21 22 23 24 25 26\n",
      "25 26 27 28 29 30         23 24 25 26 27 28 29      27 28 29 30\n",
      "                          30 31\n",
      "\n",
      "        July                     August                  September\n",
      "Mo Tu We Th Fr Sa Su      Mo Tu We Th Fr Sa Su      Mo Tu We Th Fr Sa Su\n",
      "             1  2  3       1  2  3  4  5  6  7                1  2  3  4\n",
      " 4  5  6  7  8  9 10       8  9 10 11 12 13 14       5  6  7  8  9 10 11\n",
      "11 12 13 14 15 16 17      15 16 17 18 19 20 21      12 13 14 15 16 17 18\n",
      "18 19 20 21 22 23 24      22 23 24 25 26 27 28      19 20 21 22 23 24 25\n",
      "25 26 27 28 29 30 31      29 30 31                  26 27 28 29 30\n",
      "\n",
      "      October                   November                  December\n",
      "Mo Tu We Th Fr Sa Su      Mo Tu We Th Fr Sa Su      Mo Tu We Th Fr Sa Su\n",
      "                1  2          1  2  3  4  5  6                1  2  3  4\n",
      " 3  4  5  6  7  8  9       7  8  9 10 11 12 13       5  6  7  8  9 10 11\n",
      "10 11 12 13 14 15 16      14 15 16 17 18 19 20      12 13 14 15 16 17 18\n",
      "17 18 19 20 21 22 23      21 22 23 24 25 26 27      19 20 21 22 23 24 25\n",
      "24 25 26 27 28 29 30      28 29 30                  26 27 28 29 30 31\n",
      "31\n",
      "\n"
     ]
    }
   ],
   "source": [
    "def display_calendar():\n",
    "    \"\"\"This program will display particular year in a calendar \"\"\"\n",
    "    import calendar\n",
    "    year = int(input(\"Which year calender you want to see? \"))\n",
    "    print(calendar.calendar(year))\n",
    "display_calendar()"
   ]
  },
  {
   "cell_type": "markdown",
   "id": "1253b90c",
   "metadata": {},
   "source": [
    "# 4. Write a Python program to solve quadratic equation?\n"
   ]
  },
  {
   "cell_type": "markdown",
   "id": "511ddf71",
   "metadata": {},
   "source": [
    "In order to solve quadratic quation, of type ax**2+bx+c we have to implement this formula : (-b ± (b ** 2 - 4 * a * c) ** 0.5) / (2 * a)\n"
   ]
  },
  {
   "cell_type": "code",
   "execution_count": 43,
   "id": "fad9e0af",
   "metadata": {},
   "outputs": [
    {
     "name": "stdout",
     "output_type": "stream",
     "text": [
      "Enter value for a: 1\n",
      "Enter value for b: 2\n",
      "Enter value for c: 3\n",
      "The solution are (-1-1.4142135623730951j) and (-1+1.4142135623730951j)\n"
     ]
    }
   ],
   "source": [
    "import cmath\n",
    "\"\"\"This program will solve quadratic equation\"\"\"\n",
    "a = float(input('Enter value for a: '))\n",
    "b = float(input('Enter value for b: '))\n",
    "c = float(input('Enter value for c: '))\n",
    "d = (b**2) - (4*a*c) #formula of discriminant \n",
    "    #There might be chance of getting rea, different and sam roots\n",
    "ans1 = (-b-cmath.sqrt(d))/(2*a)\n",
    "ans2 = (-b+cmath.sqrt(d))/(2*a)\n",
    "print('The solution are {0} and {1}'.format(ans1, ans2))"
   ]
  },
  {
   "cell_type": "markdown",
   "id": "44d6d58c",
   "metadata": {},
   "source": [
    "# 5. Write a Python program to swap two variables without temp variable?"
   ]
  },
  {
   "cell_type": "code",
   "execution_count": 44,
   "id": "fccf7d97",
   "metadata": {},
   "outputs": [
    {
     "name": "stdout",
     "output_type": "stream",
     "text": [
      "swapped value of var_a = 20\n",
      "swapped value of var_b = 10\n"
     ]
    }
   ],
   "source": [
    "def swap_without_temp():\n",
    "    var_a = 10\n",
    "    var_b = 20\n",
    "    var_a, var_b = var_b, var_a\n",
    "    print('swapped value of var_a =', var_a)\n",
    "    print('swapped value of var_b =', var_b)\n",
    "swap_without_temp()"
   ]
  }
 ],
 "metadata": {
  "kernelspec": {
   "display_name": "Python 3",
   "language": "python",
   "name": "python3"
  },
  "language_info": {
   "codemirror_mode": {
    "name": "ipython",
    "version": 3
   },
   "file_extension": ".py",
   "mimetype": "text/x-python",
   "name": "python",
   "nbconvert_exporter": "python",
   "pygments_lexer": "ipython3",
   "version": "3.8.8"
  }
 },
 "nbformat": 4,
 "nbformat_minor": 5
}
