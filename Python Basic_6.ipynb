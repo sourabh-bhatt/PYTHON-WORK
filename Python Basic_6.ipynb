{
 "cells": [
  {
   "cell_type": "markdown",
   "id": "67571d54",
   "metadata": {},
   "source": [
    "# 1. What are escape characters, and how do you use them?"
   ]
  },
  {
   "cell_type": "markdown",
   "id": "a8716283",
   "metadata": {},
   "source": [
    "Escape characters are the characcter used after backslashes in order to get the certain outputs from the command. There are different types of escape characters like:-\n",
    "\\,\n",
    "\\\\,\n",
    "\\n,\n",
    "\\r,\n",
    "\\t, etc.\n",
    "For example;;"
   ]
  },
  {
   "cell_type": "code",
   "execution_count": 1,
   "id": "c98da457",
   "metadata": {},
   "outputs": [],
   "source": [
    "a = \"This is something that will use single quote back\\'slash\""
   ]
  },
  {
   "cell_type": "code",
   "execution_count": 2,
   "id": "a504b1cc",
   "metadata": {},
   "outputs": [
    {
     "data": {
      "text/plain": [
       "\"This is something that will use single quote back'slash\""
      ]
     },
     "execution_count": 2,
     "metadata": {},
     "output_type": "execute_result"
    }
   ],
   "source": [
    "a"
   ]
  },
  {
   "cell_type": "code",
   "execution_count": 23,
   "id": "a5a37553",
   "metadata": {},
   "outputs": [],
   "source": [
    "a = \"This is something that will use back \\\\ slash\""
   ]
  },
  {
   "cell_type": "code",
   "execution_count": 24,
   "id": "23725da9",
   "metadata": {},
   "outputs": [
    {
     "name": "stdout",
     "output_type": "stream",
     "text": [
      "This is something that will use back \\ slash\n"
     ]
    }
   ],
   "source": [
    "print(a)"
   ]
  },
  {
   "cell_type": "code",
   "execution_count": 14,
   "id": "92796944",
   "metadata": {},
   "outputs": [],
   "source": [
    "a = \"This is something that will print to\\nnext line\""
   ]
  },
  {
   "cell_type": "code",
   "execution_count": 15,
   "id": "102f4126",
   "metadata": {},
   "outputs": [
    {
     "name": "stdout",
     "output_type": "stream",
     "text": [
      "This is something that will print to\n",
      "next line\n"
     ]
    }
   ],
   "source": [
    "print(a)"
   ]
  },
  {
   "cell_type": "code",
   "execution_count": 16,
   "id": "387fc07e",
   "metadata": {},
   "outputs": [
    {
     "name": "stdout",
     "output_type": "stream",
     "text": [
      "next line in starting\n"
     ]
    }
   ],
   "source": [
    "a = \"this will return to the \\rnext line in starting\"\n",
    "print(a)"
   ]
  },
  {
   "cell_type": "code",
   "execution_count": 17,
   "id": "9d9c5ac3",
   "metadata": {},
   "outputs": [
    {
     "name": "stdout",
     "output_type": "stream",
     "text": [
      "this will tab a \tword\n"
     ]
    }
   ],
   "source": [
    "a = \"this will tab a \\tword\"\n",
    "print(a)"
   ]
  },
  {
   "cell_type": "markdown",
   "id": "c2c36e0d",
   "metadata": {},
   "source": [
    "# 2. What do the escape characters n and t stand for?"
   ]
  },
  {
   "cell_type": "markdown",
   "id": "44ce68f7",
   "metadata": {},
   "source": [
    "The escape character \\n used to print sentence in the new line and \\t us used to give a space of        tab between the sentences."
   ]
  },
  {
   "cell_type": "markdown",
   "id": "4b874cfe",
   "metadata": {},
   "source": [
    "# 3. What is the way to include backslash characters in a string?"
   ]
  },
  {
   "cell_type": "markdown",
   "id": "024897b9",
   "metadata": {},
   "source": [
    "There are many ways to add bacckslash characcters in a string. For example:-\n"
   ]
  },
  {
   "cell_type": "code",
   "execution_count": 21,
   "id": "4beddc35",
   "metadata": {},
   "outputs": [
    {
     "name": "stdout",
     "output_type": "stream",
     "text": [
      "iNeuron's FSDS is OP\n"
     ]
    }
   ],
   "source": [
    "a = \"iNeuron\\'s FSDS is OP\" #it will add as a apostrophe #a single quote\n",
    "print(a)"
   ]
  },
  {
   "cell_type": "code",
   "execution_count": 22,
   "id": "5eb919a4",
   "metadata": {},
   "outputs": [
    {
     "name": "stdout",
     "output_type": "stream",
     "text": [
      "iNeuron\\' s FSDS is OP\n"
     ]
    }
   ],
   "source": [
    "a = \"iNeuron\\\\' s FSDS is OP\" #it will add a quoted backslash\n",
    "print(a)"
   ]
  },
  {
   "cell_type": "code",
   "execution_count": 27,
   "id": "b696534e",
   "metadata": {},
   "outputs": [
    {
     "name": "stdout",
     "output_type": "stream",
     "text": [
      "iNeurons FSDS is \\ OP\n"
     ]
    }
   ],
   "source": [
    "a = \"iNeurons FSDS is \\\\ OP\" #it will add a backslash\n",
    "print(a)"
   ]
  },
  {
   "cell_type": "markdown",
   "id": "9d56287f",
   "metadata": {},
   "source": [
    "# 4. The string &quot;Howl&#39;s Moving Castle&quot; is a correct value. Why isn&#39;t the single quote character in the\n",
    "# word Howl&#39;s not escaped a problem?"
   ]
  },
  {
   "cell_type": "markdown",
   "id": "1188c23c",
   "metadata": {},
   "source": [
    "Because it is a escape character which does not cause any literal error while scanning the dtring. It is done as:\n"
   ]
  },
  {
   "cell_type": "code",
   "execution_count": 28,
   "id": "db14cb0e",
   "metadata": {},
   "outputs": [
    {
     "data": {
      "text/plain": [
       "\"Howl's Moving Castle\""
      ]
     },
     "execution_count": 28,
     "metadata": {},
     "output_type": "execute_result"
    }
   ],
   "source": [
    "\"Howl\\'s Moving Castle\""
   ]
  },
  {
   "cell_type": "code",
   "execution_count": null,
   "id": "040fa03b",
   "metadata": {},
   "outputs": [],
   "source": []
  },
  {
   "cell_type": "markdown",
   "id": "38c231d3",
   "metadata": {},
   "source": [
    "# 5. How do you write a string of newlines if you don&#39;t want to use the n character?"
   ]
  },
  {
   "cell_type": "code",
   "execution_count": 40,
   "id": "05031cb4",
   "metadata": {},
   "outputs": [
    {
     "name": "stdout",
     "output_type": "stream",
     "text": [
      "I'm student of iNeuron\n"
     ]
    }
   ],
   "source": [
    "a=\"I\\'m student of iNeuron\"\n",
    "a[]"
   ]
  },
  {
   "cell_type": "markdown",
   "id": "0e5960ba",
   "metadata": {},
   "source": [
    "# 6. What are the values of the given expressions?\n",
    "# &#39;Hello, world!&#39;[1]\n",
    "#  &#39;Hello, world!&#39;[0:5]\n",
    "# &#39;Hello, world!&#39;[:5]\n",
    "# &#39;Hello, world!&#39;[3:]"
   ]
  },
  {
   "cell_type": "code",
   "execution_count": 41,
   "id": "81df2142",
   "metadata": {},
   "outputs": [
    {
     "data": {
      "text/plain": [
       "'e'"
      ]
     },
     "execution_count": 41,
     "metadata": {},
     "output_type": "execute_result"
    }
   ],
   "source": [
    "'Hello, world!'[1]"
   ]
  },
  {
   "cell_type": "code",
   "execution_count": 44,
   "id": "3ef890be",
   "metadata": {},
   "outputs": [
    {
     "data": {
      "text/plain": [
       "'Hello'"
      ]
     },
     "execution_count": 44,
     "metadata": {},
     "output_type": "execute_result"
    }
   ],
   "source": [
    "'Hello, world!'[0:5]"
   ]
  },
  {
   "cell_type": "code",
   "execution_count": 45,
   "id": "f851ced6",
   "metadata": {},
   "outputs": [
    {
     "data": {
      "text/plain": [
       "'Hello'"
      ]
     },
     "execution_count": 45,
     "metadata": {},
     "output_type": "execute_result"
    }
   ],
   "source": [
    "'Hello, world!'[:5]"
   ]
  },
  {
   "cell_type": "code",
   "execution_count": 46,
   "id": "4d8c203a",
   "metadata": {},
   "outputs": [
    {
     "data": {
      "text/plain": [
       "'lo, world!'"
      ]
     },
     "execution_count": 46,
     "metadata": {},
     "output_type": "execute_result"
    }
   ],
   "source": [
    "'Hello, world!'[3:]"
   ]
  },
  {
   "cell_type": "markdown",
   "id": "ece963e5",
   "metadata": {},
   "source": [
    "# 7. What are the values of the following expressions?\n",
    "# &#39;Hello&#39;.upper()\n",
    "# &#39;Hello&#39;.upper().isupper()\n",
    "# &#39;Hello&#39;.upper().lower()"
   ]
  },
  {
   "cell_type": "code",
   "execution_count": 47,
   "id": "3e2410a6",
   "metadata": {},
   "outputs": [
    {
     "data": {
      "text/plain": [
       "'HELLO'"
      ]
     },
     "execution_count": 47,
     "metadata": {},
     "output_type": "execute_result"
    }
   ],
   "source": [
    "'Hello'.upper()"
   ]
  },
  {
   "cell_type": "code",
   "execution_count": 49,
   "id": "44d1b8ed",
   "metadata": {},
   "outputs": [
    {
     "data": {
      "text/plain": [
       "True"
      ]
     },
     "execution_count": 49,
     "metadata": {},
     "output_type": "execute_result"
    }
   ],
   "source": [
    "'Hello'.upper().isupper()\n"
   ]
  },
  {
   "cell_type": "code",
   "execution_count": 50,
   "id": "7fbdcc61",
   "metadata": {},
   "outputs": [
    {
     "data": {
      "text/plain": [
       "'hello'"
      ]
     },
     "execution_count": 50,
     "metadata": {},
     "output_type": "execute_result"
    }
   ],
   "source": [
    "'Hello'.upper().lower()"
   ]
  },
  {
   "cell_type": "markdown",
   "id": "936c9e87",
   "metadata": {},
   "source": [
    "# 8. What are the values of the following expressions?\n",
    "# &#39;Remember, remember, the fifth of July.&#39;.split()\n",
    "# &#39;-&#39;.join(&#39;There can only one.&#39;.split())"
   ]
  },
  {
   "cell_type": "code",
   "execution_count": 51,
   "id": "2947493b",
   "metadata": {},
   "outputs": [
    {
     "data": {
      "text/plain": [
       "['Remember,', 'remember,', 'the', 'fifth', 'of', 'July.']"
      ]
     },
     "execution_count": 51,
     "metadata": {},
     "output_type": "execute_result"
    }
   ],
   "source": [
    "'Remember, remember, the fifth of July.'.split()"
   ]
  },
  {
   "cell_type": "code",
   "execution_count": 53,
   "id": "3adeb6b6",
   "metadata": {},
   "outputs": [
    {
     "data": {
      "text/plain": [
       "'There-can-only-one.'"
      ]
     },
     "execution_count": 53,
     "metadata": {},
     "output_type": "execute_result"
    }
   ],
   "source": [
    "'-'.join('There can only one.'.split())"
   ]
  },
  {
   "cell_type": "markdown",
   "id": "88c783a7",
   "metadata": {},
   "source": [
    "# 9. What are the methods for right-justifying, left-justifying, and centering a string?"
   ]
  },
  {
   "cell_type": "markdown",
   "id": "5d48e42c",
   "metadata": {},
   "source": [
    "str.ljust\n",
    "str.rjust\n",
    "str.center\n",
    "Are used to right-justifying, left-justifying, and centering a string."
   ]
  },
  {
   "cell_type": "code",
   "execution_count": 65,
   "id": "3bbd10fe",
   "metadata": {},
   "outputs": [
    {
     "data": {
      "text/plain": [
       "'iNeuron is best-----'"
      ]
     },
     "execution_count": 65,
     "metadata": {},
     "output_type": "execute_result"
    }
   ],
   "source": [
    "a = 'iNeuron is best'\n",
    "a.ljust(20,'-')"
   ]
  },
  {
   "cell_type": "code",
   "execution_count": 64,
   "id": "62e1e597",
   "metadata": {},
   "outputs": [
    {
     "data": {
      "text/plain": [
       "'-----iNeuron is best'"
      ]
     },
     "execution_count": 64,
     "metadata": {},
     "output_type": "execute_result"
    }
   ],
   "source": [
    "a = 'iNeuron is best'\n",
    "a.rjust(20,'-')"
   ]
  },
  {
   "cell_type": "code",
   "execution_count": 66,
   "id": "539ba910",
   "metadata": {},
   "outputs": [
    {
     "data": {
      "text/plain": [
       "'--iNeuron is best---'"
      ]
     },
     "execution_count": 66,
     "metadata": {},
     "output_type": "execute_result"
    }
   ],
   "source": [
    "a = 'iNeuron is best'\n",
    "a.center(20,'-')"
   ]
  },
  {
   "cell_type": "markdown",
   "id": "ad843e4b",
   "metadata": {},
   "source": [
    "# 10. What is the best way to remove whitespace characters from the start or end?"
   ]
  },
  {
   "cell_type": "code",
   "execution_count": 68,
   "id": "6ac9ae42",
   "metadata": {},
   "outputs": [
    {
     "data": {
      "text/plain": [
       "'iNeuron is best            '"
      ]
     },
     "execution_count": 68,
     "metadata": {},
     "output_type": "execute_result"
    }
   ],
   "source": [
    "a = '       iNeuron is best            '\n",
    "a.lstrip()"
   ]
  },
  {
   "cell_type": "code",
   "execution_count": 69,
   "id": "9d8084f3",
   "metadata": {},
   "outputs": [
    {
     "data": {
      "text/plain": [
       "'       iNeuron is best'"
      ]
     },
     "execution_count": 69,
     "metadata": {},
     "output_type": "execute_result"
    }
   ],
   "source": [
    "a = '       iNeuron is best            '\n",
    "a.rstrip()"
   ]
  },
  {
   "cell_type": "code",
   "execution_count": 70,
   "id": "203d63b0",
   "metadata": {},
   "outputs": [
    {
     "data": {
      "text/plain": [
       "'iNeuron is best'"
      ]
     },
     "execution_count": 70,
     "metadata": {},
     "output_type": "execute_result"
    }
   ],
   "source": [
    "a = '       iNeuron is best            '\n",
    "a.strip()"
   ]
  }
 ],
 "metadata": {
  "kernelspec": {
   "display_name": "Python 3 (ipykernel)",
   "language": "python",
   "name": "python3"
  },
  "language_info": {
   "codemirror_mode": {
    "name": "ipython",
    "version": 3
   },
   "file_extension": ".py",
   "mimetype": "text/x-python",
   "name": "python",
   "nbconvert_exporter": "python",
   "pygments_lexer": "ipython3",
   "version": "3.9.12"
  }
 },
 "nbformat": 4,
 "nbformat_minor": 5
}
