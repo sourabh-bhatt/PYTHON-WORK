{
 "cells": [
  {
   "cell_type": "markdown",
   "id": "8b046138",
   "metadata": {},
   "source": [
    "# Python Programming Basic Assignment"
   ]
  },
  {
   "cell_type": "markdown",
   "id": "ef30d742",
   "metadata": {},
   "source": [
    "## Programming Assignment_4"
   ]
  },
  {
   "cell_type": "markdown",
   "id": "24990947",
   "metadata": {},
   "source": [
    "# 1. Write a Python Program to Find the Factorial of a Number?\n"
   ]
  },
  {
   "cell_type": "code",
   "execution_count": 6,
   "id": "b46c30fc",
   "metadata": {},
   "outputs": [
    {
     "name": "stdout",
     "output_type": "stream",
     "text": [
      "Enter a number to finnd factorial: 5\n",
      "The factorial of 5 is 120\n"
     ]
    }
   ],
   "source": [
    "def factorial_function():\n",
    "    \"\"\"This program will find factorial of a Number\"\"\"\n",
    "    n = int(input('Enter a number to finnd factorial: '))\n",
    "    factorial = 1\n",
    "    if n < 0:\n",
    "        return 0\n",
    "    elif n == 0:\n",
    "        return 1\n",
    "    else:\n",
    "        for i in range(1,n + 1):\n",
    "            factorial = factorial*i\n",
    "        print(\"The factorial of\",n,\"is\",factorial)\n",
    "factorial_function()"
   ]
  },
  {
   "cell_type": "markdown",
   "id": "b3837264",
   "metadata": {},
   "source": [
    "# 2. Write a Python Program to Display the multiplication Table?\n"
   ]
  },
  {
   "cell_type": "code",
   "execution_count": 23,
   "id": "be50dc2a",
   "metadata": {},
   "outputs": [
    {
     "name": "stdout",
     "output_type": "stream",
     "text": [
      "Enter number for which you want multiplication table: 2\n",
      "2 * 1 = 2\n",
      "2 * 2 = 4\n",
      "2 * 3 = 6\n",
      "2 * 4 = 8\n",
      "2 * 5 = 10\n",
      "2 * 6 = 12\n",
      "2 * 7 = 14\n",
      "2 * 8 = 16\n",
      "2 * 9 = 18\n",
      "2 * 10 = 20\n",
      "2 * 11 = 22\n",
      "2 * 12 = 24\n",
      "2 * 13 = 26\n",
      "2 * 14 = 28\n",
      "2 * 15 = 30\n",
      "2 * 16 = 32\n",
      "2 * 17 = 34\n",
      "2 * 18 = 36\n",
      "2 * 19 = 38\n",
      "2 * 20 = 40\n"
     ]
    }
   ],
   "source": [
    "def multiplication_table():\n",
    "    \"\"\"This program will display the multiplication table of a Number\"\"\"\n",
    "    n = int(input('Enter number for which you want multiplication table: '))\n",
    "    for i in range(1,21):\n",
    "        print(n,'*', i, '=', n*i)\n",
    "multiplication_table()"
   ]
  },
  {
   "cell_type": "markdown",
   "id": "c36b7329",
   "metadata": {},
   "source": [
    "# 3. Write a Python Program to Print the Fibonacci sequence?\n"
   ]
  },
  {
   "cell_type": "code",
   "execution_count": 29,
   "id": "b76acc5c",
   "metadata": {},
   "outputs": [
    {
     "name": "stdout",
     "output_type": "stream",
     "text": [
      "Enter number of terms to show: 20\n",
      "Fibonacci sequence:\n",
      "0\n",
      "1\n",
      "1\n",
      "2\n",
      "3\n",
      "5\n",
      "8\n",
      "13\n",
      "21\n",
      "34\n",
      "55\n",
      "89\n",
      "144\n",
      "233\n",
      "377\n",
      "610\n",
      "987\n",
      "1597\n",
      "2584\n",
      "4181\n"
     ]
    }
   ],
   "source": [
    "def fibonacci_sequence():\n",
    "    \"\"\"It will generate Fibonacci sequence for you\"\"\"\n",
    "    n = int(input('Enter number of terms to show: '))\n",
    "    n1, n2 = 0, 1\n",
    "    count = 0\n",
    "    if n <= 0:\n",
    "        print('Only positive integers are valid: ')\n",
    "    elif n == 1:\n",
    "        print(\"Print Fibonacci sequence till: \",n,\":\")\n",
    "        print(n1)\n",
    "    else:\n",
    "        print(\"Fibonacci sequence:\")\n",
    "        while count < n:\n",
    "            print(n1)\n",
    "            nth = n1 + n2\n",
    "            n1 = n2\n",
    "            n2 = nth\n",
    "            count += 1\n",
    "fibonacci_sequence()"
   ]
  },
  {
   "cell_type": "markdown",
   "id": "d34fcb1a",
   "metadata": {},
   "source": [
    "# 4. Write a Python Program to Check Armstrong Number?\n"
   ]
  },
  {
   "cell_type": "code",
   "execution_count": 53,
   "id": "63c856c2",
   "metadata": {},
   "outputs": [
    {
     "name": "stdout",
     "output_type": "stream",
     "text": [
      "Enter the  number: 1\n",
      "1 is a armstrong number\n"
     ]
    }
   ],
   "source": [
    "def armstrong():\n",
    "    n = int(input(\"Enter the  number: \"))\n",
    "    sum = 0\n",
    "    temp = n #set a temporarily variable to store value of n\n",
    "    while temp > 0:\n",
    "        digit = temp % 10\n",
    "        sum += digit ** 3\n",
    "        temp //= 10\n",
    "        if n == sum:\n",
    "            print(n,\"is a armstrong number\")\n",
    "        else:\n",
    "            print(n,\"is not a armstrong number\")\n",
    "armstrong()"
   ]
  },
  {
   "cell_type": "code",
   "execution_count": 54,
   "id": "137ed2d3",
   "metadata": {},
   "outputs": [
    {
     "name": "stdout",
     "output_type": "stream",
     "text": [
      "Enter the  number: 2\n",
      "2 is not a armstrong number\n"
     ]
    }
   ],
   "source": [
    "armstrong()"
   ]
  },
  {
   "cell_type": "markdown",
   "id": "86c86512",
   "metadata": {},
   "source": [
    "# 5. Write a Python Program to Find Armstrong Number in an Interval?\n"
   ]
  },
  {
   "cell_type": "code",
   "execution_count": 58,
   "id": "cb1332d4",
   "metadata": {},
   "outputs": [
    {
     "name": "stdout",
     "output_type": "stream",
     "text": [
      "Enter the first number: 5\n",
      "Enter the second number: 10\n",
      "5\n",
      "6\n",
      "7\n",
      "8\n",
      "9\n"
     ]
    }
   ],
   "source": [
    "def arm_interval():\n",
    "    n1 = int(input('Enter the first number: '))\n",
    "    n2 = int(input('Enter the second number: '))\n",
    "    for n in range(n1, n2 + 1):\n",
    "        s = len(str(n))\n",
    "        sum = 0\n",
    "        temp = n\n",
    "        while temp > 0:\n",
    "            digit = temp % 10\n",
    "            sum += digit ** s\n",
    "            temp //= 10\n",
    "            if n == sum:\n",
    "                print(n)\n",
    "arm_interval()        "
   ]
  },
  {
   "cell_type": "markdown",
   "id": "4f2de059",
   "metadata": {},
   "source": [
    "# 6. Write a Python Program to Find the Sum of Natural Numbers?"
   ]
  },
  {
   "cell_type": "code",
   "execution_count": 44,
   "id": "414c5938",
   "metadata": {},
   "outputs": [],
   "source": [
    "def sum_N():\n",
    "    \"\"\"This program will calculate the sum of natural numbers\"\"\"\n",
    "    n = int(input('Enter number upto which you wanna add: '))\n",
    "    if n < 0:\n",
    "        print('Please enter only positive integers')\n",
    "    else:\n",
    "        sum = 0\n",
    "        while(n > 0):\n",
    "            sum += n\n",
    "            n -= 1\n",
    "        print('The sum of natural numbers is: ',sum,)\n"
   ]
  },
  {
   "cell_type": "code",
   "execution_count": 45,
   "id": "43ad53aa",
   "metadata": {},
   "outputs": [
    {
     "name": "stdout",
     "output_type": "stream",
     "text": [
      "Enter number upto which you wanna add: 10\n",
      "The sum of natural numbers is:  55\n"
     ]
    }
   ],
   "source": [
    "sum_N()"
   ]
  }
 ],
 "metadata": {
  "kernelspec": {
   "display_name": "Python 3",
   "language": "python",
   "name": "python3"
  },
  "language_info": {
   "codemirror_mode": {
    "name": "ipython",
    "version": 3
   },
   "file_extension": ".py",
   "mimetype": "text/x-python",
   "name": "python",
   "nbconvert_exporter": "python",
   "pygments_lexer": "ipython3",
   "version": "3.8.8"
  }
 },
 "nbformat": 4,
 "nbformat_minor": 5
}
