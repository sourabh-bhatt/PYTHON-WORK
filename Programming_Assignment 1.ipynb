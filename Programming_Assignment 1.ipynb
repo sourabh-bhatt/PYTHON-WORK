{
 "cells": [
  {
   "cell_type": "markdown",
   "id": "1e70fd85",
   "metadata": {},
   "source": [
    "# Python Programming Basic Assignment"
   ]
  },
  {
   "cell_type": "markdown",
   "id": "1b269be1",
   "metadata": {},
   "source": [
    "   ###                                                                 Programming_Assignment 1"
   ]
  },
  {
   "cell_type": "markdown",
   "id": "d90849bd",
   "metadata": {},
   "source": [
    "# Q1. Write a Python program to print &quot;Hello Python&quot;?\n"
   ]
  },
  {
   "cell_type": "code",
   "execution_count": 1,
   "id": "f75ee799",
   "metadata": {},
   "outputs": [
    {
     "name": "stdout",
     "output_type": "stream",
     "text": [
      "Hello Python\n"
     ]
    }
   ],
   "source": [
    "print(\"Hello Python\")"
   ]
  },
  {
   "cell_type": "markdown",
   "id": "1e8885ca",
   "metadata": {},
   "source": [
    "# 2. Write a Python program to do arithmetical operations addition and division.?"
   ]
  },
  {
   "cell_type": "code",
   "execution_count": 33,
   "id": "e9fa8cef",
   "metadata": {},
   "outputs": [],
   "source": [
    "def arithmetical_operations():\n",
    "    \"\"\"This program will do arithmetical operations \"\"\"\n",
    "    n1 = int(input('enter number 1 for arithmetical operatioons: '))\n",
    "    n2 = int(input('enter number 2 for arithmetical operations: '))\n",
    "    addition = n1+n2\n",
    "    print('The sum of 2 numbers is',addition)\n",
    "    division = n1/n2\n",
    "    print('The division of 2 numbers is',division)\n",
    "    "
   ]
  },
  {
   "cell_type": "code",
   "execution_count": 34,
   "id": "5f4c4964",
   "metadata": {},
   "outputs": [
    {
     "name": "stdout",
     "output_type": "stream",
     "text": [
      "enter number 1 for arithmetical operatioons: 2\n",
      "enter number 2 for arithmetical operations: 3\n",
      "The sum of 2 numbers is 5\n",
      "The division of 2 numbers is 0.6666666666666666\n"
     ]
    }
   ],
   "source": [
    "arithmetical_operations()"
   ]
  },
  {
   "cell_type": "markdown",
   "id": "07dd04a9",
   "metadata": {},
   "source": [
    "# 3. Write a Python program to find the area of a triangle?\n"
   ]
  },
  {
   "cell_type": "code",
   "execution_count": 38,
   "id": "1a6df1c8",
   "metadata": {},
   "outputs": [
    {
     "name": "stdout",
     "output_type": "stream",
     "text": [
      "enter the side a of triangle: 2\n",
      "enter the side a of triangle: 3\n",
      "enter the side a of triangle: 4\n",
      "Area of triangle will be 2.9047375096555625\n"
     ]
    }
   ],
   "source": [
    "def area_of_triangle():\n",
    "    \"\"\"This program will calculate area of a triangle\"\"\"\n",
    "    side_a = int(input('enter the side a of triangle: '))\n",
    "    side_b = int(input('enter the side a of triangle: '))\n",
    "    side_c = int(input('enter the side a of triangle: '))\n",
    "    n = (side_a + side_b + side_c) / 2\n",
    "    area = (n*(n-side_a)*(n-side_b)*(n-side_c)) ** 0.5  \n",
    "    print('Area of triangle will be', area)\n",
    "area_of_triangle()"
   ]
  },
  {
   "cell_type": "markdown",
   "id": "27a37d8f",
   "metadata": {},
   "source": [
    "# 4. Write a Python program to swap two variables?\n"
   ]
  },
  {
   "cell_type": "code",
   "execution_count": 39,
   "id": "44472064",
   "metadata": {},
   "outputs": [
    {
     "name": "stdout",
     "output_type": "stream",
     "text": [
      "var_a =  Bhatt\n",
      "var_b =  Sourabh\n"
     ]
    }
   ],
   "source": [
    "def swap_two_variables():\n",
    "    \"\"\"This program will swap two variables\"\"\"\n",
    "    var_a = 'Sourabh'\n",
    "    var_b = 'Bhatt'\n",
    "    var_a, var_b = var_b, var_a\n",
    "    print('var_a = ',var_a)\n",
    "    print('var_b = ',var_b)\n",
    "swap_two_variables()"
   ]
  },
  {
   "cell_type": "markdown",
   "id": "bef718ac",
   "metadata": {},
   "source": [
    "# 5. Write a Python program to generate a random number?"
   ]
  },
  {
   "cell_type": "code",
   "execution_count": 42,
   "id": "385b53bc",
   "metadata": {},
   "outputs": [],
   "source": [
    "import random"
   ]
  },
  {
   "cell_type": "code",
   "execution_count": 46,
   "id": "752170e2",
   "metadata": {},
   "outputs": [
    {
     "name": "stdout",
     "output_type": "stream",
     "text": [
      "['Sudhanshu Sir', 'Krish Sir', 'Sourabh', 'Sunny Sir']\n"
     ]
    }
   ],
   "source": [
    "def generate_random_numbers():\n",
    "    \"\"\"This program will generate random numbers\"\"\"\n",
    "    l = ['Sourabh','Sudhanshu Sir','Krish Sir','Sunny Sir']\n",
    "    random.shuffle(l)\n",
    "    print(l)\n",
    "generate_random_numbers()"
   ]
  },
  {
   "cell_type": "code",
   "execution_count": 47,
   "id": "12c9587d",
   "metadata": {},
   "outputs": [
    {
     "name": "stdout",
     "output_type": "stream",
     "text": [
      "['Sunny Sir', 'Krish Sir', 'Sourabh', 'Sudhanshu Sir']\n"
     ]
    }
   ],
   "source": [
    "generate_random_numbers()"
   ]
  },
  {
   "cell_type": "code",
   "execution_count": 48,
   "id": "234bbc9f",
   "metadata": {},
   "outputs": [
    {
     "name": "stdout",
     "output_type": "stream",
     "text": [
      "['Sourabh', 'Sudhanshu Sir', 'Krish Sir', 'Sunny Sir']\n"
     ]
    }
   ],
   "source": [
    "generate_random_numbers()"
   ]
  },
  {
   "cell_type": "code",
   "execution_count": 49,
   "id": "1642a3b0",
   "metadata": {},
   "outputs": [
    {
     "name": "stdout",
     "output_type": "stream",
     "text": [
      "['Sudhanshu Sir', 'Sourabh', 'Sunny Sir', 'Krish Sir']\n"
     ]
    }
   ],
   "source": [
    "generate_random_numbers()"
   ]
  },
  {
   "cell_type": "code",
   "execution_count": null,
   "id": "6970d2a2",
   "metadata": {},
   "outputs": [],
   "source": []
  }
 ],
 "metadata": {
  "kernelspec": {
   "display_name": "Python 3",
   "language": "python",
   "name": "python3"
  },
  "language_info": {
   "codemirror_mode": {
    "name": "ipython",
    "version": 3
   },
   "file_extension": ".py",
   "mimetype": "text/x-python",
   "name": "python",
   "nbconvert_exporter": "python",
   "pygments_lexer": "ipython3",
   "version": "3.8.8"
  }
 },
 "nbformat": 4,
 "nbformat_minor": 5
}
