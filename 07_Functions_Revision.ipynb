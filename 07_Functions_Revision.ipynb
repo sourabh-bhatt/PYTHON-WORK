{
  "cells": [
    {
      "cell_type": "markdown",
      "metadata": {
        "id": "QBZVPYVIQ5q5"
      },
      "source": [
        "<img src=\"https://d24cdstip7q8pz.cloudfront.net/t/ineuron1/content/common/images/final%20logo.png\" height=60 alt-text=\"iNeuron.ai logo\">"
      ]
    },
    {
      "cell_type": "markdown",
      "metadata": {
        "id": "GRLR88NvpmgA"
      },
      "source": [
        "- What Is A Function ?\n",
        "\n",
        "- Function V/s Method\n",
        "\n",
        "- Steps Required For Developing User Defined Function and Calling that Function\n",
        "\n",
        "- Returning Values From Function\n",
        "\n",
        "- Arguments V/s Parameters\n",
        "\n",
        "- Types Of Arguments\n",
        "\n",
        "- Variable Scope\n",
        "\n",
        "- Local Scope\n",
        "\n",
        "- Global Scope\n",
        "\n",
        "- Argument Passing\n",
        "\n",
        "- Anonymous Functions OR Lambda Function\n",
        "\n",
        "- The map( ) Function\n",
        "\n",
        "- The filter( ) Function\n",
        "\n",
        "- Using map( ) and filter( ) with Lambda Expressions\n"
      ]
    },
    {
      "cell_type": "markdown",
      "metadata": {
        "id": "vT4GIszkI4_H"
      },
      "source": [
        "## 07 Functions\n",
        "\n",
        "- **Definition**: Function are nothing but a block of code which performs a specific task and can be called again and again as per requirement in the code.\n",
        "- A generic way to write a simple function is shown below-\n",
        "```python\n",
        "def function_name():\n",
        "    # function body starts\n",
        "    pass\n",
        "    # function body ends\n",
        "# calling function in the code -\n",
        "function_name() \n",
        "```\n",
        "\n",
        "- **DRY**: It stands for **D**o not **R**epeat **Y**ourself. It means that a good generally should not contain repeated blocks of code. So if you observe in your code repeatition of certain lines of code then you can also make it a function and call as per your requirement. Let's see an example below-"
      ]
    },
    {
      "cell_type": "markdown",
      "metadata": {
        "id": "8fvQMOEhhRxA"
      },
      "source": [
        "### 7.1 A simple function definition\n",
        "**EXAMPLE:**"
      ]
    },
    {
      "cell_type": "code",
      "execution_count": null,
      "metadata": {
        "id": "D3UIkgvfIcnc"
      },
      "outputs": [],
      "source": [
        "def function_name():\n",
        "    # function body starts\n",
        "    pass\n",
        "    # function body ends\n",
        "\n",
        "# calling function in the code -\n",
        "function_name() "
      ]
    },
    {
      "cell_type": "markdown",
      "metadata": {
        "id": "YKENVJ23jQBW"
      },
      "source": [
        "**EXAMPLE:**"
      ]
    },
    {
      "cell_type": "code",
      "execution_count": null,
      "metadata": {
        "id": "_fn4N0q6ilXw"
      },
      "outputs": [],
      "source": [
        "def greetings():\n",
        "    print(\"Hi there from iNeuron\")\n",
        "\n",
        "# calling greeting function in the code -\n",
        "greetings() "
      ]
    },
    {
      "cell_type": "markdown",
      "metadata": {
        "id": "5dCMlQemuQgP"
      },
      "source": [
        "- We can also pass some values to the function. These values are known as arguments.A function can have following kind of arguments -\n",
        "    - 1. Key word arguments: Here we define the name of arguments"
      ]
    },
    {
      "cell_type": "markdown",
      "metadata": {
        "id": "zVRSSqeRjcq3"
      },
      "source": [
        "**EXAMPLE**:\n",
        "Observe the below code from Expressions, Operators, and Precedence Chapter- "
      ]
    },
    {
      "cell_type": "code",
      "execution_count": null,
      "metadata": {
        "id": "ZD9AXQoJjN3K"
      },
      "outputs": [],
      "source": [
        "# Block One\n",
        "BIKE = True\n",
        "CAR = True\n",
        "TRAVEL_100_KM = BIKE or CAR\n",
        "\n",
        "print(f\"You have BIKE: {BIKE}\")\n",
        "print(f\"You have CAR: {CAR}\")\n",
        "print(f\"You can travel 100 KMs: {TRAVEL_100_KM}\\n\")\n",
        "\n",
        "\n",
        "# Block Two\n",
        "BIKE = True\n",
        "CAR = False\n",
        "TRAVEL_100_KM = BIKE or CAR\n",
        "\n",
        "print(f\"You have BIKE: {BIKE}\")\n",
        "print(f\"You have CAR: {CAR}\")\n",
        "print(f\"You can travel 100 KMs: {TRAVEL_100_KM}\\n\")\n",
        "\n",
        "# Block Three\n",
        "BIKE = False\n",
        "CAR = True\n",
        "TRAVEL_100_KM = BIKE or CAR\n",
        "\n",
        "print(f\"You have BIKE: {BIKE}\")\n",
        "print(f\"You have CAR: {CAR}\")\n",
        "print(f\"You can travel 100 KMs: {TRAVEL_100_KM}\\n\")\n",
        "\n",
        "# Block Four\n",
        "BIKE = False\n",
        "CAR = False\n",
        "TRAVEL_100_KM = BIKE or CAR\n",
        "\n",
        "print(f\"You have BIKE: {BIKE}\")\n",
        "print(f\"You have CAR: {CAR}\")\n",
        "print(f\"You can travel 100 KMs: {TRAVEL_100_KM}\\n\")"
      ]
    },
    {
      "cell_type": "markdown",
      "metadata": {
        "id": "gqaG1lkFvDal"
      },
      "source": [
        "**EXAMPLE**:\n",
        "So above codes are repetetive. Now lets observe the below code which will give the same results as shown above but in avery less line of code. -"
      ]
    },
    {
      "cell_type": "code",
      "execution_count": 2,
      "metadata": {
        "colab": {
          "base_uri": "https://localhost:8080/",
          "height": 425
        },
        "id": "ZZc_2LFCvCQ4",
        "outputId": "af38e452-1a5a-466d-972f-66fe823b6a78"
      },
      "outputs": [
        {
          "output_type": "stream",
          "name": "stdout",
          "text": [
            "You have BIKE: False\n",
            "You have CAR: False\n",
            "You can travel 100 KMs: False\n",
            "\n"
          ]
        },
        {
          "output_type": "error",
          "ename": "NameError",
          "evalue": "ignored",
          "traceback": [
            "\u001b[0;31m---------------------------------------------------------------------------\u001b[0m",
            "\u001b[0;31mNameError\u001b[0m                                 Traceback (most recent call last)",
            "\u001b[0;32m<ipython-input-2-aec0db3c50f4>\u001b[0m in \u001b[0;36m<module>\u001b[0;34m()\u001b[0m\n\u001b[1;32m      7\u001b[0m     \u001b[0mprint\u001b[0m\u001b[0;34m(\u001b[0m\u001b[0;34mf\"you cant: {TRAVEL_100_km}\\n\"\u001b[0m\u001b[0;34m)\u001b[0m\u001b[0;34m\u001b[0m\u001b[0;34m\u001b[0m\u001b[0m\n\u001b[1;32m      8\u001b[0m \u001b[0;34m\u001b[0m\u001b[0m\n\u001b[0;32m----> 9\u001b[0;31m \u001b[0mtravel_or_not\u001b[0m\u001b[0;34m(\u001b[0m\u001b[0;32mFalse\u001b[0m\u001b[0;34m,\u001b[0m \u001b[0;32mFalse\u001b[0m\u001b[0;34m)\u001b[0m\u001b[0;34m\u001b[0m\u001b[0;34m\u001b[0m\u001b[0m\n\u001b[0m\u001b[1;32m     10\u001b[0m \u001b[0;34m\u001b[0m\u001b[0m\n\u001b[1;32m     11\u001b[0m \u001b[0mtravel_or_not\u001b[0m\u001b[0;34m(\u001b[0m\u001b[0;32mFalse\u001b[0m\u001b[0;34m,\u001b[0m \u001b[0;32mTrue\u001b[0m\u001b[0;34m)\u001b[0m\u001b[0;34m\u001b[0m\u001b[0;34m\u001b[0m\u001b[0m\n",
            "\u001b[0;32m<ipython-input-2-aec0db3c50f4>\u001b[0m in \u001b[0;36mtravel_or_not\u001b[0;34m(BIKE, CAR)\u001b[0m\n\u001b[1;32m      5\u001b[0m     \u001b[0mprint\u001b[0m\u001b[0;34m(\u001b[0m\u001b[0;34mf\"You have CAR: {CAR}\"\u001b[0m\u001b[0;34m)\u001b[0m\u001b[0;34m\u001b[0m\u001b[0;34m\u001b[0m\u001b[0m\n\u001b[1;32m      6\u001b[0m     \u001b[0mprint\u001b[0m\u001b[0;34m(\u001b[0m\u001b[0;34mf\"You can travel 100 KMs: {TRAVEL_100_KM}\\n\"\u001b[0m\u001b[0;34m)\u001b[0m\u001b[0;34m\u001b[0m\u001b[0;34m\u001b[0m\u001b[0m\n\u001b[0;32m----> 7\u001b[0;31m     \u001b[0mprint\u001b[0m\u001b[0;34m(\u001b[0m\u001b[0;34mf\"you cant: {TRAVEL_100_km}\\n\"\u001b[0m\u001b[0;34m)\u001b[0m\u001b[0;34m\u001b[0m\u001b[0;34m\u001b[0m\u001b[0m\n\u001b[0m\u001b[1;32m      8\u001b[0m \u001b[0;34m\u001b[0m\u001b[0m\n\u001b[1;32m      9\u001b[0m \u001b[0mtravel_or_not\u001b[0m\u001b[0;34m(\u001b[0m\u001b[0;32mFalse\u001b[0m\u001b[0;34m,\u001b[0m \u001b[0;32mFalse\u001b[0m\u001b[0;34m)\u001b[0m\u001b[0;34m\u001b[0m\u001b[0;34m\u001b[0m\u001b[0m\n",
            "\u001b[0;31mNameError\u001b[0m: name 'TRAVEL_100_km' is not defined"
          ]
        }
      ],
      "source": [
        "def travel_or_not(BIKE, CAR):\n",
        "    TRAVEL_100_KM = BIKE or CAR\n",
        "\n",
        "    print(f\"You have BIKE: {BIKE}\")\n",
        "    print(f\"You have CAR: {CAR}\")\n",
        "    print(f\"You can travel 100 KMs: {TRAVEL_100_KM}\\n\")\n",
        "    print(f\"you cant: {TRAVEL_100_km}\\n\")\n",
        "\n",
        "travel_or_not(False, False)\n",
        "\n",
        "travel_or_not(False, True)\n",
        "\n",
        "travel_or_not(True, False)\n",
        "\n",
        "travel_or_not(True, True)\n"
      ]
    },
    {
      "cell_type": "markdown",
      "metadata": {
        "id": "OVLcxCoxv8Sk"
      },
      "source": [
        "**EXAMPLE**:\n",
        "Lets make it more concise using a for loop and remove the repetition-"
      ]
    },
    {
      "cell_type": "code",
      "execution_count": null,
      "metadata": {
        "id": "jT2_Zy-Kvt2N"
      },
      "outputs": [],
      "source": [
        "def travel_or_not(BIKE, CAR):\n",
        "    TRAVEL_100_KM = BIKE or CAR\n",
        "\n",
        "    print(f\"You have BIKE: {BIKE}\")\n",
        "    print(f\"You have CAR: {CAR}\")\n",
        "    print(f\"You can travel 100 KMs: {TRAVEL_100_KM}\\n\")\n",
        "    \n",
        "BIKE = [False, False, True, True]\n",
        "CAR = [False, True,False, True]\n",
        "\n",
        "for bike, car in zip(BIKE, CAR):\n",
        "    travel_or_not(bike, car)"
      ]
    },
    {
      "cell_type": "markdown",
      "metadata": {
        "id": "4If023q33yuz"
      },
      "source": [
        "### 7.2 Default Arguments\n",
        "\n",
        "**EXAMPLE**:\n",
        "Let's see a different varient of above code. You can also define a default value of the arguments which will be utilized when no argument is passed. as shown below -\n"
      ]
    },
    {
      "cell_type": "code",
      "execution_count": null,
      "metadata": {
        "id": "3UQLjrUdwf3R"
      },
      "outputs": [],
      "source": [
        "def travel_or_not(BIKE=True, CAR=False):\n",
        "    TRAVEL_100_KM = BIKE or CAR\n",
        "\n",
        "    print(f\"You have BIKE: {BIKE}\")\n",
        "    print(f\"You have CAR: {CAR}\")\n",
        "    print(f\"You can travel 100 KMs: {TRAVEL_100_KM}\\n\")\n",
        "\n",
        "\n",
        "travel_or_not()"
      ]
    },
    {
      "cell_type": "code",
      "execution_count": null,
      "metadata": {
        "id": "dw1mX_Z94jEW"
      },
      "outputs": [],
      "source": [
        "def travel_or_not(BIKE=True, CAR=False):\n",
        "    TRAVEL_100_KM = BIKE or CAR\n",
        "\n",
        "    print(f\"You have BIKE: {BIKE}\")\n",
        "    print(f\"You have CAR: {CAR}\")\n",
        "    print(f\"You can travel 100 KMs: {TRAVEL_100_KM}\\n\")\n",
        "\n",
        "\n",
        "travel_or_not(False, True) # overriding the default arguments value by passing our value"
      ]
    },
    {
      "cell_type": "markdown",
      "metadata": {
        "id": "cFcCwhWa46rk"
      },
      "source": [
        "**EXAMPLE**: \n",
        "Here ```None``` gets printed if we try to print the ouput of the given function because it is not returning any value. Its just printing ther results."
      ]
    },
    {
      "cell_type": "code",
      "execution_count": null,
      "metadata": {
        "id": "nPMWsQTu410Z"
      },
      "outputs": [],
      "source": [
        "result = travel_or_not(False, True)\n",
        "print(f\"\\nresults:-\\n{result}\")"
      ]
    },
    {
      "cell_type": "markdown",
      "metadata": {
        "id": "O1BzNPzw4Wf_"
      },
      "source": [
        "### 7.3 Return statement\n",
        "\n",
        "**EXAMPLE**:\n",
        "In some cases you'd like to return some value from a function. So for that we use a return keyword to return the results as show below-"
      ]
    },
    {
      "cell_type": "code",
      "execution_count": null,
      "metadata": {
        "id": "yO8X2hwM4K_E"
      },
      "outputs": [],
      "source": [
        "def travel_or_not(BIKE=True, CAR=False):\n",
        "    TRAVEL_100_KM = BIKE or CAR\n",
        "\n",
        "    print(f\"You have BIKE: {BIKE}\")\n",
        "    print(f\"You have CAR: {CAR}\")\n",
        "    return f\"You can travel 100 KMs: {TRAVEL_100_KM}\\n\"\n",
        "\n",
        "\n",
        "result = travel_or_not(False, True)\n",
        "print(f\"\\nresults:-\\n{result}\")"
      ]
    },
    {
      "cell_type": "markdown",
      "metadata": {
        "id": "49sCSt0a6FeZ"
      },
      "source": [
        "**EXAMPLE**:\n",
        "You can also return multiple values as show below -"
      ]
    },
    {
      "cell_type": "code",
      "execution_count": 3,
      "metadata": {
        "colab": {
          "base_uri": "https://localhost:8080/"
        },
        "id": "RKkSF4954fxV",
        "outputId": "4b040479-def3-4b54-9676-0366f9d14290"
      },
      "outputs": [
        {
          "output_type": "stream",
          "name": "stdout",
          "text": [
            "You have BIKE: False\n",
            "You have CAR: True\n",
            "You can travel 100 KMs: True\n",
            "\n"
          ]
        }
      ],
      "source": [
        "def travel_or_not(BIKE=True, CAR=False):\n",
        "    TRAVEL_100_KM = BIKE or CAR\n",
        "\n",
        "    return BIKE, CAR, TRAVEL_100_KM\n",
        "\n",
        "\n",
        "result1, result2, result3 = travel_or_not(False, True)\n",
        "print(f\"You have BIKE: {result1}\")\n",
        "print(f\"You have CAR: {result2}\")\n",
        "print(f\"You can travel 100 KMs: {result3}\\n\")"
      ]
    },
    {
      "cell_type": "markdown",
      "metadata": {
        "id": "LwhQ3ZkXbghp"
      },
      "source": [
        "### 7.4 Variable length args\n",
        "\n",
        "**EXAMPLE**:\n",
        "At some point there may be chance that you don't know how many args that you should pass. Lets check the example below -"
      ]
    },
    {
      "cell_type": "code",
      "execution_count": 4,
      "metadata": {
        "colab": {
          "base_uri": "https://localhost:8080/"
        },
        "id": "nm2ZWbb76wlF",
        "outputId": "5b81f964-f54d-4692-a356-438764717239"
      },
      "outputs": [
        {
          "output_type": "stream",
          "name": "stdout",
          "text": [
            "My branch was Electronics engineering\n",
            "I liked these subjects in graduation ('Digital Image Processing', 'Microprocessor')\n"
          ]
        }
      ],
      "source": [
        "def branch_and_subjects_in_graduation(*args, branch):\n",
        "    print(f\"My branch was {branch}\")\n",
        "    return f\"I liked these subjects in graduation {args}\"\n",
        "\n",
        "results = branch_and_subjects_in_graduation(\"Digital Image Processing\", \"Microprocessor\", branch=\"Electronics engineering\")\n",
        "print(results)"
      ]
    },
    {
      "cell_type": "code",
      "execution_count": null,
      "metadata": {
        "id": "KFGcxrjIpmgL"
      },
      "outputs": [],
      "source": [
        "def test(*args):\n",
        "    print(args)\n",
        "test(10,20,30,40,50)"
      ]
    },
    {
      "cell_type": "code",
      "execution_count": null,
      "metadata": {
        "id": "NXXxJmi8cLUR"
      },
      "outputs": [],
      "source": [
        "def branch_and_subjects_in_graduation(*args, branch=\"Electronics engineering\"):\n",
        "    print(f\"My branch was {branch}\")\n",
        "    return f\"I liked these subjects in graduation {args}\"\n",
        "\n",
        "results = branch_and_subjects_in_graduation(\"Digital Image Processing\", \"Microprocessor\")\n",
        "print(results)"
      ]
    },
    {
      "cell_type": "markdown",
      "metadata": {
        "id": "Dh0d8gc9KEj2"
      },
      "source": [
        "### 7.5 Variable length keyword args\n",
        "\n",
        "**EXAMPLE**:\n",
        "Some times we need varying keyword arguments as shown below-"
      ]
    },
    {
      "cell_type": "code",
      "execution_count": 5,
      "metadata": {
        "colab": {
          "base_uri": "https://localhost:8080/"
        },
        "id": "-eAm8jZXd3NH",
        "outputId": "bd932f49-2ced-4df7-ad72-2bdd1b68ae70"
      },
      "outputs": [
        {
          "output_type": "stream",
          "name": "stdout",
          "text": [
            "{'Digital_Image_Processing': 78, 'Microprocessor': 79, 'Signals_and_systems': 83}\n"
          ]
        }
      ],
      "source": [
        "def marks_in_subjects_of_semester(**kwargs):\n",
        "    print(kwargs)\n",
        "\n",
        "marks_in_subjects_of_semester(Digital_Image_Processing = 78, Microprocessor= 79, Signals_and_systems=83)"
      ]
    },
    {
      "cell_type": "code",
      "execution_count": 6,
      "metadata": {
        "id": "vyqNOsiGpmgL"
      },
      "outputs": [],
      "source": [
        "def test1(**kwargs):\n",
        "    print(kwargs)"
      ]
    },
    {
      "cell_type": "code",
      "execution_count": 7,
      "metadata": {
        "id": "QPXUHJVkpmgM",
        "outputId": "17ddbbb0-9ea6-4dd3-975d-a8ceadaa874a",
        "colab": {
          "base_uri": "https://localhost:8080/"
        }
      },
      "outputs": [
        {
          "output_type": "stream",
          "name": "stdout",
          "text": [
            "{'a': 10, 'b': 20, 'c': 30, 'd': 40}\n"
          ]
        }
      ],
      "source": [
        "test1(a=10,b=20,c=30,d=40)"
      ]
    },
    {
      "cell_type": "code",
      "execution_count": 8,
      "metadata": {
        "id": "S4OYP8AGpmgM"
      },
      "outputs": [],
      "source": [
        "A=[]\n",
        "B=()\n"
      ]
    },
    {
      "cell_type": "code",
      "execution_count": 9,
      "metadata": {
        "colab": {
          "base_uri": "https://localhost:8080/"
        },
        "id": "U0Qp8F3TKxA8",
        "outputId": "9c432d49-eaaf-4154-deaf-110fcb0c6759"
      },
      "outputs": [
        {
          "output_type": "stream",
          "name": "stdout",
          "text": [
            "Score in Digital_Image_Processing = 78\n",
            "Score in Microprocessor = 79\n",
            "Score in Signals_and_systems = 83\n"
          ]
        }
      ],
      "source": [
        "def marks_in_subjects_of_semester(**kwargs):\n",
        "    for subject, marks in kwargs.items():\n",
        "        print(f\"Score in {subject} = {marks}\")\n",
        "\n",
        "marks_in_subjects_of_semester(Digital_Image_Processing = 78, Microprocessor= 79, Signals_and_systems=83)"
      ]
    },
    {
      "cell_type": "markdown",
      "metadata": {
        "id": "zGhIjY4wLPdO"
      },
      "source": [
        "### 7.6 Functions inside functions -\n",
        "**EXAMPLE**:"
      ]
    },
    {
      "cell_type": "code",
      "execution_count": null,
      "metadata": {
        "id": "Gj8AiIstLDsd"
      },
      "outputs": [],
      "source": [
        "def marks_in_subjects_of_semester(**kwargs):\n",
        "    def total_marks(marks_list):\n",
        "        return sum(marks_list)\n",
        "    \n",
        "    marks_list = list()\n",
        "    for subject, marks in kwargs.items():\n",
        "        marks_list.append(marks)\n",
        "        print(f\"Score in {subject} = {marks}\")\n",
        "    \n",
        "    return total_marks(marks_list)\n",
        "\n",
        "results = marks_in_subjects_of_semester(Digital_Image_Processing = 78, Microprocessor= 79, Signals_and_systems=83)\n",
        "\n",
        "print(f\"\\ntotal marks obtained {results}\")"
      ]
    },
    {
      "cell_type": "markdown",
      "metadata": {
        "id": "1fPdPbr2arGm"
      },
      "source": [
        "### 7.7 Anonymous Function or Lambda Function\n",
        "\n",
        "**EXAMPLE**: Lets convert below example into a onliner or lambda function"
      ]
    },
    {
      "cell_type": "markdown",
      "metadata": {
        "id": "t0t-QK1KbIqB"
      },
      "source": [
        "```python\n",
        "def travel_or_not(BIKE=True, CAR=False):\n",
        "    TRAVEL_100_KM = BIKE or CAR\n",
        "\n",
        "    print(f\"You have BIKE: {BIKE}\")\n",
        "    print(f\"You have CAR: {CAR}\")\n",
        "    return f\"You can travel 100 KMs: {TRAVEL_100_KM}\\n\"\n",
        "\n",
        "\n",
        "result = travel_or_not(False, True)\n",
        "print(f\"\\nresults:-\\n{result}\")\n",
        "```"
      ]
    },
    {
      "cell_type": "code",
      "execution_count": null,
      "metadata": {
        "id": "H7NOHoK2O9Xl"
      },
      "outputs": [],
      "source": [
        "BIKE=True\n",
        "CAR=False\n",
        "\n",
        "result = lambda BIKE, CAR: f\"You can travel 100 KMs: {BIKE or CAR}\\n\"\n",
        "print(f\"\\nresults:-\\n{result(BIKE, CAR)}\")"
      ]
    },
    {
      "cell_type": "markdown",
      "metadata": {
        "id": "km5laIO9b85P"
      },
      "source": [
        "**EXAMPLE**\n",
        "Lets make a lambda function that returns power of an input no. It takes power and number as an input"
      ]
    },
    {
      "cell_type": "code",
      "execution_count": null,
      "metadata": {
        "id": "2OCQhMhwbuaT"
      },
      "outputs": [],
      "source": [
        "number = 5\n",
        "power = 3\n",
        "result = lambda number, power: number**power\n",
        "\n",
        "print(f\"{number} to the power of {power} is {result(number, power)}\")"
      ]
    },
    {
      "cell_type": "markdown",
      "metadata": {
        "id": "tW65_zyDc1Wg"
      },
      "source": [
        "### 7.8 Scope of variables\n",
        "* Variables defined inside the function are known as Local variable\n",
        "\n",
        "* Global varaibles can be accessed anywhere in the script unlike local variable who's scope is defined within the function only. \n",
        "\n",
        "**EXAMPLE**"
      ]
    },
    {
      "cell_type": "code",
      "execution_count": null,
      "metadata": {
        "id": "oRjEhhrack15"
      },
      "outputs": [],
      "source": [
        "result = 0 # outside the scope of function\n",
        "\n",
        "def divide(numerator, denominator):\n",
        "    result = numerator//denominator # result inside the scope of function\n",
        "    print(f\"result after division inside the function: {result}\")\n",
        "\n",
        "numerator = 625\n",
        "denominator = 5\n",
        "divide(numerator, denominator)\n",
        "\n",
        "print(f\"result after division outside the function: {result}\")"
      ]
    },
    {
      "cell_type": "markdown",
      "metadata": {
        "id": "_97TSpl0f-FO"
      },
      "source": [
        "### 7.9 Docstring\n",
        "\n",
        "```python\n",
        "def function():\n",
        "    \"\"\"\n",
        "    This is docstring of the function.\n",
        "    \"\"\"\n",
        "    pass\n",
        "```\n",
        "**EXAMPLE**"
      ]
    },
    {
      "cell_type": "code",
      "execution_count": null,
      "metadata": {
        "id": "Nx8xFCzHgLng"
      },
      "outputs": [],
      "source": [
        "def find_power(number, power):\n",
        "    \"\"\"This function returns the power of the number\n",
        "\n",
        "    Args:\n",
        "        number (int): insert any integer value\n",
        "        power (int): insert any integer value\n",
        "\n",
        "    Returns:\n",
        "        integer: power of number\n",
        "    \"\"\"\n",
        "    return number**power\n",
        "\n",
        "number = 5\n",
        "power = 3\n",
        "result = find_power(number, power)\n",
        "\n",
        "print(f\"{number} to the power of {power} is {result}\")"
      ]
    },
    {
      "cell_type": "code",
      "execution_count": null,
      "metadata": {
        "id": "MfrP3JG4heUu"
      },
      "outputs": [],
      "source": [
        "# This prints the docstring.\n",
        "# Its very good practice to write the docstring of very important function\n",
        "# It imroves code readabilty\n",
        "help(find_power)"
      ]
    },
    {
      "cell_type": "markdown",
      "metadata": {
        "id": "NgbuFE1dpmgO"
      },
      "source": [
        "FUNCTIONS\n",
        "\n",
        "## ----------------------------------------------------------------------"
      ]
    },
    {
      "cell_type": "markdown",
      "metadata": {
        "id": "JnIIP67rpmgO"
      },
      "source": [
        "code re-usability. "
      ]
    },
    {
      "cell_type": "markdown",
      "metadata": {
        "id": "fT5jIo_lpmgO"
      },
      "source": [
        "To create and use a function we have to take 2 steps:\n",
        "\n",
        "\n",
        "Function Definition: Creating or writing the body of a function is called defining it. It contains the set of statements we want to run , when the function execute.\n",
        "\n",
        "Function Call: A function never runs automatically . So to execute it’s statements we must call it\n"
      ]
    },
    {
      "cell_type": "code",
      "execution_count": null,
      "metadata": {
        "id": "M22EYNVupmgO"
      },
      "outputs": [],
      "source": [
        "def function_name(param1,param2):\n",
        "    statement(s)\n"
      ]
    },
    {
      "cell_type": "markdown",
      "metadata": {
        "id": "hW1eMgCYpmgP"
      },
      "source": [
        "### About Return Statement"
      ]
    },
    {
      "cell_type": "markdown",
      "metadata": {
        "id": "X-SfsnYGpmgP"
      },
      "source": [
        "- Return value\n",
        "\n",
        "- Return multiple value\n",
        "\n",
        "- it will stop the execution from that line itself\n"
      ]
    },
    {
      "cell_type": "code",
      "execution_count": null,
      "metadata": {
        "id": "rmN9RhmJpmgQ"
      },
      "outputs": [],
      "source": [
        "def add(x,y):\n",
        "    a=x\n",
        "    b=y\n",
        "    c=a+b\n",
        "    #print(c)\n",
        "    mul=x*y\n",
        "    print(mul)\n",
        "    return c\n",
        "    "
      ]
    },
    {
      "cell_type": "code",
      "execution_count": null,
      "metadata": {
        "id": "W1b3hIz0pmgQ"
      },
      "outputs": [],
      "source": [
        "add(10,20)"
      ]
    },
    {
      "cell_type": "markdown",
      "metadata": {
        "id": "et04xKR3pmgR"
      },
      "source": [
        "#### Parameter vs Argument"
      ]
    },
    {
      "cell_type": "markdown",
      "metadata": {
        "id": "n-NF4FkBpmgR"
      },
      "source": [
        "In Python , a function can have 4 types of arguments:\n",
        "\n",
        "Positional Argument\n",
        "\n",
        "Keyword Argument\n",
        "\n",
        "Default Argument\n",
        "\n",
        "Variable Length Argument\n"
      ]
    },
    {
      "cell_type": "markdown",
      "metadata": {
        "id": "hscFPKoqpmgR"
      },
      "source": [
        "if number of argument is not matching with number of parameter then we will get a type error."
      ]
    },
    {
      "cell_type": "markdown",
      "metadata": {
        "id": "z6lnipXDpmgR"
      },
      "source": [
        "#### Positional Argument"
      ]
    },
    {
      "cell_type": "code",
      "execution_count": null,
      "metadata": {
        "id": "e753hwpcpmgR"
      },
      "outputs": [],
      "source": [
        "def attach(s1,s2):\n",
        "    s3=s1+s2\n",
        "    print(\"Joined String is:\",s3)\n",
        "\n",
        "\n"
      ]
    },
    {
      "cell_type": "code",
      "execution_count": null,
      "metadata": {
        "id": "aOa2--uwpmgR"
      },
      "outputs": [],
      "source": [
        "attach(\"Good\",\"Evening\")"
      ]
    },
    {
      "cell_type": "code",
      "execution_count": null,
      "metadata": {
        "id": "MLW5esfgpmgR"
      },
      "outputs": [],
      "source": [
        "def grocery(name,price):\n",
        "    print(\"Item is\",name,\"It's price is\",price)\n",
        "\n",
        "\n"
      ]
    },
    {
      "cell_type": "code",
      "execution_count": null,
      "metadata": {
        "id": "nDrG-oRypmgS"
      },
      "outputs": [],
      "source": [
        "grocery(\"Bread\",20)\n"
      ]
    },
    {
      "cell_type": "code",
      "execution_count": null,
      "metadata": {
        "id": "Ivy0b1pwpmgS"
      },
      "outputs": [],
      "source": [
        "grocery(150,\"Butter\")"
      ]
    },
    {
      "cell_type": "markdown",
      "metadata": {
        "id": "sQkaxBsXpmgS"
      },
      "source": [
        "#### Keyword Argument"
      ]
    },
    {
      "cell_type": "code",
      "execution_count": null,
      "metadata": {
        "id": "cdMJC0mVpmgS"
      },
      "outputs": [],
      "source": [
        "def grocery(name,price):\n",
        "    print(\"Item is\",name,\"It's price is\",price)\n",
        "\n"
      ]
    },
    {
      "cell_type": "code",
      "execution_count": null,
      "metadata": {
        "id": "oG2MuNfhpmgS"
      },
      "outputs": [],
      "source": [
        "grocery('bread',200)"
      ]
    },
    {
      "cell_type": "code",
      "execution_count": null,
      "metadata": {
        "id": "7RL60GMypmgS"
      },
      "outputs": [],
      "source": [
        "grocery(200,'bread')"
      ]
    },
    {
      "cell_type": "code",
      "execution_count": null,
      "metadata": {
        "id": "C26-pNT4pmgS"
      },
      "outputs": [],
      "source": [
        "grocery(name=\"Bread\",price=20)\n",
        "\n"
      ]
    },
    {
      "cell_type": "code",
      "execution_count": null,
      "metadata": {
        "id": "qLotdtFnpmgS"
      },
      "outputs": [],
      "source": [
        "grocery(price=150,name=\"Butter\")"
      ]
    },
    {
      "cell_type": "code",
      "execution_count": null,
      "metadata": {
        "id": "QbbwlHZ0pmgS"
      },
      "outputs": [],
      "source": [
        "### A positional argument can never follow a keyword argument i.e. the keyword argument should always appear after positional argument\n",
        "\n",
        "###For example:\n",
        "\n",
        "\n"
      ]
    },
    {
      "cell_type": "code",
      "execution_count": null,
      "metadata": {
        "id": "eAOLbjwDpmgT"
      },
      "outputs": [],
      "source": [
        "def display(num1,num2):\n",
        "    # some code\n",
        "    pass\n"
      ]
    },
    {
      "cell_type": "code",
      "execution_count": null,
      "metadata": {
        "id": "mfbYPkjOpmgT"
      },
      "outputs": [],
      "source": [
        "display(num1=10,15)"
      ]
    },
    {
      "cell_type": "code",
      "execution_count": null,
      "metadata": {
        "id": "8PIao-pApmgT"
      },
      "outputs": [],
      "source": [
        "display(15,num1=10)"
      ]
    },
    {
      "cell_type": "code",
      "execution_count": null,
      "metadata": {
        "id": "xGw9oXVEpmgT"
      },
      "outputs": [],
      "source": [
        "display(15,num2=10)"
      ]
    },
    {
      "cell_type": "code",
      "execution_count": null,
      "metadata": {
        "id": "OKwdk29SpmgT"
      },
      "outputs": [],
      "source": [
        "def display(10,num2=15):\n",
        "    pass"
      ]
    },
    {
      "cell_type": "code",
      "execution_count": null,
      "metadata": {
        "id": "aaijkZPqpmgT"
      },
      "outputs": [],
      "source": [
        ""
      ]
    },
    {
      "cell_type": "code",
      "execution_count": null,
      "metadata": {
        "id": "6FDZ-2ZWpmgT"
      },
      "outputs": [],
      "source": [
        "Now if we call the above function as:\n",
        "\n",
        "\n",
        "\n",
        "Then it will be correct. But if we call it as:\n",
        "\n",
        "\n",
        "\n",
        "Then it will be a Syntax Error"
      ]
    },
    {
      "cell_type": "markdown",
      "metadata": {
        "id": "B4UHIc18pmgT"
      },
      "source": [
        "### Default Argument"
      ]
    },
    {
      "cell_type": "markdown",
      "metadata": {
        "id": "HhdkE18GpmgT"
      },
      "source": [
        "For some functions, we may want to make some parameters optional and use default values in case the user does not want to provide values for them. \n",
        "\n",
        "This is done with the help of default argument values. \n",
        "\n",
        "We can specify default argument values for parameters by appending to the parameter name in the function definition the assignment operator (=) followed by the default value.\n",
        "\n"
      ]
    },
    {
      "cell_type": "markdown",
      "metadata": {
        "id": "hD1x08ZGpmgU"
      },
      "source": [
        "#Syntax:\n",
        "def function_name(paramname1=value,paramname2=value):\n",
        "    # function body\n",
        "    pass\n"
      ]
    },
    {
      "cell_type": "code",
      "execution_count": null,
      "metadata": {
        "id": "gJAQYaGxpmgU"
      },
      "outputs": [],
      "source": [
        "def greet(name,msg=\"Good Morning\"):\n",
        "    print(\"Hello\",name,msg)"
      ]
    },
    {
      "cell_type": "code",
      "execution_count": null,
      "metadata": {
        "id": "KwPL3oB7pmgU"
      },
      "outputs": [],
      "source": [
        "greet(\"Sunny\")"
      ]
    },
    {
      "cell_type": "code",
      "execution_count": null,
      "metadata": {
        "id": "qMQbjD1fpmgU"
      },
      "outputs": [],
      "source": [
        "greet(\"sunny\",\"How are you?\")\n"
      ]
    },
    {
      "cell_type": "markdown",
      "metadata": {
        "id": "UawCTirXpmgU"
      },
      "source": [
        "A function can have any number of default arguments but t once we have a default argument, all the arguments to it’s right must also have default values.\n",
        "\n",
        "\n",
        "This means to say, non-default arguments cannot follow default arguments.\n"
      ]
    },
    {
      "cell_type": "code",
      "execution_count": null,
      "metadata": {
        "id": "GH2bYAjIpmgU"
      },
      "outputs": [],
      "source": [
        "\n",
        "def greet(msg = \"Good morning!\", name):\n",
        "    pass"
      ]
    },
    {
      "cell_type": "code",
      "execution_count": null,
      "metadata": {
        "id": "t0uA29n7pmgU"
      },
      "outputs": [],
      "source": [
        "For example:  if we had defined the function header above as:\n",
        "\n",
        "def greet(msg = \"Good morning!\", name):\n",
        "\n",
        "Then we would have got the following SyntaxError\n"
      ]
    },
    {
      "cell_type": "code",
      "execution_count": null,
      "metadata": {
        "id": "QeGEoRfhpmgU"
      },
      "outputs": [],
      "source": [
        "def show(a=10,b=20,c=30):\n",
        "    print(a,b,c)\n"
      ]
    },
    {
      "cell_type": "markdown",
      "metadata": {
        "id": "_QaS9btjpmgV"
      },
      "source": [
        "### Excercise\n",
        "\n",
        "Write a function called cal_area( ) using default argument concept which accepts radius and pi as arguments and calculates and displays area of the Circle. The value of pi should be used as default argument and value of radius should be accepted from the user\n"
      ]
    },
    {
      "cell_type": "markdown",
      "metadata": {
        "id": "V-NopbN3pmgV"
      },
      "source": [
        "### Function or Method Overloading\n"
      ]
    },
    {
      "cell_type": "markdown",
      "metadata": {
        "id": "fZ6fxHfQpmgV"
      },
      "source": [
        "Method Overloading is an example of Compile time polymorphism.In this, more than one method of the same class shares the same method name having different parameters.If a class has multiple methods having same name but different in parameters, it is known as Method Overloading.\n",
        "\n",
        "Note: Python does not support method overloading. We may overload the methods but can only use the latest defined method."
      ]
    },
    {
      "cell_type": "code",
      "execution_count": null,
      "metadata": {
        "id": "9izP3lXgpmgV"
      },
      "outputs": [],
      "source": [
        "def addnos(a,b):\n",
        "    c=a+b\n",
        "    return c\n"
      ]
    },
    {
      "cell_type": "code",
      "execution_count": null,
      "metadata": {
        "id": "UsN50P3SpmgV"
      },
      "outputs": [],
      "source": [
        "def addnos(a,b,c):\n",
        "    d=a+b+c\n",
        "    return d   \n"
      ]
    },
    {
      "cell_type": "code",
      "execution_count": null,
      "metadata": {
        "id": "3d8tOv4qpmgV"
      },
      "outputs": [],
      "source": [
        "def addnos(a,b,c,d):\n",
        "    d=a+b+c+d\n",
        "    return d  "
      ]
    },
    {
      "cell_type": "code",
      "execution_count": null,
      "metadata": {
        "id": "_fsQSrn5pmgV"
      },
      "outputs": [],
      "source": [
        "addnos(10,20,30,40)"
      ]
    },
    {
      "cell_type": "code",
      "execution_count": null,
      "metadata": {
        "id": "dybhaR8ppmgV"
      },
      "outputs": [],
      "source": [
        "print(addnos(10,20))\n",
        "\n"
      ]
    },
    {
      "cell_type": "code",
      "execution_count": null,
      "metadata": {
        "id": "haBXGXuxpmgV"
      },
      "outputs": [],
      "source": [
        "print(addnos(10,20,30)) "
      ]
    },
    {
      "cell_type": "markdown",
      "metadata": {
        "id": "eJ3Y7rVlpmgW"
      },
      "source": [
        "The error occurred because Python does not support Function or Method Overloading\n",
        "\n",
        "Moreover Python understands the latest definition of a function addnos( ) which takes 3 arguments \n",
        "\n",
        "Now since we passed 2 arguments only , the call generated error because Python tried to call the method with 3 arguments\n"
      ]
    },
    {
      "cell_type": "markdown",
      "metadata": {
        "id": "hQWaJ3X7pmgW"
      },
      "source": [
        "### Variable Length Arguments"
      ]
    },
    {
      "cell_type": "markdown",
      "metadata": {
        "id": "Qd1l1jjUpmgW"
      },
      "source": [
        "The solution to this problem is a technique called variable length arguments\n",
        "\n",
        "\n",
        "\n",
        "\n",
        "In this technique , we define the function in such a way that it can accept any number of arguments from 0 to infinite\n"
      ]
    },
    {
      "cell_type": "code",
      "execution_count": null,
      "metadata": {
        "id": "lc05noehpmgW"
      },
      "outputs": [],
      "source": [
        "def test(**sunny):\n",
        "    print(sunny)\n",
        "    print(type(sunny))"
      ]
    },
    {
      "cell_type": "code",
      "execution_count": null,
      "metadata": {
        "id": "TDa0qZ9kpmgW"
      },
      "outputs": [],
      "source": [
        "test(10)"
      ]
    },
    {
      "cell_type": "code",
      "execution_count": null,
      "metadata": {
        "id": "BvK_e3yRpmgW"
      },
      "outputs": [],
      "source": [
        "test(10,20)"
      ]
    },
    {
      "cell_type": "code",
      "execution_count": null,
      "metadata": {
        "id": "TRewFlcGpmgW"
      },
      "outputs": [],
      "source": [
        "test(10,20,30)"
      ]
    },
    {
      "cell_type": "code",
      "execution_count": null,
      "metadata": {
        "id": "_T3Ju1b8pmgW"
      },
      "outputs": [],
      "source": [
        "def addnos(*a):\n",
        "    sum =0\n",
        "    for x in a:\n",
        "        sum=sum+x\n",
        "    return sum\n",
        "\n"
      ]
    },
    {
      "cell_type": "code",
      "execution_count": null,
      "metadata": {
        "id": "-zQB9bBLpmgX"
      },
      "outputs": [],
      "source": [
        "print(addnos(10,20))\n",
        "print(addnos(10,20,30)) \n",
        "print(addnos(10,20,30,40)) "
      ]
    },
    {
      "cell_type": "code",
      "execution_count": null,
      "metadata": {
        "id": "T7fFsYiQpmgX"
      },
      "outputs": [],
      "source": [
        "type(10)"
      ]
    },
    {
      "cell_type": "code",
      "execution_count": null,
      "metadata": {
        "id": "J_eeTJK9pmgX"
      },
      "outputs": [],
      "source": [
        "type((10))"
      ]
    },
    {
      "cell_type": "code",
      "execution_count": null,
      "metadata": {
        "id": "FffZIt4-pmgX"
      },
      "outputs": [],
      "source": [
        "type((10,))"
      ]
    },
    {
      "cell_type": "markdown",
      "metadata": {
        "id": "hoFSy9tNpmgX"
      },
      "source": [
        "### Method Overriding"
      ]
    },
    {
      "cell_type": "markdown",
      "metadata": {
        "id": "zXwBU1RYpmgX"
      },
      "source": [
        "Method overriding is an ability of any object-oriented programming language that allows a subclass or child class to provide a specific implementation of a method that is already provided by one of its super-classes or parent classes."
      ]
    },
    {
      "cell_type": "markdown",
      "metadata": {
        "id": "yeSeYHd7pmgX"
      },
      "source": [
        "![image.png](attachment:image.png)"
      ]
    },
    {
      "cell_type": "code",
      "execution_count": null,
      "metadata": {
        "id": "b9NRJxBSpmgX"
      },
      "outputs": [],
      "source": [
        "# Defining parent class\n",
        "class Animal():\n",
        "      \n",
        "    # Constructor\n",
        "    def __init__(self):\n",
        "        self.value = \"Inside Parent\"\n",
        "          \n",
        "    # Parent's show method\n",
        "    def show(self):\n",
        "        print(self.value)\n",
        "    \n",
        "    def eat(self):\n",
        "        pass"
      ]
    },
    {
      "cell_type": "code",
      "execution_count": null,
      "metadata": {
        "id": "3WUUNZpypmgX"
      },
      "outputs": [],
      "source": [
        "# Defining child class\n",
        "class Dog(Animal):\n",
        "      \n",
        "    # Constructor\n",
        "    def __init__(self):\n",
        "        self.value = \"Inside Child\"\n",
        "          \n",
        "    # Child's show method\n",
        "    def show(self):\n",
        "        print(self.value)\n",
        "    \n",
        "    def eat(self):\n",
        "        pass"
      ]
    },
    {
      "cell_type": "code",
      "execution_count": null,
      "metadata": {
        "id": "6KwvlLdApmgY"
      },
      "outputs": [],
      "source": [
        "# Driver's code\n",
        "obj1 = Parent()\n",
        "obj2 = Child()\n",
        "  \n",
        "obj1.show()\n",
        "obj2.show()"
      ]
    },
    {
      "cell_type": "code",
      "execution_count": null,
      "metadata": {
        "id": "8fG18pfRpmgY"
      },
      "outputs": [],
      "source": [
        ""
      ]
    },
    {
      "cell_type": "markdown",
      "metadata": {
        "id": "4HRUuh3QpmgY"
      },
      "source": [
        "### Exercise\n",
        "Write a function called find_largest( ) which accepts multiple strings as argument and returns the length of the largest string\n"
      ]
    },
    {
      "cell_type": "code",
      "execution_count": null,
      "metadata": {
        "id": "5WhkHjKcpmgY"
      },
      "outputs": [],
      "source": [
        "### A function cannot have 2 variable length arguments. So the following is wrong:\n",
        "\n",
        "def addnos(*a,*b):\n",
        "    pass\n"
      ]
    },
    {
      "cell_type": "code",
      "execution_count": null,
      "metadata": {
        "id": "CdtUiJwUpmgY"
      },
      "outputs": [],
      "source": [
        "#If we have any other argument along with variable length argument , then it should be set before the variable length argument\n",
        "def addnos(n,*a):\n",
        "    sum =n\n",
        "    print(n)\n",
        "    print(a)\n",
        "    for x in a:\n",
        "        sum=sum+x\n",
        "    return sum\n"
      ]
    },
    {
      "cell_type": "code",
      "execution_count": null,
      "metadata": {
        "id": "z5yXw7ezpmga"
      },
      "outputs": [],
      "source": [
        "print(addnos(10,20,30))"
      ]
    },
    {
      "cell_type": "code",
      "execution_count": null,
      "metadata": {
        "id": "ByKbs54xpmga"
      },
      "outputs": [],
      "source": [
        "\n",
        "print(addnos(10,20,30,40))"
      ]
    },
    {
      "cell_type": "code",
      "execution_count": null,
      "metadata": {
        "id": "rhTKR9rUpmga"
      },
      "outputs": [],
      "source": [
        "#If we set the other argument used with variable length argument , after the variable length argument then while calling it , we must pass it as keyword argument\n",
        "\n",
        "def addnos(*a,n):\n",
        "    print(a)\n",
        "    print(n)\n",
        "    sum =n\n",
        "    for x in a:\n",
        "        sum=sum+x\n",
        "    return sum\n"
      ]
    },
    {
      "cell_type": "code",
      "execution_count": null,
      "metadata": {
        "id": "6KxtjRV7pmgb"
      },
      "outputs": [],
      "source": [
        "addnos(20,30,n=40)"
      ]
    },
    {
      "cell_type": "code",
      "execution_count": null,
      "metadata": {
        "id": "V9kNc4hlpmgb"
      },
      "outputs": [],
      "source": [
        "print(addnos(20,30,n=10))"
      ]
    },
    {
      "cell_type": "code",
      "execution_count": null,
      "metadata": {
        "id": "0_7UnjoVpmgb"
      },
      "outputs": [],
      "source": [
        "\n",
        "print(addnos(20,30,40,n=10))"
      ]
    },
    {
      "cell_type": "markdown",
      "metadata": {
        "id": "-mpXhicppmgb"
      },
      "source": [
        "## User Defined Functions\n",
        "\n",
        "Variable Scope\n",
        "\n",
        "Local Scope\n",
        "\n",
        "Global Scope\n",
        "\n",
        "Argument Passing\n"
      ]
    },
    {
      "cell_type": "code",
      "execution_count": null,
      "metadata": {
        "id": "5BsnVx9Rpmgb"
      },
      "outputs": [],
      "source": [
        "Local : Inside a function body\n",
        "Enclosing: Inside an outer function’s body . We will discuss it later\n",
        "Global: At the module level\n",
        "Built In: At the interpreter level\n"
      ]
    },
    {
      "cell_type": "code",
      "execution_count": null,
      "metadata": {
        "id": "Kze-g906pmgb"
      },
      "outputs": [],
      "source": [
        ""
      ]
    },
    {
      "cell_type": "code",
      "execution_count": null,
      "metadata": {
        "id": "2Cul_J14pmgb"
      },
      "outputs": [],
      "source": [
        "s = \"I love Python\"#global variable\n",
        "def f(): \n",
        "    print(s) \n",
        "f()\n"
      ]
    },
    {
      "cell_type": "code",
      "execution_count": null,
      "metadata": {
        "id": "Bwy14wpDpmgc"
      },
      "outputs": [],
      "source": [
        "indentation\n",
        "\n",
        "def test():\n",
        "    ajcjc\n",
        "    hjafhs\n",
        "    hakfshks\n",
        "kjgjsdsjkas"
      ]
    },
    {
      "cell_type": "code",
      "execution_count": null,
      "metadata": {
        "id": "l-MoTuoVpmgc"
      },
      "outputs": [],
      "source": [
        "def f(): \n",
        "    print(s) \n",
        "s = \"I love Python\"# global or local?\n",
        "f()\n"
      ]
    },
    {
      "cell_type": "code",
      "execution_count": null,
      "metadata": {
        "id": "NWN9h9WHpmgc"
      },
      "outputs": [],
      "source": [
        "def f():\n",
        "    print(p)\n",
        "f()\n",
        "p=\"I love Python\"\n",
        "\n"
      ]
    },
    {
      "cell_type": "code",
      "execution_count": null,
      "metadata": {
        "id": "ClmKJSeqpmgc"
      },
      "outputs": [],
      "source": [
        "def f():\n",
        "    s=\"I love Python\"#local variable\n",
        "    print(s)\n",
        "f()"
      ]
    },
    {
      "cell_type": "code",
      "execution_count": null,
      "metadata": {
        "id": "u3cbmI2Kpmgc"
      },
      "outputs": [],
      "source": [
        "def f():\n",
        "    s1=\"I love Python\"#local variable\n",
        "    print(s1)\n",
        "f()\n",
        "print(s1)\n"
      ]
    },
    {
      "cell_type": "code",
      "execution_count": null,
      "metadata": {
        "id": "AgbODg6Qpmgc"
      },
      "outputs": [],
      "source": [
        "s2=\"I love Python\"\n",
        "def f():\n",
        "    s2=\"I love C\"\n",
        "    print(s2)\n",
        "    print(id(s2))\n",
        "f()\n",
        "print(s2)\n",
        "print(id(s2))\n"
      ]
    },
    {
      "cell_type": "code",
      "execution_count": null,
      "metadata": {
        "id": "a08CAbjIpmgc"
      },
      "outputs": [],
      "source": [
        "def f():\n",
        "    global p1\n",
        "    p1=\"I love C\"\n",
        "    print(p1)\n",
        "    #print(id(p))\n",
        "f()\n",
        "print(p1)"
      ]
    },
    {
      "cell_type": "code",
      "execution_count": null,
      "metadata": {
        "id": "_9GCuX3Wpmgc"
      },
      "outputs": [],
      "source": [
        "print(p)"
      ]
    },
    {
      "cell_type": "code",
      "execution_count": null,
      "metadata": {
        "id": "K_eATCdZpmgd",
        "outputId": "74b24214-24b1-4d9b-82f2-f89843d7473c"
      },
      "outputs": [
        {
          "name": "stdout",
          "output_type": "stream",
          "text": [
            "I love C\n",
            "2046596301936\n",
            "I love Python\n",
            "2046596301616\n"
          ]
        }
      ],
      "source": [
        "s1=\"I love Python\"\n",
        "def f():\n",
        "    s1=\"I love C\"\n",
        "    print(s1)\n",
        "    print(id(s1))\n",
        "f()\n",
        "print(s1)\n",
        "print(id(s1))\n"
      ]
    },
    {
      "cell_type": "code",
      "execution_count": null,
      "metadata": {
        "id": "lPtv0UjFpmge",
        "outputId": "2e48a9b1-fa71-49c1-a096-411d287743a2"
      },
      "outputs": [
        {
          "name": "stdout",
          "output_type": "stream",
          "text": [
            "I love C\n",
            "2046596303984\n",
            "I love C\n",
            "2046596303984\n"
          ]
        }
      ],
      "source": [
        "s=\"I love Python\"\n",
        "def f():\n",
        "    global s\n",
        "    s=\"I love C\"\n",
        "    print(s)\n",
        "    print(id(s))\n",
        "f()\n",
        "print(s)\n",
        "print(id(s))\n"
      ]
    },
    {
      "cell_type": "code",
      "execution_count": null,
      "metadata": {
        "id": "NCYSnxczpmge"
      },
      "outputs": [],
      "source": [
        "s=\"I love Python\""
      ]
    },
    {
      "cell_type": "code",
      "execution_count": null,
      "metadata": {
        "id": "Cq9LRXw3pmge"
      },
      "outputs": [],
      "source": [
        "\n",
        "def f():\n",
        "    global s\n",
        "    print(s)\n",
        "    s=\"I love C\"\n",
        "    print(s)\n",
        "f()\n",
        "print(s)\n",
        "\n"
      ]
    },
    {
      "cell_type": "code",
      "execution_count": null,
      "metadata": {
        "id": "KdQ0lXr5pmge"
      },
      "outputs": [],
      "source": [
        "a=1\n",
        "def f():\n",
        "    print ('Inside f() : ', a)\n",
        "def g():    \n",
        "    a = 2\n",
        "    print ('Inside g() : ',a)\n",
        "def h():    \n",
        "    global a\n",
        "    a = 3\n",
        "    print ('Inside h() : ',a)\n",
        " \n",
        "print ('global : ',a)\n",
        "f()\n",
        "print ('global : ',a)\n",
        "g()\n",
        "print ('global : ',a)\n",
        "h()\n",
        "print ('global : ',a)\n"
      ]
    },
    {
      "cell_type": "markdown",
      "metadata": {
        "id": "nOTb0cZ6pmge"
      },
      "source": [
        "Lambda Function\n",
        "\n",
        "The map( ) Function\n",
        "\n",
        "The filter( ) Function\n",
        "\n",
        "Using map( ) and filter( ) with Lambda Expressions\n",
        "\n",
        "\n"
      ]
    },
    {
      "cell_type": "markdown",
      "metadata": {
        "id": "w9ZLcK9Dpmgf"
      },
      "source": [
        "### What is Anonymous Function"
      ]
    },
    {
      "cell_type": "markdown",
      "metadata": {
        "id": "hTcyKmdZpmgf"
      },
      "source": [
        "An anonymous function is a function that is defined without a name"
      ]
    },
    {
      "cell_type": "markdown",
      "metadata": {
        "id": "HlgU2aYfpmgf"
      },
      "source": [
        "### Difference between anonymous function and normal function"
      ]
    },
    {
      "cell_type": "markdown",
      "metadata": {
        "id": "GIk8gKNipmgf"
      },
      "source": [
        "While normal functions are defined using the def keyword, we define anonymous functions using the lambda keyword.\n"
      ]
    },
    {
      "cell_type": "markdown",
      "metadata": {
        "id": "k9mSjwQopmgf"
      },
      "source": [
        "### Syntax: lambda [arg1,arg2,..]:[expression]"
      ]
    },
    {
      "cell_type": "markdown",
      "metadata": {
        "id": "9QIhh0Qwpmgf"
      },
      "source": [
        "lambda is a keyword/operator and can have any number of arguments.\n",
        "\n",
        "But it can have only one expression. \n",
        "\n",
        "Python evaluates the expression and returns the result automatically"
      ]
    },
    {
      "cell_type": "markdown",
      "metadata": {
        "id": "cY5fEcpFpmgf"
      },
      "source": [
        "An expression here is anything that can return some value.\n",
        "\n",
        "The following items qualify as expressions.\n",
        "\n",
        "Arithmetic operations like a+b and a**b\n",
        "\n",
        "Function calls like sum(a,b)\n",
        "\n",
        "A print statement like print(“Hello”)\n",
        "\n"
      ]
    },
    {
      "cell_type": "markdown",
      "metadata": {
        "id": "YWlHe99Bpmgg"
      },
      "source": [
        "Assignment statements cannot be used in lambda , because they don’t return anything, not even None (null).\n",
        "\n",
        "Simple things such as mathematical operations, string operations etc. are OK in a lambda.\n",
        "\n",
        "Function calls are expressions, so it’s OK to put a function call in a lambda, and to pass arguments to that function. \n",
        "\n",
        "Even functions that return None, like the print function in Python 3, can be used in a lambda.\n",
        "\n",
        "Single line if – else is also allowed as it also evaluates the condition and returns the result of true or false expression\n"
      ]
    },
    {
      "cell_type": "code",
      "execution_count": null,
      "metadata": {
        "id": "LLEyxLuBpmgg"
      },
      "outputs": [],
      "source": [
        "#Suppose, we want to make a function which will calculate sum of two numbers.\n",
        "\n",
        "#In normal approach we will do as shown below:\n",
        "\n",
        "def add(a,b): \n",
        "    return a+b\n"
      ]
    },
    {
      "cell_type": "code",
      "execution_count": null,
      "metadata": {
        "id": "kSW5Czrcpmgg",
        "outputId": "11071278-78fc-40a1-8fcd-76a5a0c9e1fc"
      },
      "outputs": [
        {
          "data": {
            "text/plain": [
              "30"
            ]
          },
          "execution_count": 7,
          "metadata": {},
          "output_type": "execute_result"
        }
      ],
      "source": [
        "add(10,20)"
      ]
    },
    {
      "cell_type": "code",
      "execution_count": null,
      "metadata": {
        "id": "BgvYX7Eppmgg",
        "outputId": "3107578d-02fc-4d63-fb24-9c473fe17408"
      },
      "outputs": [
        {
          "name": "stdout",
          "output_type": "stream",
          "text": [
            "30\n"
          ]
        }
      ],
      "source": [
        "#In case of lambda function we will write it as:\n",
        "\n",
        "print((lambda a,b:a+b)(10,20))\n"
      ]
    },
    {
      "cell_type": "markdown",
      "metadata": {
        "id": "iUMK7S0Kpmgg"
      },
      "source": [
        "A very common doubt is that when we can define our functions using def keyword , then why we require lambda functions ?\n",
        "\n",
        "The most common use for lambda functions is in code that requires a simple one-line function, where it would be an overkill to write a complete normal function.\n",
        "\n",
        "We will explore it in more detail when we will discuss two very important functions in Python called map( ) and filter( )\n"
      ]
    },
    {
      "cell_type": "markdown",
      "metadata": {
        "id": "JrVWRA4upmgg"
      },
      "source": [
        "There are 2 ways to use a Lambda Function.\n",
        "\n",
        "\n",
        "- Using it anonymously in inline mode\n",
        "\n",
        "- Using it by assigning it to a variable\n"
      ]
    },
    {
      "cell_type": "code",
      "execution_count": null,
      "metadata": {
        "id": "FRbDamwzpmgh"
      },
      "outputs": [],
      "source": [
        "#Using it as anonymous function\n",
        "\n",
        "print((lambda a,b: a+b)(2,3))\n"
      ]
    },
    {
      "cell_type": "code",
      "execution_count": null,
      "metadata": {
        "id": "Nom6rLlQpmgh"
      },
      "outputs": [],
      "source": [
        "#Using it by assigning it to a variable\n",
        "\n",
        "sum=lambda a,b: a+b"
      ]
    },
    {
      "cell_type": "code",
      "execution_count": null,
      "metadata": {
        "id": "Ie1rEEhzpmgh",
        "outputId": "ec30bf46-4fad-4895-9128-6d1198df0981"
      },
      "outputs": [
        {
          "name": "stdout",
          "output_type": "stream",
          "text": [
            "5\n"
          ]
        }
      ],
      "source": [
        "print(sum(2,3))"
      ]
    },
    {
      "cell_type": "code",
      "execution_count": null,
      "metadata": {
        "id": "OWfq65mTpmgh",
        "outputId": "60ada36e-a797-4b58-8b4c-7faaffadc13b"
      },
      "outputs": [
        {
          "name": "stdout",
          "output_type": "stream",
          "text": [
            "14\n"
          ]
        }
      ],
      "source": [
        "\n",
        "\n",
        "\n",
        "print(sum(5,9))\n"
      ]
    },
    {
      "cell_type": "markdown",
      "metadata": {
        "id": "3nTM4BYRpmgh"
      },
      "source": [
        "What is happening in this code ?\n",
        "\n",
        "The statement lambda a,b:a+b , \n",
        "\n",
        "is creating a FUNCTION OBJECT\n",
        "\n",
        "and returning that object . The\n",
        "\n",
        "variable sum is referring to that\n",
        "\n",
        "object. Now when we write sum(2,3), it behaves like function call\n"
      ]
    },
    {
      "cell_type": "code",
      "execution_count": null,
      "metadata": {
        "id": "vP_2hsd8pmgh"
      },
      "outputs": [],
      "source": [
        "sum=lambda a,b: a+b\n",
        "\n",
        "print(type(sum))\n",
        "print(sum)\n"
      ]
    },
    {
      "cell_type": "code",
      "execution_count": null,
      "metadata": {
        "id": "i4efz6y1pmgh"
      },
      "outputs": [],
      "source": [
        "squareit=lambda a: a*a\n",
        "\n",
        "print(squareit(25))\n",
        "print(squareit(10))\n",
        "\n"
      ]
    },
    {
      "cell_type": "code",
      "execution_count": null,
      "metadata": {
        "id": "MGOAUYDSpmgi"
      },
      "outputs": [],
      "source": [
        "import math\n",
        "\n",
        "squr=lambda a:math.sqrt(a)\n",
        "\n"
      ]
    },
    {
      "cell_type": "code",
      "execution_count": null,
      "metadata": {
        "id": "nedpoJNepmgi",
        "outputId": "2bf43c8d-7819-468f-dc4f-1346dd0a66a4"
      },
      "outputs": [
        {
          "data": {
            "text/plain": [
              "5.0"
            ]
          },
          "execution_count": 17,
          "metadata": {},
          "output_type": "execute_result"
        }
      ],
      "source": [
        "squr(25)"
      ]
    },
    {
      "cell_type": "code",
      "execution_count": null,
      "metadata": {
        "id": "tmzSLzEcpmgi"
      },
      "outputs": [],
      "source": [
        "st=lambda str:str[0]"
      ]
    },
    {
      "cell_type": "code",
      "execution_count": null,
      "metadata": {
        "id": "mCzu7YNkpmgi",
        "outputId": "73b7affe-a042-483c-c55e-31b5b10ccf9c"
      },
      "outputs": [
        {
          "data": {
            "text/plain": [
              "'s'"
            ]
          },
          "execution_count": 19,
          "metadata": {},
          "output_type": "execute_result"
        }
      ],
      "source": [
        "st(\"sunny\")"
      ]
    },
    {
      "cell_type": "code",
      "execution_count": null,
      "metadata": {
        "id": "I94QmpeCpmgi"
      },
      "outputs": [],
      "source": [
        "iseven=lambda n: n%2==0"
      ]
    },
    {
      "cell_type": "code",
      "execution_count": null,
      "metadata": {
        "id": "IqhXBe63pmgj",
        "outputId": "05344c2e-e068-4fef-e7f0-0593b5884119"
      },
      "outputs": [
        {
          "name": "stdout",
          "output_type": "stream",
          "text": [
            "10 is even : False\n"
          ]
        }
      ],
      "source": [
        "\n",
        "print(\"10 is even :\",iseven(11))"
      ]
    },
    {
      "cell_type": "code",
      "execution_count": null,
      "metadata": {
        "id": "1B4j8ez6pmgj"
      },
      "outputs": [],
      "source": [
        "\n",
        "print(\"7 is even:\",iseven(7))\n"
      ]
    },
    {
      "cell_type": "code",
      "execution_count": null,
      "metadata": {
        "id": "dNHRxF93pmgj"
      },
      "outputs": [],
      "source": [
        "#Write a lambda function that accepts 2 arguments and returns the greater amongst them\n",
        "maxnum=lambda a,b: a if a>b else b"
      ]
    },
    {
      "cell_type": "code",
      "execution_count": null,
      "metadata": {
        "id": "EFindu1xpmgj",
        "outputId": "ba81f643-2aa5-488e-c019-a6f807492d74"
      },
      "outputs": [
        {
          "name": "stdout",
          "output_type": "stream",
          "text": [
            "max amongst 10 and 20 : 20\n"
          ]
        }
      ],
      "source": [
        "print(\"max amongst 10 and 20 :\",maxnum(10,20))"
      ]
    },
    {
      "cell_type": "code",
      "execution_count": null,
      "metadata": {
        "id": "gY1bWf5Opmgk",
        "outputId": "fbc4b74a-9cc8-4aaf-dad4-f89fb37f3333"
      },
      "outputs": [
        {
          "name": "stdout",
          "output_type": "stream",
          "text": [
            "max amongst 15 and 5 : 15\n"
          ]
        }
      ],
      "source": [
        "print(\"max amongst 15 and 5 :\",maxnum(15,5))\n"
      ]
    },
    {
      "cell_type": "markdown",
      "metadata": {
        "id": "qZeVTWnkpmgk"
      },
      "source": [
        "### map() function in python"
      ]
    },
    {
      "cell_type": "code",
      "execution_count": null,
      "metadata": {
        "id": "3JMV-0jKpmgk"
      },
      "outputs": [],
      "source": [
        "#map() is a function which takes two arguments:\n",
        "r = map(func, iterable)"
      ]
    },
    {
      "cell_type": "markdown",
      "metadata": {
        "id": "kAleGydUpmgk"
      },
      "source": [
        "The first argument func is the name of a function and the second argument  , iterable  ,should be a sequence (e.g. a list , tuple ,string etc) or anything that can be used with for loop. \n",
        "\n",
        "map() applies the function func to all the elements of the sequence iterable\n"
      ]
    },
    {
      "cell_type": "markdown",
      "metadata": {
        "id": "GI1bmqOHpmgl"
      },
      "source": [
        "### To understand this , let’s solve a problem"
      ]
    },
    {
      "cell_type": "code",
      "execution_count": null,
      "metadata": {
        "id": "VxHFvBECpmgl"
      },
      "outputs": [],
      "source": [
        "#Suppose we want to define a function called square( ) that can accept a number as argument and returns it’s square.\n",
        "\n",
        "#The definition of this function would be:\n",
        "\n",
        "def square(num):\n",
        "    return num**2"
      ]
    },
    {
      "cell_type": "code",
      "execution_count": null,
      "metadata": {
        "id": "HK89yobDpmgl",
        "outputId": "900309df-9f64-44ce-b2f7-b447be48d8ee"
      },
      "outputs": [
        {
          "data": {
            "text/plain": [
              "25"
            ]
          },
          "execution_count": 27,
          "metadata": {},
          "output_type": "execute_result"
        }
      ],
      "source": [
        "square(5)"
      ]
    },
    {
      "cell_type": "code",
      "execution_count": null,
      "metadata": {
        "id": "c1g_pC5zpmgl",
        "outputId": "c43bb9cc-ba3c-48a8-bfcb-852d69483157"
      },
      "outputs": [
        {
          "data": {
            "text/plain": [
              "625"
            ]
          },
          "execution_count": 28,
          "metadata": {},
          "output_type": "execute_result"
        }
      ],
      "source": [
        "square(25)"
      ]
    },
    {
      "cell_type": "code",
      "execution_count": null,
      "metadata": {
        "id": "mk1pGBBYpmgl"
      },
      "outputs": [],
      "source": [
        "#Now suppose we want to call this function for the following list of numbers:\n",
        "\n",
        "mynums=[1,2,3,4,5]"
      ]
    },
    {
      "cell_type": "code",
      "execution_count": null,
      "metadata": {
        "id": "tgAYXS2hpmgl",
        "outputId": "abca40ed-12e1-4a38-b47d-dd4ad659cfe6"
      },
      "outputs": [
        {
          "name": "stdout",
          "output_type": "stream",
          "text": [
            "1\n",
            "4\n",
            "9\n",
            "16\n",
            "25\n"
          ]
        }
      ],
      "source": [
        "#One way to do this , will be to use a for loop \n",
        "\n",
        "mynums=[1,2,3,4,5]\n",
        "for x in mynums:\n",
        "    print(square(x))"
      ]
    },
    {
      "cell_type": "code",
      "execution_count": null,
      "metadata": {
        "id": "7qINsNC-pmgl",
        "outputId": "a67d5f25-44a0-4e1b-c627-654bb7625568"
      },
      "outputs": [
        {
          "name": "stdout",
          "output_type": "stream",
          "text": [
            "1\n",
            "4\n",
            "9\n",
            "16\n",
            "25\n"
          ]
        }
      ],
      "source": [
        "def square(num):\n",
        "    return num**2\n",
        "mynums=[1,2,3,4,5]\n",
        "for x in mynums:\n",
        "    print(square(x))"
      ]
    },
    {
      "cell_type": "code",
      "execution_count": null,
      "metadata": {
        "id": "R4nPNsw4pmgl"
      },
      "outputs": [],
      "source": [
        "<map at 0x1b3e7ae1880> \n"
      ]
    },
    {
      "cell_type": "markdown",
      "metadata": {
        "id": "vNfTWtZNpmgm"
      },
      "source": [
        "Another way to solve the previous problem is to use the map( ) function .\n",
        "The map( ) function will accept 2 arguments from us. \n",
        "\n",
        "The first argument will be the name of the function square \n",
        "\n",
        "The second argument will be the list mynums.\n",
        "\n",
        "It will then apply the function square on every element of mynum and return the corresponding result as map object \n"
      ]
    },
    {
      "cell_type": "code",
      "execution_count": null,
      "metadata": {
        "id": "B9LeUUwIpmgm"
      },
      "outputs": [],
      "source": [
        "def square(num):\n",
        "    return num**2\n",
        "mynums=(1,2,3,4,5)"
      ]
    },
    {
      "cell_type": "code",
      "execution_count": null,
      "metadata": {
        "id": "8G-INghKpmgm",
        "outputId": "f0a1bcba-d79e-47d4-9ab2-26c4f54dcf80"
      },
      "outputs": [
        {
          "name": "stdout",
          "output_type": "stream",
          "text": [
            "[1, 4, 9, 16, 25]\n"
          ]
        }
      ],
      "source": [
        "print(list(map(square,mynums)))"
      ]
    },
    {
      "cell_type": "code",
      "execution_count": null,
      "metadata": {
        "id": "SUCx_etBpmgm"
      },
      "outputs": [],
      "source": [
        "def square(num):\n",
        "    return num**2\n",
        "\n",
        "mynums=[1,2,3,4,5]\n",
        "result=map(square,mynums)\n",
        "print(result)\n"
      ]
    },
    {
      "cell_type": "markdown",
      "metadata": {
        "id": "EJG49LhZpmgm"
      },
      "source": [
        "As we can observe , the return value of map( ) function is a map object \n",
        "\n",
        "To convert it into actual numbers we can pass it to the function list( )"
      ]
    },
    {
      "cell_type": "code",
      "execution_count": null,
      "metadata": {
        "id": "2Ivm20Iupmgm"
      },
      "outputs": [],
      "source": [
        "def square(num):\n",
        "    return num**2\n",
        "\n",
        "mynums=[1,2,3,4,5]\n",
        "result=map(square,mynums)"
      ]
    },
    {
      "cell_type": "code",
      "execution_count": null,
      "metadata": {
        "id": "qxUjUJzIpmgn",
        "outputId": "02da0c7e-8855-460f-f248-a18770b1855f"
      },
      "outputs": [
        {
          "data": {
            "text/plain": [
              "<map at 0x1f01b38dd90>"
            ]
          },
          "execution_count": 12,
          "metadata": {},
          "output_type": "execute_result"
        }
      ],
      "source": [
        "result"
      ]
    },
    {
      "cell_type": "code",
      "execution_count": null,
      "metadata": {
        "id": "VaXuCI2epmgn"
      },
      "outputs": [],
      "source": [
        "sqrnum=list(result)"
      ]
    },
    {
      "cell_type": "code",
      "execution_count": null,
      "metadata": {
        "id": "H-AxVcvcpmgn",
        "outputId": "aecaa8fc-f0db-454b-ea6c-77f6f28532cd"
      },
      "outputs": [
        {
          "name": "stdout",
          "output_type": "stream",
          "text": [
            "[1, 4, 9, 16, 25]\n"
          ]
        }
      ],
      "source": [
        "\n",
        "\n",
        "print(sqrnum)\n"
      ]
    },
    {
      "cell_type": "code",
      "execution_count": null,
      "metadata": {
        "id": "frNYi9Wtpmgn"
      },
      "outputs": [],
      "source": [
        "def square(num):\n",
        "    return num**2\n",
        "\n",
        "\n",
        "mynums=[1,2,3,4,5]\n",
        "# we can club the 2 lines in 1 line\n",
        "\n",
        "sqrnum=list(map(square,mynums))\n",
        "\n",
        "print(sqrnum)\n"
      ]
    },
    {
      "cell_type": "code",
      "execution_count": null,
      "metadata": {
        "id": "qbLBmYUupmgn"
      },
      "outputs": [],
      "source": [
        "#To make it even shorter we can directly pass the list( ) function to \n",
        "#the function print()\n",
        "def square(num):\n",
        "    return num**2\n",
        "\n",
        "mynums=[1,2,3,4,5]\n",
        "print(list(map(square,mynums)))\n"
      ]
    },
    {
      "cell_type": "code",
      "execution_count": null,
      "metadata": {
        "id": "0DXcm8gkpmgp"
      },
      "outputs": [],
      "source": [
        "#In case we want to iterate over this list , then we can use for loop\n",
        "def square(num):\n",
        "    return num**2\n",
        "\n",
        "mynums=[1,2,3,4,5]\n",
        "for x in map(square,mynums):\n",
        "    print(x)\n"
      ]
    },
    {
      "cell_type": "markdown",
      "metadata": {
        "id": "nbksoNBYpmgp"
      },
      "source": [
        "Write a function called inspect( ) that accepts a string as argument and returns the word EVEN if the string is of even length and returns it’s first character if the string is of odd length\n",
        "\n",
        "Now call this function for first 3 month names"
      ]
    },
    {
      "cell_type": "code",
      "execution_count": null,
      "metadata": {
        "id": "3RSHPTXlpmgq",
        "outputId": "8f36db0d-6586-47b8-afe2-7000fcda3930"
      },
      "outputs": [
        {
          "name": "stdout",
          "output_type": "stream",
          "text": [
            "['J', 'EVEN', 'M']\n"
          ]
        }
      ],
      "source": [
        "def inspect(mystring):\n",
        "    if len(mystring)%2==0:\n",
        "        return \"EVEN\"\n",
        "    else:\n",
        "        return mystring[0]\n",
        "\n",
        "months=[\"January\",\"February\",\"March\"]\n",
        "print(list(map(inspect,months))) \n"
      ]
    },
    {
      "cell_type": "markdown",
      "metadata": {
        "id": "K5r1GFR0pmgq"
      },
      "source": [
        "### filter() function in python"
      ]
    },
    {
      "cell_type": "markdown",
      "metadata": {
        "id": "v5xwrSPRpmgq"
      },
      "source": [
        "Another way to solve the previous problem is to use the filter( ) function .\n",
        "\n",
        "\n",
        "The flter( ) function will accept 2 arguments from us. \n",
        "\n",
        "The first argument will be the name of the function check_even \n",
        "\n",
        "The second argument will be the list mynums.\n",
        "\n",
        "It will then apply the function check_even on every element of mynum and if check_even returned True for that element then filter( ) will return that element as a part of it’s return value otherwise that element will not be returned\n"
      ]
    },
    {
      "cell_type": "code",
      "execution_count": null,
      "metadata": {
        "id": "uFNUgYY_pmgq"
      },
      "outputs": [],
      "source": [
        "num=7"
      ]
    },
    {
      "cell_type": "code",
      "execution_count": null,
      "metadata": {
        "id": "ac2BIgv6pmgq",
        "outputId": "7326bb4c-6049-4fe9-fb7e-478c16efd5dd"
      },
      "outputs": [
        {
          "data": {
            "text/plain": [
              "1"
            ]
          },
          "execution_count": 26,
          "metadata": {},
          "output_type": "execute_result"
        }
      ],
      "source": [
        "num%2"
      ]
    },
    {
      "cell_type": "code",
      "execution_count": null,
      "metadata": {
        "id": "yV-EKVN6pmgq"
      },
      "outputs": [],
      "source": [
        "def check_even(num):\n",
        "    return num%2!=0"
      ]
    },
    {
      "cell_type": "code",
      "execution_count": null,
      "metadata": {
        "id": "yv7XEzcEpmgq",
        "outputId": "f5a53ae5-1e67-4f10-8187-bab8fc72ec07"
      },
      "outputs": [
        {
          "data": {
            "text/plain": [
              "True"
            ]
          },
          "execution_count": 23,
          "metadata": {},
          "output_type": "execute_result"
        }
      ],
      "source": [
        "check_even(7)"
      ]
    },
    {
      "cell_type": "code",
      "execution_count": null,
      "metadata": {
        "id": "MqVd9qGlpmgr"
      },
      "outputs": [],
      "source": [
        "mynums=[1,2,3,4,5,6]"
      ]
    },
    {
      "cell_type": "code",
      "execution_count": null,
      "metadata": {
        "id": "O2LFCaxDpmgr"
      },
      "outputs": [],
      "source": [
        "value=filter(check_even,mynums)"
      ]
    },
    {
      "cell_type": "code",
      "execution_count": null,
      "metadata": {
        "id": "eswKP_Bvpmgr",
        "outputId": "f95b9976-3300-4634-c9ed-4642c93c835b"
      },
      "outputs": [
        {
          "data": {
            "text/plain": [
              "[1, 3, 5]"
            ]
          },
          "execution_count": 29,
          "metadata": {},
          "output_type": "execute_result"
        }
      ],
      "source": [
        "list(value)"
      ]
    },
    {
      "cell_type": "code",
      "execution_count": null,
      "metadata": {
        "id": "n_vzqXe3pmgr",
        "outputId": "fde45c6f-1991-463e-f137-d4801b447f24"
      },
      "outputs": [
        {
          "name": "stdout",
          "output_type": "stream",
          "text": [
            "<filter object at 0x000001F01B38DA00>\n"
          ]
        }
      ],
      "source": [
        "\n",
        "\n",
        "\n",
        "print()"
      ]
    },
    {
      "cell_type": "markdown",
      "metadata": {
        "id": "F0OH0RAFpmgr"
      },
      "source": [
        "As we can observe , the return value of filter( ) function is a  filter object \n",
        "\n",
        "To convert it into actual numbers we can pass it to the function list( )\n"
      ]
    },
    {
      "cell_type": "code",
      "execution_count": null,
      "metadata": {
        "id": "pT_U3GTtpmgr",
        "outputId": "68449574-55af-4a33-dc95-70061d82d4ed"
      },
      "outputs": [
        {
          "name": "stdout",
          "output_type": "stream",
          "text": [
            "[2, 4, 6]\n"
          ]
        }
      ],
      "source": [
        "def check_even(num):\n",
        "    return num%2==0\n",
        "\n",
        "mynums=[1,2,3,4,5,6]\n",
        "print(list(filter(check_even,mynums)))\n",
        "\n",
        "\n"
      ]
    },
    {
      "cell_type": "code",
      "execution_count": null,
      "metadata": {
        "id": "wDvWey5opmgr",
        "outputId": "a7f4241e-eca9-41cf-a523-aacdfb5c5ae4"
      },
      "outputs": [
        {
          "name": "stdout",
          "output_type": "stream",
          "text": [
            "2\n",
            "4\n",
            "6\n"
          ]
        }
      ],
      "source": [
        "#In case we want to iterate over this list , then we can use for loop \n",
        "#as shown below:\n",
        "def check_even(num):\n",
        "    return num%2==0\n",
        "\n",
        "mynums=[1,2,3,4,5,6]\n",
        "for x in filter(check_even,mynums):\n",
        "    print(x)"
      ]
    },
    {
      "cell_type": "code",
      "execution_count": null,
      "metadata": {
        "id": "kzVLAgInpmgr",
        "outputId": "b606dbb2-9093-47d2-99c0-58dca53c8a7a"
      },
      "outputs": [
        {
          "name": "stdout",
          "output_type": "stream",
          "text": [
            "[1, 2, 3, 4, 5]\n"
          ]
        }
      ],
      "source": [
        "def f1(num):\n",
        "    return num*num\n",
        "\n",
        "mynums=[1,2,3,4,5]\n",
        "print(list(filter(f1,mynums)))\n"
      ]
    },
    {
      "cell_type": "markdown",
      "metadata": {
        "id": "dK6t1w2Epmgs"
      },
      "source": [
        "Ideally , the function passed to filter( ) should return a boolean value. But if it doesn’t return boolean value , then whatever value it returns Python converts it to boolean . In our case for each value in mynums the return value will be it’s square which is a non-zero value and thus assumed to be True. So all the elements are returned by filter() \n"
      ]
    },
    {
      "cell_type": "code",
      "execution_count": null,
      "metadata": {
        "id": "sE8hiNJupmgs"
      },
      "outputs": [],
      "source": [
        "def f1(num):\n",
        "    return num%2"
      ]
    },
    {
      "cell_type": "code",
      "execution_count": null,
      "metadata": {
        "id": "MGV8wgG7pmgs",
        "outputId": "73421925-381b-45e2-a2b2-1b549f8bb3b1"
      },
      "outputs": [
        {
          "data": {
            "text/plain": [
              "1"
            ]
          },
          "execution_count": 31,
          "metadata": {},
          "output_type": "execute_result"
        }
      ],
      "source": [
        "f1(11)"
      ]
    },
    {
      "cell_type": "code",
      "execution_count": null,
      "metadata": {
        "id": "wVcoLeb6pmgs",
        "outputId": "8935609f-fc2a-4206-c0ce-156e7eb99683"
      },
      "outputs": [
        {
          "data": {
            "text/plain": [
              "1"
            ]
          },
          "execution_count": 35,
          "metadata": {},
          "output_type": "execute_result"
        }
      ],
      "source": [
        "True+False"
      ]
    },
    {
      "cell_type": "code",
      "execution_count": null,
      "metadata": {
        "id": "caMpQ2X7pmgs",
        "outputId": "e75bb137-efd2-494c-97b9-44902078ba05"
      },
      "outputs": [
        {
          "name": "stdout",
          "output_type": "stream",
          "text": [
            "1\n",
            "0\n",
            "1\n",
            "0\n",
            "1\n",
            "[]\n"
          ]
        }
      ],
      "source": [
        "def f1(num):\n",
        "    print(num%2)\n",
        "    #return num%2\n",
        "\n",
        "mynums=[1,2,3,4,5]\n",
        "print(list(filter(f1,mynums)))\n"
      ]
    },
    {
      "cell_type": "code",
      "execution_count": null,
      "metadata": {
        "id": "YvMeyQGQpmgs",
        "outputId": "603ddbf5-1a47-432f-85d3-ee98da37efdc"
      },
      "outputs": [
        {
          "data": {
            "text/plain": [
              "<filter at 0x1f01b38d970>"
            ]
          },
          "execution_count": 37,
          "metadata": {},
          "output_type": "execute_result"
        }
      ],
      "source": [
        "filter(f1,mynums)"
      ]
    },
    {
      "cell_type": "markdown",
      "metadata": {
        "id": "S9NhcBpQpmgs"
      },
      "source": [
        "For every even number the return value of the function f1( ) will be 0 which is assumed to be False and for every odd number the return value will be 1 which is assumed to be True . Thus filter( ) returns only those numbers for which f1( ) has returned 1.\n"
      ]
    },
    {
      "cell_type": "code",
      "execution_count": null,
      "metadata": {
        "id": "MGCJZZHdpmgt"
      },
      "outputs": [],
      "source": [
        "def f1(num):\n",
        "    print(\"Hello\")"
      ]
    },
    {
      "cell_type": "code",
      "execution_count": null,
      "metadata": {
        "id": "_FnbwIe3pmgt",
        "outputId": "0dc27b28-e733-4f5a-fdec-704d5268a32d"
      },
      "outputs": [
        {
          "name": "stdout",
          "output_type": "stream",
          "text": [
            "Hello\n"
          ]
        }
      ],
      "source": [
        "f1(5)"
      ]
    },
    {
      "cell_type": "code",
      "execution_count": null,
      "metadata": {
        "id": "9sZwbzxepmgt",
        "outputId": "1a4a3d2b-f41b-4c8d-d6af-4f8fe59ea0ff"
      },
      "outputs": [
        {
          "name": "stdout",
          "output_type": "stream",
          "text": [
            "Hello\n",
            "Hello\n",
            "Hello\n",
            "Hello\n",
            "Hello\n",
            "[]\n"
          ]
        }
      ],
      "source": [
        "mynums=[1,2,3,4,5]\n",
        "print(list(filter(f1,mynums)))\n"
      ]
    },
    {
      "cell_type": "markdown",
      "metadata": {
        "id": "2zMqqTdPpmgt"
      },
      "source": [
        "Hello is displayed 5 times because the filter( ) function has called f1( ) function 5 times. Now for each value in mynums , since f1( ) has not returned any value , by default it’s return value is assumed to be None which is a representation of False. Thus filter( ) returned an empty list.\n"
      ]
    },
    {
      "cell_type": "code",
      "execution_count": null,
      "metadata": {
        "id": "rwLmac_6pmgt",
        "outputId": "d5ce509c-6bfe-4b5e-a289-ac81dc7cc080"
      },
      "outputs": [
        {
          "name": "stdout",
          "output_type": "stream",
          "text": [
            "[]\n"
          ]
        }
      ],
      "source": [
        "def f1(num):\n",
        "    pass\n",
        "\n",
        "mynums=[1,2,3,4,5]\n",
        "print(list(filter(f1,mynums)))\n"
      ]
    },
    {
      "cell_type": "markdown",
      "metadata": {
        "id": "pDRK2VzIpmgt"
      },
      "source": [
        "For each value in mynums , since f1( ) has not returned any value , by default it’s return value is assumed to be None which is a representation of False. Thus filter( ) returned an empty list.\n"
      ]
    },
    {
      "cell_type": "code",
      "execution_count": null,
      "metadata": {
        "id": "1WHK1V1xpmgt",
        "outputId": "626b3511-cea7-4e71-c792-2369e0c19ecf"
      },
      "outputs": [
        {
          "ename": "TypeError",
          "evalue": "f1() takes 0 positional arguments but 1 was given",
          "output_type": "error",
          "traceback": [
            "\u001b[1;31m---------------------------------------------------------------------------\u001b[0m",
            "\u001b[1;31mTypeError\u001b[0m                                 Traceback (most recent call last)",
            "\u001b[1;32m<ipython-input-45-804ed006219b>\u001b[0m in \u001b[0;36m<module>\u001b[1;34m\u001b[0m\n\u001b[0;32m      3\u001b[0m \u001b[1;33m\u001b[0m\u001b[0m\n\u001b[0;32m      4\u001b[0m \u001b[0mmynums\u001b[0m\u001b[1;33m=\u001b[0m\u001b[1;33m[\u001b[0m\u001b[1;36m1\u001b[0m\u001b[1;33m,\u001b[0m\u001b[1;36m2\u001b[0m\u001b[1;33m,\u001b[0m\u001b[1;36m3\u001b[0m\u001b[1;33m,\u001b[0m\u001b[1;36m4\u001b[0m\u001b[1;33m,\u001b[0m\u001b[1;36m5\u001b[0m\u001b[1;33m]\u001b[0m\u001b[1;33m\u001b[0m\u001b[1;33m\u001b[0m\u001b[0m\n\u001b[1;32m----> 5\u001b[1;33m \u001b[0mprint\u001b[0m\u001b[1;33m(\u001b[0m\u001b[0mlist\u001b[0m\u001b[1;33m(\u001b[0m\u001b[0mfilter\u001b[0m\u001b[1;33m(\u001b[0m\u001b[0mf1\u001b[0m\u001b[1;33m,\u001b[0m\u001b[0mmynums\u001b[0m\u001b[1;33m)\u001b[0m\u001b[1;33m)\u001b[0m\u001b[1;33m)\u001b[0m\u001b[1;33m\u001b[0m\u001b[1;33m\u001b[0m\u001b[0m\n\u001b[0m\u001b[0;32m      6\u001b[0m \u001b[1;33m\u001b[0m\u001b[0m\n",
            "\u001b[1;31mTypeError\u001b[0m: f1() takes 0 positional arguments but 1 was given"
          ]
        }
      ],
      "source": [
        "def f1():\n",
        "    pass\n",
        "\n",
        "mynums=[1,2,3,4,5]\n",
        "print(list(filter(f1,mynums)))\n",
        "\n"
      ]
    },
    {
      "cell_type": "markdown",
      "metadata": {
        "id": "1Aipqt3-pmgt"
      },
      "source": [
        "The function filter() is trying to call f1( ) for every value in the list mynums. But since f1( ) is a non-parametrized function , this call generates TypeError\n"
      ]
    },
    {
      "cell_type": "code",
      "execution_count": null,
      "metadata": {
        "id": "lcHTtpCPpmgt"
      },
      "outputs": [],
      "source": [
        "def f1():\n",
        "    pass\n",
        "\n",
        "mynums=[]\n",
        "print(list(filter(f1,mynums)))\n",
        "\n"
      ]
    },
    {
      "cell_type": "code",
      "execution_count": null,
      "metadata": {
        "id": "_ToYNMCepmgu",
        "outputId": "30764627-2f57-499c-a34c-b2068c5c54ee"
      },
      "outputs": [
        {
          "name": "stdout",
          "output_type": "stream",
          "text": [
            "[1, 0, 1, 0, 1]\n"
          ]
        }
      ],
      "source": [
        "def f1(num):\n",
        "    return num%2\n",
        "\n",
        "mynums=[1,2,3,4,5]\n",
        "print(list(map(f1,mynums)))\n",
        "\n"
      ]
    },
    {
      "cell_type": "code",
      "execution_count": null,
      "metadata": {
        "id": "XfPckSstpmgu",
        "outputId": "715c2e00-1404-480e-df57-450ad3899784"
      },
      "outputs": [
        {
          "name": "stdout",
          "output_type": "stream",
          "text": [
            "[1, 3, 5]\n"
          ]
        }
      ],
      "source": [
        "def f1(num):\n",
        "    return num%2\n",
        "\n",
        "mynums=[1,2,3,4,5]\n",
        "print(list(filter(f1,mynums)))"
      ]
    },
    {
      "cell_type": "markdown",
      "metadata": {
        "id": "gcuN0ztZpmgu"
      },
      "source": [
        "For every even number the return value of the function f1( ) will be 0 and for every odd number the return value will be 1. Thus map( ) has returned a list containing 1 and 0 for each number in mynums based upon even and odd.\n"
      ]
    },
    {
      "cell_type": "code",
      "execution_count": null,
      "metadata": {
        "id": "6boW7BWqpmgu",
        "outputId": "7f256d23-a2da-4236-e9b8-c52b5ea22d24"
      },
      "outputs": [
        {
          "name": "stdout",
          "output_type": "stream",
          "text": [
            "[None, None, None, None, None]\n"
          ]
        }
      ],
      "source": [
        "def f1(num):\n",
        "    pass\n",
        "\n",
        "mynums=[1,2,3,4,5]\n",
        "print(list(map(f1,mynums)))\n",
        "\n"
      ]
    },
    {
      "cell_type": "markdown",
      "metadata": {
        "id": "gi5xorKgpmgu"
      },
      "source": [
        "Since f1( ) is not returning anything , so it’s return value by default is assumed to be None  and because map( ) has internally called f1 () 5 times , so the list returned contains None 5 times\n"
      ]
    },
    {
      "cell_type": "code",
      "execution_count": null,
      "metadata": {
        "id": "-6iZweDHpmgu",
        "outputId": "73619eec-e2a7-451a-a84b-0e718bf5bbe5"
      },
      "outputs": [
        {
          "name": "stdout",
          "output_type": "stream",
          "text": [
            "[]\n"
          ]
        }
      ],
      "source": [
        "def f1():\n",
        "    pass\n",
        "\n",
        "mynums=[]\n",
        "print(list(map(f1,mynums)))\n"
      ]
    },
    {
      "cell_type": "markdown",
      "metadata": {
        "id": "yisiIPTLpmgu"
      },
      "source": [
        "The best use of Lambda Expression is to use it with map( ) and filter( ) functions\n",
        "\n",
        "\n",
        "\n",
        "\n",
        "Recall that the keyword lambda creates an anonymous function and returns it’s address.\n"
      ]
    },
    {
      "cell_type": "markdown",
      "metadata": {
        "id": "dKVHR32Upmgu"
      },
      "source": [
        "So , we can pass this lambda expression as first argument to map( ) and filter() functions , since their first argument is the a function object reference\n",
        "\n",
        "\n",
        "In this way , we wouldn’t be required to specially create a separate function using the keyword def\n"
      ]
    },
    {
      "cell_type": "code",
      "execution_count": null,
      "metadata": {
        "id": "Y7ENYEu9pmgu",
        "outputId": "5d452159-70b1-4232-c5ab-f03262bcd5a3"
      },
      "outputs": [
        {
          "name": "stdout",
          "output_type": "stream",
          "text": [
            "[1, 4, 9, 16, 25]\n"
          ]
        }
      ],
      "source": [
        "def square(num):\n",
        "    return num**2\n",
        "\n",
        "mynums=[1,2,3,4,5]\n",
        "squrnum=list(map(square,mynums))\n",
        "print(squrnum)\n"
      ]
    },
    {
      "cell_type": "code",
      "execution_count": null,
      "metadata": {
        "id": "SJ4wL4gFpmgv"
      },
      "outputs": [],
      "source": [
        "#To convert the above code using lambda ,we have to do 2 changes:\n",
        "\n",
        "#Remove the function square( )\n",
        "\n",
        "#Rewrite this function as lambda in place of first argument while calling the function map( )\n"
      ]
    },
    {
      "cell_type": "code",
      "execution_count": null,
      "metadata": {
        "id": "ftSVzTJnpmgv"
      },
      "outputs": [],
      "source": [
        "map(lambda num: num*num,mynums)"
      ]
    },
    {
      "cell_type": "code",
      "execution_count": null,
      "metadata": {
        "id": "RSvJq_OIpmgv",
        "outputId": "f81c5e9d-f97e-4256-8e8d-526c7769164f"
      },
      "outputs": [
        {
          "name": "stdout",
          "output_type": "stream",
          "text": [
            "[1, 4, 9, 16, 25]\n"
          ]
        }
      ],
      "source": [
        "#Following will be the resultant code:\n",
        "\n",
        "mynums=[1,2,3,4,5]\n",
        "sqrnum=list(map(lambda num: num*num,mynums))\n",
        "print(sqrnum)\n"
      ]
    },
    {
      "cell_type": "markdown",
      "metadata": {
        "id": "GmaYSgq5pmgv"
      },
      "source": [
        "### Exercise1"
      ]
    },
    {
      "cell_type": "markdown",
      "metadata": {
        "id": "NdfEOGA7pmgv"
      },
      "source": [
        "Write a lambda expression that accepts a string as argument and returns it’s first character\n",
        "\n",
        "Now use this lambda expression in map( ) function \n",
        "to work on for first 3 month names\n"
      ]
    },
    {
      "cell_type": "code",
      "execution_count": null,
      "metadata": {
        "id": "xNuIUuL6pmgv",
        "outputId": "8d18fee9-ecd7-4a5e-8b05-4ebbe7688d43"
      },
      "outputs": [
        {
          "data": {
            "text/plain": [
              "['b', 's', 'k']"
            ]
          },
          "execution_count": 56,
          "metadata": {},
          "output_type": "execute_result"
        }
      ],
      "source": [
        "list(map(lambda x:x[0],['bunny','sudhanshu','krish']))"
      ]
    },
    {
      "cell_type": "code",
      "execution_count": null,
      "metadata": {
        "id": "WcCMf5KSpmgv"
      },
      "outputs": [],
      "source": [
        "months=[\"January\",\"February\",\"March\"]\n",
        "print(list(map(lambda mystring: mystring[0],months)))\n",
        "\n"
      ]
    },
    {
      "cell_type": "markdown",
      "metadata": {
        "id": "nKfvQY0Rpmgv"
      },
      "source": [
        "### Exercise2"
      ]
    },
    {
      "cell_type": "markdown",
      "metadata": {
        "id": "UWXtUSHdpmgv"
      },
      "source": [
        "Write a lambda expression that accepts a string as argument and returns the word EVEN if the string is of even length and returns it’s first character if the string is of odd length\n",
        "\n",
        "Now use this lambda expression in map( ) function \n",
        "to work on for first 3 month names\n"
      ]
    },
    {
      "cell_type": "code",
      "execution_count": null,
      "metadata": {
        "id": "RM9VbveYpmgv",
        "outputId": "956c5406-95f1-4bf4-cfdf-b2f584dacf7d"
      },
      "outputs": [
        {
          "data": {
            "text/plain": [
              "['b', 'EVEN', 'k']"
            ]
          },
          "execution_count": 61,
          "metadata": {},
          "output_type": "execute_result"
        }
      ],
      "source": [
        "list(map(lambda x:\"EVEN\" if len(x)%2==0 else x[0],['bunny','sudhansh','krish']))"
      ]
    },
    {
      "cell_type": "code",
      "execution_count": null,
      "metadata": {
        "id": "F4qvSNFYpmgw"
      },
      "outputs": [],
      "source": [
        "months=[\"January\",\"February\",\"March\"]\n",
        "print(list(map(lambda mystring: \"EVEN\" if len(mystring)%2==0 else \n",
        "mystring[0],months)))\n",
        "\n"
      ]
    },
    {
      "cell_type": "markdown",
      "metadata": {
        "id": "tHP00lQypmgw"
      },
      "source": [
        "### Exercise3"
      ]
    },
    {
      "cell_type": "markdown",
      "metadata": {
        "id": "HScHV_8opmgw"
      },
      "source": [
        "Write a lambda expression that accepts a character as argument and returns True if it is a vowel otherwise False\n",
        "\n",
        "Now ask the user to input his/her name and display \n",
        "only the vowels in the name . In case the name does \n",
        "not contain any vowel display the message No vowels \n",
        "in your name\n"
      ]
    },
    {
      "cell_type": "code",
      "execution_count": null,
      "metadata": {
        "id": "NcDkrJ8cpmgw",
        "outputId": "21cc7aff-d6d5-4af5-e5ba-6bb9d26e299c"
      },
      "outputs": [
        {
          "name": "stdout",
          "output_type": "stream",
          "text": [
            "[2, 4, 6]\n"
          ]
        }
      ],
      "source": [
        "mynums=[1,2,3,4,5,6]\n",
        "print(list(filter(lambda num:num%2==0 ,mynums)))\n"
      ]
    },
    {
      "cell_type": "code",
      "execution_count": null,
      "metadata": {
        "id": "pTqUyaA1pmgw"
      },
      "outputs": [],
      "source": [
        "Write a lambda expression that accepts a character as argument and returns True if it is a vowel otherwise False\n",
        "\n",
        "Now ask the user to input his/her name and display \n",
        "only the vowels in the name . In case the name does \n",
        "not contain any vowel display the message No vowels \n",
        "in your name\n"
      ]
    },
    {
      "cell_type": "code",
      "execution_count": null,
      "metadata": {
        "id": "oaCTlNIfpmgw"
      },
      "outputs": [],
      "source": [
        "name=input(\"Enter your name:\")\n",
        "vowels=list(filter(lambda ch: ch in \"aeiou\" ,name))\n",
        "if len(vowels)==0:\n",
        "    print(\"No vowels in your name\")\n",
        "else:\n",
        "    print(\"Vowels in your name are:\",vowels)\n"
      ]
    },
    {
      "cell_type": "code",
      "execution_count": null,
      "metadata": {
        "id": "Zb4xYCTapmgw"
      },
      "outputs": [],
      "source": [
        "def between(number, min=0, max=1000):\n",
        "    return max > number > min\n",
        "\n",
        "# Only returns number between 10 and 1000\n",
        "filter(lambda x: between(x, min=10), range(10000))"
      ]
    },
    {
      "cell_type": "code",
      "execution_count": null,
      "metadata": {
        "id": "oV2kchH-pmgw"
      },
      "outputs": [],
      "source": [
        "a=42"
      ]
    },
    {
      "cell_type": "code",
      "execution_count": null,
      "metadata": {
        "id": "Yykqf_nvpmgw"
      },
      "outputs": [],
      "source": [
        "b=42"
      ]
    },
    {
      "cell_type": "code",
      "execution_count": null,
      "metadata": {
        "id": "ALlYNzoCpmgw"
      },
      "outputs": [],
      "source": [
        "c=42"
      ]
    },
    {
      "cell_type": "code",
      "execution_count": null,
      "metadata": {
        "id": "AvxvwyDVpmgx",
        "outputId": "0c83dea6-f471-4006-f5c0-fbde061525fc"
      },
      "outputs": [
        {
          "data": {
            "text/plain": [
              "140703981190208"
            ]
          },
          "execution_count": 66,
          "metadata": {},
          "output_type": "execute_result"
        }
      ],
      "source": [
        "id(a)"
      ]
    },
    {
      "cell_type": "code",
      "execution_count": null,
      "metadata": {
        "id": "zvoDoJT6pmgx",
        "outputId": "024c317b-d598-49c7-c8e0-9c62979e54c8"
      },
      "outputs": [
        {
          "data": {
            "text/plain": [
              "140703981190208"
            ]
          },
          "execution_count": 67,
          "metadata": {},
          "output_type": "execute_result"
        }
      ],
      "source": [
        "id(b)"
      ]
    },
    {
      "cell_type": "code",
      "execution_count": null,
      "metadata": {
        "id": "xlO3Lz45pmgx",
        "outputId": "98741031-9a64-4946-f837-960bd7a4563f"
      },
      "outputs": [
        {
          "data": {
            "text/plain": [
              "140703981190208"
            ]
          },
          "execution_count": 68,
          "metadata": {},
          "output_type": "execute_result"
        }
      ],
      "source": [
        "id(c)"
      ]
    },
    {
      "cell_type": "code",
      "execution_count": null,
      "metadata": {
        "id": "pjjLcpTfpmgx"
      },
      "outputs": [],
      "source": [
        "a=43"
      ]
    },
    {
      "cell_type": "code",
      "execution_count": null,
      "metadata": {
        "id": "co9VluEKpmgx",
        "outputId": "c8ca09fa-ab03-4bc9-81ff-9a450160d92f"
      },
      "outputs": [
        {
          "data": {
            "text/plain": [
              "140703981190240"
            ]
          },
          "execution_count": 70,
          "metadata": {},
          "output_type": "execute_result"
        }
      ],
      "source": [
        "id(a)"
      ]
    },
    {
      "cell_type": "code",
      "execution_count": null,
      "metadata": {
        "id": "Lu_f-VyOpmgx",
        "outputId": "ac43461c-e9e2-49a3-b935-d41f58ae7a67"
      },
      "outputs": [
        {
          "data": {
            "text/plain": [
              "140703981190208"
            ]
          },
          "execution_count": 71,
          "metadata": {},
          "output_type": "execute_result"
        }
      ],
      "source": [
        "id(b)"
      ]
    },
    {
      "cell_type": "code",
      "execution_count": null,
      "metadata": {
        "id": "dKe5CeUkpmgx",
        "outputId": "88153e66-a7f2-4b6e-ba9b-bd08a8d4fa64"
      },
      "outputs": [
        {
          "data": {
            "text/plain": [
              "140703981190208"
            ]
          },
          "execution_count": 72,
          "metadata": {},
          "output_type": "execute_result"
        }
      ],
      "source": [
        "id(c)"
      ]
    },
    {
      "cell_type": "code",
      "execution_count": null,
      "metadata": {
        "id": "5VebZfU5pmgx",
        "outputId": "8b1df559-342a-4f99-f9c0-ba0953aa10a9"
      },
      "outputs": [
        {
          "data": {
            "text/plain": [
              "42"
            ]
          },
          "execution_count": 73,
          "metadata": {},
          "output_type": "execute_result"
        }
      ],
      "source": [
        "b"
      ]
    },
    {
      "cell_type": "code",
      "execution_count": null,
      "metadata": {
        "id": "k878FxWSpmgy",
        "outputId": "d28a8e2c-5f17-444e-d848-2d1237fcbf05"
      },
      "outputs": [
        {
          "data": {
            "text/plain": [
              "42"
            ]
          },
          "execution_count": 74,
          "metadata": {},
          "output_type": "execute_result"
        }
      ],
      "source": [
        "c"
      ]
    },
    {
      "cell_type": "code",
      "execution_count": null,
      "metadata": {
        "id": "hGq7ii8Epmgy",
        "outputId": "bc2b4b9c-3a84-4f95-e3b5-f78b8330385c"
      },
      "outputs": [
        {
          "data": {
            "text/plain": [
              "43"
            ]
          },
          "execution_count": 75,
          "metadata": {},
          "output_type": "execute_result"
        }
      ],
      "source": [
        "a"
      ]
    },
    {
      "cell_type": "code",
      "execution_count": null,
      "metadata": {
        "id": "4lN9JVrfpmgy"
      },
      "outputs": [],
      "source": [
        "a=42"
      ]
    },
    {
      "cell_type": "code",
      "execution_count": null,
      "metadata": {
        "id": "c3cnRfFSpmgy",
        "outputId": "a1090365-e12f-44c4-c7d6-027d850f254d"
      },
      "outputs": [
        {
          "data": {
            "text/plain": [
              "140703981190208"
            ]
          },
          "execution_count": 77,
          "metadata": {},
          "output_type": "execute_result"
        }
      ],
      "source": [
        "id(a)"
      ]
    },
    {
      "cell_type": "code",
      "execution_count": null,
      "metadata": {
        "id": "UfAf-9SOpmgy"
      },
      "outputs": [],
      "source": [
        "a=10"
      ]
    },
    {
      "cell_type": "code",
      "execution_count": null,
      "metadata": {
        "id": "skRIw3Blpmgy",
        "outputId": "e9f0a7b5-2385-4456-bc27-ffe062219c72"
      },
      "outputs": [
        {
          "data": {
            "text/plain": [
              "140703981189184"
            ]
          },
          "execution_count": 79,
          "metadata": {},
          "output_type": "execute_result"
        }
      ],
      "source": [
        "id(a)"
      ]
    },
    {
      "cell_type": "code",
      "execution_count": null,
      "metadata": {
        "id": "_40oTKzIpmgy"
      },
      "outputs": [],
      "source": [
        "a=20"
      ]
    },
    {
      "cell_type": "code",
      "execution_count": null,
      "metadata": {
        "id": "73wJPsEEpmgy",
        "outputId": "967593bd-64d8-4659-a02b-55db9eedc0e6"
      },
      "outputs": [
        {
          "data": {
            "text/plain": [
              "140703981189504"
            ]
          },
          "execution_count": 81,
          "metadata": {},
          "output_type": "execute_result"
        }
      ],
      "source": [
        "id(20)"
      ]
    },
    {
      "cell_type": "code",
      "execution_count": null,
      "metadata": {
        "id": "EoCexq2dpmgy"
      },
      "outputs": [],
      "source": [
        "a=30"
      ]
    },
    {
      "cell_type": "code",
      "execution_count": null,
      "metadata": {
        "id": "EOJzRncqpmgz",
        "outputId": "82e76aaf-dc8d-439d-be12-d71ce26e6542"
      },
      "outputs": [
        {
          "data": {
            "text/plain": [
              "140703981189824"
            ]
          },
          "execution_count": 84,
          "metadata": {},
          "output_type": "execute_result"
        }
      ],
      "source": [
        "id(a)"
      ]
    },
    {
      "cell_type": "code",
      "execution_count": null,
      "metadata": {
        "id": "eg3izAfPpmgz"
      },
      "outputs": [],
      "source": [
        "a=\"sunny\""
      ]
    },
    {
      "cell_type": "code",
      "execution_count": null,
      "metadata": {
        "id": "z9e_3uxUpmgz"
      },
      "outputs": [],
      "source": [
        "b=\"sudhanshu\""
      ]
    },
    {
      "cell_type": "code",
      "execution_count": null,
      "metadata": {
        "id": "ym3m2MC8pmgz",
        "outputId": "d1e270a6-783d-4df2-ab76-c00ab04e78b6"
      },
      "outputs": [
        {
          "data": {
            "text/plain": [
              "False"
            ]
          },
          "execution_count": 87,
          "metadata": {},
          "output_type": "execute_result"
        }
      ],
      "source": [
        "a is b"
      ]
    },
    {
      "cell_type": "code",
      "execution_count": null,
      "metadata": {
        "id": "IKqwbIfFpmgz",
        "outputId": "cda507b5-1f65-4a29-ad56-4ebfa2f7f386"
      },
      "outputs": [
        {
          "data": {
            "text/plain": [
              "2130760172912"
            ]
          },
          "execution_count": 88,
          "metadata": {},
          "output_type": "execute_result"
        }
      ],
      "source": [
        "id(a)"
      ]
    },
    {
      "cell_type": "code",
      "execution_count": null,
      "metadata": {
        "id": "9th1UUK8pmgz",
        "outputId": "b98c8ccf-b692-401e-cdb3-a01e5d9c43a8"
      },
      "outputs": [
        {
          "data": {
            "text/plain": [
              "2130793892016"
            ]
          },
          "execution_count": 89,
          "metadata": {},
          "output_type": "execute_result"
        }
      ],
      "source": [
        "id(b)"
      ]
    },
    {
      "cell_type": "code",
      "execution_count": null,
      "metadata": {
        "id": "0C4AkXMHpmgz"
      },
      "outputs": [],
      "source": [
        "a=\"ravi\""
      ]
    },
    {
      "cell_type": "code",
      "execution_count": null,
      "metadata": {
        "id": "DIwoxpMgpmgz"
      },
      "outputs": [],
      "source": [
        "b=\"ravi\""
      ]
    },
    {
      "cell_type": "code",
      "execution_count": null,
      "metadata": {
        "id": "EAplARv4pmgz",
        "outputId": "5405dc4e-e7de-4bf6-f5c8-206e5b39c2ae"
      },
      "outputs": [
        {
          "data": {
            "text/plain": [
              "True"
            ]
          },
          "execution_count": 92,
          "metadata": {},
          "output_type": "execute_result"
        }
      ],
      "source": [
        "a is b"
      ]
    },
    {
      "cell_type": "code",
      "execution_count": null,
      "metadata": {
        "id": "1AAShGBgpmg0",
        "outputId": "0ad9b747-ebb5-4591-db9e-4986a04035d9"
      },
      "outputs": [
        {
          "data": {
            "text/plain": [
              "2130794293872"
            ]
          },
          "execution_count": 93,
          "metadata": {},
          "output_type": "execute_result"
        }
      ],
      "source": [
        "id(a)"
      ]
    },
    {
      "cell_type": "code",
      "execution_count": null,
      "metadata": {
        "id": "Mx42yBHZpmg0",
        "outputId": "97304cca-b314-47f4-8c7d-d653175631da"
      },
      "outputs": [
        {
          "data": {
            "text/plain": [
              "2130794293872"
            ]
          },
          "execution_count": 94,
          "metadata": {},
          "output_type": "execute_result"
        }
      ],
      "source": [
        "id(b)"
      ]
    },
    {
      "cell_type": "code",
      "execution_count": null,
      "metadata": {
        "id": "uWJicbPEpmg0"
      },
      "outputs": [],
      "source": [
        "a=[1,2,3,4,5]"
      ]
    },
    {
      "cell_type": "code",
      "execution_count": null,
      "metadata": {
        "id": "yyH4qQ2zpmg0",
        "outputId": "807000ef-3abb-4e65-895e-c9d46fbb23ae"
      },
      "outputs": [
        {
          "data": {
            "text/plain": [
              "2130794313536"
            ]
          },
          "execution_count": 96,
          "metadata": {},
          "output_type": "execute_result"
        }
      ],
      "source": [
        "id(a)"
      ]
    },
    {
      "cell_type": "code",
      "execution_count": null,
      "metadata": {
        "id": "kvX9QPsYpmg0",
        "outputId": "791d954e-8521-4617-b438-3b150913b6b4"
      },
      "outputs": [
        {
          "data": {
            "text/plain": [
              "list"
            ]
          },
          "execution_count": 97,
          "metadata": {},
          "output_type": "execute_result"
        }
      ],
      "source": [
        "type(a)"
      ]
    },
    {
      "cell_type": "code",
      "execution_count": null,
      "metadata": {
        "id": "KclygvDSpmg0"
      },
      "outputs": [],
      "source": [
        "a[3]=7"
      ]
    },
    {
      "cell_type": "code",
      "execution_count": null,
      "metadata": {
        "id": "V43cASpYpmg0",
        "outputId": "56cd8541-5ffd-467e-cec8-66f02ef2b51e"
      },
      "outputs": [
        {
          "data": {
            "text/plain": [
              "[1, 2, 3, 7, 5]"
            ]
          },
          "execution_count": 99,
          "metadata": {},
          "output_type": "execute_result"
        }
      ],
      "source": [
        "a"
      ]
    },
    {
      "cell_type": "code",
      "execution_count": null,
      "metadata": {
        "id": "2mUzh2x4pmg0",
        "outputId": "a94576f5-351e-48c9-db84-2835824e4ec2"
      },
      "outputs": [
        {
          "data": {
            "text/plain": [
              "2130794313536"
            ]
          },
          "execution_count": 100,
          "metadata": {},
          "output_type": "execute_result"
        }
      ],
      "source": [
        "id(a)"
      ]
    },
    {
      "cell_type": "code",
      "execution_count": null,
      "metadata": {
        "id": "pqGE8AW3pmg1"
      },
      "outputs": [],
      "source": [
        "a=42"
      ]
    },
    {
      "cell_type": "code",
      "execution_count": null,
      "metadata": {
        "id": "0akJTH9Apmg1",
        "outputId": "13cbdaa9-2bf8-4232-9b96-aef245f68409"
      },
      "outputs": [
        {
          "data": {
            "text/plain": [
              "140703981190208"
            ]
          },
          "execution_count": 102,
          "metadata": {},
          "output_type": "execute_result"
        }
      ],
      "source": [
        "id(a)"
      ]
    },
    {
      "cell_type": "code",
      "execution_count": null,
      "metadata": {
        "id": "rjdF_DIHpmg1"
      },
      "outputs": [],
      "source": [
        "a=43"
      ]
    },
    {
      "cell_type": "code",
      "execution_count": null,
      "metadata": {
        "id": "jvcmI_Thpmg1",
        "outputId": "8a5cf827-3735-44fc-9a1c-0cf81e7b56d6"
      },
      "outputs": [
        {
          "data": {
            "text/plain": [
              "140703981190240"
            ]
          },
          "execution_count": 104,
          "metadata": {},
          "output_type": "execute_result"
        }
      ],
      "source": [
        "id(a)"
      ]
    },
    {
      "cell_type": "code",
      "execution_count": null,
      "metadata": {
        "id": "1DXa4rw2pmg1"
      },
      "outputs": [],
      "source": [
        "tup=(1,2,3,4,5)"
      ]
    },
    {
      "cell_type": "code",
      "execution_count": null,
      "metadata": {
        "id": "Yf3xc2TBpmg1",
        "outputId": "59c59bf7-5d2b-4456-c354-900fef291fba"
      },
      "outputs": [
        {
          "ename": "TypeError",
          "evalue": "'tuple' object does not support item assignment",
          "output_type": "error",
          "traceback": [
            "\u001b[1;31m---------------------------------------------------------------------------\u001b[0m",
            "\u001b[1;31mTypeError\u001b[0m                                 Traceback (most recent call last)",
            "\u001b[1;32m<ipython-input-106-79950056ad54>\u001b[0m in \u001b[0;36m<module>\u001b[1;34m\u001b[0m\n\u001b[1;32m----> 1\u001b[1;33m \u001b[0mtup\u001b[0m\u001b[1;33m[\u001b[0m\u001b[1;36m0\u001b[0m\u001b[1;33m]\u001b[0m\u001b[1;33m=\u001b[0m\u001b[1;36m4\u001b[0m\u001b[1;33m\u001b[0m\u001b[1;33m\u001b[0m\u001b[0m\n\u001b[0m",
            "\u001b[1;31mTypeError\u001b[0m: 'tuple' object does not support item assignment"
          ]
        }
      ],
      "source": [
        "tup[0]=4"
      ]
    },
    {
      "cell_type": "code",
      "execution_count": null,
      "metadata": {
        "id": "lo9ML0BYpmg1",
        "outputId": "3e7c9975-8f3d-470c-d961-cf961959c5fc"
      },
      "outputs": [
        {
          "data": {
            "text/plain": [
              "2130761246416"
            ]
          },
          "execution_count": 107,
          "metadata": {},
          "output_type": "execute_result"
        }
      ],
      "source": [
        "id(tup)"
      ]
    },
    {
      "cell_type": "code",
      "execution_count": null,
      "metadata": {
        "id": "ldFeZWk-pmg1"
      },
      "outputs": [],
      "source": [
        "tup=(787,87348,98734985)"
      ]
    },
    {
      "cell_type": "code",
      "execution_count": null,
      "metadata": {
        "id": "wPe43n82pmg1",
        "outputId": "efb2c79b-1ef6-4103-ffe7-b905bd36fefa"
      },
      "outputs": [
        {
          "data": {
            "text/plain": [
              "2130793806976"
            ]
          },
          "execution_count": 109,
          "metadata": {},
          "output_type": "execute_result"
        }
      ],
      "source": [
        "id(tup)"
      ]
    },
    {
      "cell_type": "code",
      "execution_count": null,
      "metadata": {
        "id": "uQJC-5Hlpmg1"
      },
      "outputs": [],
      "source": [
        ""
      ]
    }
  ],
  "metadata": {
    "colab": {
      "collapsed_sections": [],
      "name": "07 Functions_Revision.ipynb",
      "provenance": []
    },
    "kernelspec": {
      "display_name": "Python 3",
      "language": "python",
      "name": "python3"
    },
    "language_info": {
      "codemirror_mode": {
        "name": "ipython",
        "version": 3
      },
      "file_extension": ".py",
      "mimetype": "text/x-python",
      "name": "python",
      "nbconvert_exporter": "python",
      "pygments_lexer": "ipython3",
      "version": "3.8.3"
    }
  },
  "nbformat": 4,
  "nbformat_minor": 0
}