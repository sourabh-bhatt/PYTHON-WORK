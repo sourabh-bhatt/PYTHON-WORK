{
 "cells": [
  {
   "cell_type": "markdown",
   "id": "751d7541",
   "metadata": {},
   "source": [
    "# 1. What is the result of the code, and why?\n",
    "    >>> def func(a, b=6, c=8):\n",
    "            print(a, b, c)\n",
    "    >>> func(1, 2)\n",
    "\n"
   ]
  },
  {
   "cell_type": "code",
   "execution_count": 7,
   "id": "b840f037",
   "metadata": {},
   "outputs": [
    {
     "name": "stdout",
     "output_type": "stream",
     "text": [
      "1 2 8\n"
     ]
    }
   ],
   "source": [
    "#in this the func is being overrided by the local call and it prints 1,2,8\n",
    "def func(a,b=6,c=8):\n",
    "    print(a,b,c)\n",
    "func(1,2)"
   ]
  },
  {
   "cell_type": "markdown",
   "id": "df2b65dd",
   "metadata": {},
   "source": [
    "# 2. What is the result of this code, and why?\n",
    "    >>> def func(a, b, c=5):\n",
    "            print(a, b, c)\n",
    "    >>> func(1, c=3, b=2)"
   ]
  },
  {
   "cell_type": "code",
   "execution_count": 23,
   "id": "2a653410",
   "metadata": {},
   "outputs": [
    {
     "name": "stdout",
     "output_type": "stream",
     "text": [
      "1 2 3\n"
     ]
    }
   ],
   "source": [
    "\"\"\"The parameter b is passed before parameter c. So, it will remain at the same position as it was. \"\"\"\n",
    "def func(a, b, c=5):\n",
    "    print(a, b, c)\n",
    "func(1, c=3, b=2)"
   ]
  },
  {
   "cell_type": "markdown",
   "id": "d4610606",
   "metadata": {},
   "source": [
    "# 3. How about this code: what is its result, and why?\n",
    "    >>> def func(a, *pargs):\n",
    "            print(a, pargs)\n",
    "    >>> func(1, 2, 3)"
   ]
  },
  {
   "cell_type": "code",
   "execution_count": 24,
   "id": "1fbc6438",
   "metadata": {},
   "outputs": [
    {
     "name": "stdout",
     "output_type": "stream",
     "text": [
      "1 (2, 3)\n"
     ]
    }
   ],
   "source": [
    "\"\"\"The parameter *pargs can take multiple arguments as it is passed as argument not as parameters. Hence the first value only will be of 'a' and rest will be of multiple arguments *pargs \"\"\"\n",
    "def func(a, *pargs):\n",
    "    print(a, pargs)\n",
    "func(1, 2, 3)"
   ]
  },
  {
   "cell_type": "markdown",
   "id": "17bb04d1",
   "metadata": {},
   "source": [
    "# 4. What does this code print, and why?\n",
    "    >>> def func(a, **kargs):\n",
    "            print(a, kargs)\n",
    "    >>> func(a=1, c=3, b=2)\n"
   ]
  },
  {
   "cell_type": "code",
   "execution_count": 19,
   "id": "91c1886f",
   "metadata": {},
   "outputs": [
    {
     "name": "stdout",
     "output_type": "stream",
     "text": [
      "1 {'c': 3, 'b': 2}\n"
     ]
    }
   ],
   "source": [
    "\"\"\"The keyword\"\"\"\n",
    "def func(a, **kargs):\n",
    "    print(a, kargs)\n",
    "func(a=1, c=3, b=2)"
   ]
  },
  {
   "cell_type": "markdown",
   "id": "ed43e3e7",
   "metadata": {},
   "source": [
    "# 5. What gets printed by this, and explain?\n",
    "    >>> def func(a, b, c=8, d=5): print(a, b, c, d)\n",
    "    >>> func(1, *(5, 6))\n"
   ]
  },
  {
   "cell_type": "code",
   "execution_count": 20,
   "id": "be9b4f19",
   "metadata": {},
   "outputs": [
    {
     "name": "stdout",
     "output_type": "stream",
     "text": [
      "1 5 6 5\n"
     ]
    }
   ],
   "source": [
    "def func(a, b, c=8, d=5): \n",
    "    print(a, b, c, d)\n",
    "func(1, *(5, 6))"
   ]
  },
  {
   "cell_type": "markdown",
   "id": "e599a05a",
   "metadata": {},
   "source": [
    "# 6. what is the result of this, and explain?\n",
    "    >>> def func(a, b, c): a = 2; b[0] = 'x'; c['a'] = 'y'\n",
    "    >>> l=1; m=[1]; n={'a':0}\n",
    "    >>> func(l, m, n)\n",
    "    >>> l, m, n"
   ]
  },
  {
   "cell_type": "code",
   "execution_count": 21,
   "id": "bda64699",
   "metadata": {},
   "outputs": [
    {
     "data": {
      "text/plain": [
       "(1, ['x'], {'a': 'y'})"
      ]
     },
     "execution_count": 21,
     "metadata": {},
     "output_type": "execute_result"
    }
   ],
   "source": [
    "def func(a, b, c): \n",
    "    a = 2; \n",
    "    b[0] = 'x'; \n",
    "    c['a'] = 'y'\n",
    "    l=1; \n",
    "    m=[1]; \n",
    "    n={'a':0}\n",
    "func(l, m, n)\n",
    "l, m, n"
   ]
  },
  {
   "cell_type": "code",
   "execution_count": null,
   "id": "27136a01",
   "metadata": {},
   "outputs": [],
   "source": []
  }
 ],
 "metadata": {
  "kernelspec": {
   "display_name": "Python 3 (ipykernel)",
   "language": "python",
   "name": "python3"
  },
  "language_info": {
   "codemirror_mode": {
    "name": "ipython",
    "version": 3
   },
   "file_extension": ".py",
   "mimetype": "text/x-python",
   "name": "python",
   "nbconvert_exporter": "python",
   "pygments_lexer": "ipython3",
   "version": "3.9.12"
  }
 },
 "nbformat": 4,
 "nbformat_minor": 5
}
